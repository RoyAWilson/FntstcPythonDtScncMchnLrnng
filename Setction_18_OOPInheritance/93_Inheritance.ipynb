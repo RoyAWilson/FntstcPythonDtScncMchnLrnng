{
 "cells": [
  {
   "cell_type": "code",
   "execution_count": 11,
   "metadata": {},
   "outputs": [],
   "source": [
    "# A different approach: incorporate and use the Parent's constructor:\n",
    "\n",
    "class Person():\n",
    "    def __init__(self, name:str, age: float):\n",
    "        self.name = name\n",
    "        self.age = age\n",
    "        \n",
    "    def greet(self) -> str:\n",
    "        print(f'Hi, {self.name}')\n",
    "    \n",
    "    # Define a function to replace repr:\n",
    "    \n",
    "    def __repr__(self) -> str:\n",
    "        return f'({self.name}, {self.age})'\n",
    "\n",
    "    def walk(self) -> str:\n",
    "        print(f'{self.name} is walking')\n",
    "    \n",
    "    \n",
    "class Teacher(Person):\n",
    "    \n",
    "    def __init__(self, name: str, age: float, school: str):\n",
    "        self.school = school\n",
    "        super().__init__(name, age)\n",
    "        \n",
    "        \n",
    "    def teach(self):\n",
    "        print(f'{self.name} is currently teaching in a class, in {self.school}')\n",
    "        \n",
    "# another way to inherit the init from parent.\n",
    "\n",
    "class Teacher2(Person):\n",
    "    \n",
    "    def __init__(self, name: str, age: float, school: str):\n",
    "        self.school = school\n",
    "        Person.__init__(self, name, age)\n",
    "        \n",
    "        \n",
    "    def teach(self):\n",
    "        print(f'{self.name} is currently teaching in a class, in {self.school}')\n",
    "        \n",
    "# Define a class English Teacher:\n",
    "# Dom't know why not just add  a subject area to teacher?\n",
    "    \n",
    "class English_teacher(Teacher):\n",
    "    def __init__(self, name, age, school, grade):\n",
    "        super().__init__(name, age, school)\n",
    "        self.grade = grade\n",
    "        \n",
    "    def tutoring(self, student):\n",
    "        self.student = student\n",
    "        print(f'{self.name} is tutoring {self.student}')\n",
    "        \n",
    "        \n",
    "    "
   ]
  },
  {
   "cell_type": "code",
   "execution_count": 12,
   "metadata": {},
   "outputs": [],
   "source": [
    "t1 = Teacher('Joey', 34, 'Middleton High School')"
   ]
  },
  {
   "cell_type": "code",
   "execution_count": 13,
   "metadata": {},
   "outputs": [
    {
     "data": {
      "text/plain": [
       "(Joey, 34)"
      ]
     },
     "execution_count": 13,
     "metadata": {},
     "output_type": "execute_result"
    }
   ],
   "source": [
    "t1"
   ]
  },
  {
   "cell_type": "code",
   "execution_count": 14,
   "metadata": {},
   "outputs": [],
   "source": [
    "t2 = Teacher('Graham', 50.5, 'St Stevens')"
   ]
  },
  {
   "cell_type": "code",
   "execution_count": 15,
   "metadata": {},
   "outputs": [
    {
     "data": {
      "text/plain": [
       "(Graham, 50.5)"
      ]
     },
     "execution_count": 15,
     "metadata": {},
     "output_type": "execute_result"
    }
   ],
   "source": [
    "t2"
   ]
  },
  {
   "cell_type": "code",
   "execution_count": 16,
   "metadata": {},
   "outputs": [
    {
     "name": "stdout",
     "output_type": "stream",
     "text": [
      "Linsa is currently teaching in a class, in Middleton High\n"
     ]
    }
   ],
   "source": [
    "t3 = Teacher('Linsa', 39, 'Middleton High')\n",
    "t3.teach()"
   ]
  },
  {
   "cell_type": "code",
   "execution_count": 17,
   "metadata": {},
   "outputs": [],
   "source": [
    "t4 = Teacher2('Randy', 27.5, 'Middleton High')"
   ]
  },
  {
   "cell_type": "code",
   "execution_count": 18,
   "metadata": {},
   "outputs": [
    {
     "name": "stdout",
     "output_type": "stream",
     "text": [
      "Randy is currently teaching in a class, in Middleton High\n"
     ]
    }
   ],
   "source": [
    "t4.teach()"
   ]
  },
  {
   "cell_type": "code",
   "execution_count": 19,
   "metadata": {},
   "outputs": [
    {
     "name": "stdout",
     "output_type": "stream",
     "text": [
      "(John Kennedy, 40)\n"
     ]
    }
   ],
   "source": [
    "john = English_teacher('John Kennedy', 40, 'Middleton High', 12)\n",
    "print(john)"
   ]
  },
  {
   "cell_type": "code",
   "execution_count": 20,
   "metadata": {},
   "outputs": [
    {
     "name": "stdout",
     "output_type": "stream",
     "text": [
      "John Kennedy is walking\n"
     ]
    }
   ],
   "source": [
    "john.walk()"
   ]
  },
  {
   "cell_type": "code",
   "execution_count": 21,
   "metadata": {},
   "outputs": [
    {
     "name": "stdout",
     "output_type": "stream",
     "text": [
      "John Kennedy is currently teaching in a class, in Middleton High\n"
     ]
    }
   ],
   "source": [
    "john.teach()\n"
   ]
  },
  {
   "cell_type": "code",
   "execution_count": 22,
   "metadata": {},
   "outputs": [
    {
     "name": "stdout",
     "output_type": "stream",
     "text": [
      "John Kennedy is tutoring Judy\n"
     ]
    }
   ],
   "source": [
    "john.tutoring('Judy')"
   ]
  },
  {
   "cell_type": "code",
   "execution_count": null,
   "metadata": {},
   "outputs": [],
   "source": []
  },
  {
   "cell_type": "code",
   "execution_count": null,
   "metadata": {},
   "outputs": [],
   "source": []
  }
 ],
 "metadata": {
  "kernelspec": {
   "display_name": "Python 3",
   "language": "python",
   "name": "python3"
  },
  "language_info": {
   "codemirror_mode": {
    "name": "ipython",
    "version": 3
   },
   "file_extension": ".py",
   "mimetype": "text/x-python",
   "name": "python",
   "nbconvert_exporter": "python",
   "pygments_lexer": "ipython3",
   "version": "3.12.0"
  }
 },
 "nbformat": 4,
 "nbformat_minor": 2
}
