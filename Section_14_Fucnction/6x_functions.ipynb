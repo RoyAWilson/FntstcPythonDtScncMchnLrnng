{
 "cells": [
  {
   "cell_type": "markdown",
   "metadata": {},
   "source": [
    "# Section 14:  Funcions:"
   ]
  },
  {
   "cell_type": "markdown",
   "metadata": {},
   "source": [
    "### Lecture 66:  What are function?\n",
    "### Lecture 67:  Function Arguments:  Positional or Named?\n",
    "### Lecture 68:  Default versus Compulsory Arguments\n",
    "### Lecture 69:  The Order of Arguments Matters and Common Mistakes\n",
    "### Lecture 70:  Python Fun:  The Harry Potter Challenge\n",
    "### Lecture 71:  Python Stamdard Library Math\n",
    "### Lecture 72:  Python Standard Library Random\n",
    "### Lecture 73:  The mystery of *Args\n",
    "### Lecture 74:  Recursive Functions (HORROR!) Advanced / Optional\n",
    "### Lecture 75:  Functions are Objects Too"
   ]
  },
  {
   "cell_type": "markdown",
   "metadata": {},
   "source": [
    "## Lecture 67"
   ]
  },
  {
   "cell_type": "code",
   "execution_count": 4,
   "metadata": {},
   "outputs": [
    {
     "name": "stdout",
     "output_type": "stream",
     "text": [
      "10\n"
     ]
    }
   ],
   "source": [
    "# Function to add 4 numbers together:\n",
    "def add(a, b, c, d):\n",
    "    return a+b+c+d\n",
    "\n",
    "print(add(1, 2, 3,4))"
   ]
  },
  {
   "cell_type": "code",
   "execution_count": 6,
   "metadata": {},
   "outputs": [
    {
     "name": "stdout",
     "output_type": "stream",
     "text": [
      "6\n"
     ]
    }
   ],
   "source": [
    "# Function to add 4 numbers together giving default values for missing arguments:\n",
    "def add2(a=0, b=0, c=0, d=0):\n",
    "    return a+b+c+d\n",
    "print(add2(1,2,3))"
   ]
  },
  {
   "cell_type": "code",
   "execution_count": 12,
   "metadata": {},
   "outputs": [
    {
     "name": "stdout",
     "output_type": "stream",
     "text": [
      "1.6\n"
     ]
    }
   ],
   "source": [
    "# Define functin to add 2 numbers and divide the sum.  To show difference in positional arguments and named/keyword arguments\n",
    "def calc1(a, b, c):\n",
    "    return (a-b) / c\n",
    "print(calc1(10, 2, 5))"
   ]
  },
  {
   "cell_type": "code",
   "execution_count": 11,
   "metadata": {},
   "outputs": [
    {
     "name": "stdout",
     "output_type": "stream",
     "text": [
      "1.6\n"
     ]
    }
   ],
   "source": [
    "print(calc1(c=5, b=2, a=10))"
   ]
  },
  {
   "cell_type": "markdown",
   "metadata": {},
   "source": [
    "### Lecture 68 Default versus Compulsory arguments:"
   ]
  },
  {
   "cell_type": "code",
   "execution_count": 15,
   "metadata": {},
   "outputs": [
    {
     "name": "stdout",
     "output_type": "stream",
     "text": [
      "Hello World \n"
     ]
    }
   ],
   "source": [
    "# Function to concatinate strings together\n",
    "\n",
    "def concat(s1='Hello', s2='World', s3=''):\n",
    "    print(f'{s1 + ' ' + s2 + ' '+ s3}')\n",
    "concat()"
   ]
  },
  {
   "cell_type": "code",
   "execution_count": 16,
   "metadata": {},
   "outputs": [
    {
     "name": "stdout",
     "output_type": "stream",
     "text": [
      "hey World \n"
     ]
    }
   ],
   "source": [
    "concat('hey')"
   ]
  },
  {
   "cell_type": "code",
   "execution_count": 17,
   "metadata": {},
   "outputs": [
    {
     "name": "stdout",
     "output_type": "stream",
     "text": [
      "Good Morning Mr Smith \n"
     ]
    }
   ],
   "source": [
    "concat('Good Morning', 'Mr Smith')"
   ]
  },
  {
   "cell_type": "code",
   "execution_count": 21,
   "metadata": {},
   "outputs": [
    {
     "name": "stdout",
     "output_type": "stream",
     "text": [
      "90000\n",
      "0\n"
     ]
    }
   ],
   "source": [
    "# Mixing default and non-default arguments\n",
    "def calc2(a, b, c=0):\n",
    "    result = (a + b) * c\n",
    "    return result\n",
    "print(calc2(a=100, b=200, c=300))\n",
    "print(calc2(a=100, b=200))"
   ]
  },
  {
   "cell_type": "markdown",
   "metadata": {},
   "source": [
    "### Lecture 69 Order of arguments and common mistakes:\n",
    "\n",
    "Goes through that default value arguments should always follow non-default arguments and shows the\n",
    "error messages that come up if transposed."
   ]
  },
  {
   "cell_type": "code",
   "execution_count": null,
   "metadata": {},
   "outputs": [],
   "source": []
  }
 ],
 "metadata": {
  "kernelspec": {
   "display_name": "Python 3",
   "language": "python",
   "name": "python3"
  },
  "language_info": {
   "codemirror_mode": {
    "name": "ipython",
    "version": 3
   },
   "file_extension": ".py",
   "mimetype": "text/x-python",
   "name": "python",
   "nbconvert_exporter": "python",
   "pygments_lexer": "ipython3",
   "version": "3.12.0"
  }
 },
 "nbformat": 4,
 "nbformat_minor": 2
}
