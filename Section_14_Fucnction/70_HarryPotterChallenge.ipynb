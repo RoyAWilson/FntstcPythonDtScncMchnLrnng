{
 "cells": [
  {
   "cell_type": "markdown",
   "metadata": {},
   "source": [
    "# Lecture 70 - Harry Potter Challenge\n",
    "\n",
    "Given a list of character names from Harry Potter, write a function to combine the first and last names and save in a new list."
   ]
  },
  {
   "cell_type": "code",
   "execution_count": 7,
   "metadata": {},
   "outputs": [
    {
     "name": "stdout",
     "output_type": "stream",
     "text": [
      "[('Harry', 'Potter'), ('Hermione', 'Granger'), ('Ron', 'Weasley'), ('Reubus', 'Hagrid'), ('Severus', 'Snape'), ('Ginny', 'Weasley')]\n"
     ]
    }
   ],
   "source": [
    "first_names = ['Harry', 'Hermione', 'Ron', 'Reubus', 'Severus', 'Ginny']\n",
    "last_names = ['Potter', 'Granger', 'Weasley', 'Hagrid', 'Snape', 'Weasley']\n",
    "\n",
    "def full_names(f_names, l_names):\n",
    "    '''\n",
    "    To combine first and last names into a new list using a loop\n",
    "    '''\n",
    "    fl_names = []\n",
    "    # Tutor did this one with concatination then appended concatinated values to\n",
    "    # list and didn't have them as tuples but rather text values in the list\n",
    "    for i in range(0, len(f_names)):\n",
    "        fl_names.append((f_names[i], l_names[i]))\n",
    "        # print(fl_names[i])\n",
    "    return fl_names\n",
    "\n",
    "print(full_names(first_names, last_names))"
   ]
  },
  {
   "cell_type": "code",
   "execution_count": 5,
   "metadata": {},
   "outputs": [
    {
     "name": "stdout",
     "output_type": "stream",
     "text": [
      "[('Harry', 'Potter'), ('Hermione', 'Granger'), ('Ron', 'Weasley'), ('Reubus', 'Hagrid'), ('Severus', 'Snape'), ('Ginny', 'Weasley')]\n"
     ]
    }
   ],
   "source": [
    "def full_names_zip(frst_name, lst_name):\n",
    "    fll_name =  [zip(first_names, last_names)]\n",
    "print(full_names(first_names, last_names))"
   ]
  },
  {
   "cell_type": "code",
   "execution_count": 10,
   "metadata": {},
   "outputs": [
    {
     "name": "stdout",
     "output_type": "stream",
     "text": [
      "['Harry Potter', 'Hermione Granger', 'Ron Weasley', 'Reubus Hagrid', 'Severus Snape', 'Ginny Weasley']\n"
     ]
    }
   ],
   "source": [
    "# Tutor's solution zips the lists then splits them out into strings:\n",
    "\n",
    "def combine_names(list_1, list_2):\n",
    "    zipped_list = zip(list_1, list_2)\n",
    "    result = [items[0] + ' ' + items[1] for items in zipped_list]\n",
    "    return result\n",
    "print(combine_names(first_names, last_names))"
   ]
  },
  {
   "cell_type": "code",
   "execution_count": null,
   "metadata": {},
   "outputs": [],
   "source": []
  }
 ],
 "metadata": {
  "kernelspec": {
   "display_name": "Python 3",
   "language": "python",
   "name": "python3"
  },
  "language_info": {
   "codemirror_mode": {
    "name": "ipython",
    "version": 3
   },
   "file_extension": ".py",
   "mimetype": "text/x-python",
   "name": "python",
   "nbconvert_exporter": "python",
   "pygments_lexer": "ipython3",
   "version": "3.12.0"
  }
 },
 "nbformat": 4,
 "nbformat_minor": 2
}
