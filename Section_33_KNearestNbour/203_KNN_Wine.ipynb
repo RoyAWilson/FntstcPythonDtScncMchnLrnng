{
 "cells": [
  {
   "cell_type": "markdown",
   "metadata": {},
   "source": [
    "# Section 33 Part 3:  K-Nearest Neighbour Algorithm Wine and Penguis\n",
    "#### Lecture 202:  The Main Idea\n",
    "#### Lecture 203:  Data Preprocessing Wine\n",
    "#### Lecture 204:  Fit the KNN Classifier (Wine)\n",
    "#### Lecture 205:  KNN Regression Penguins\n",
    "#### Lecture 206:  Hyper-perameter Tuning by Hand\n",
    "#### Lecture 207:  Hyper-peraneter Tuning via GridSearchCV"
   ]
  },
  {
   "cell_type": "code",
   "execution_count": 73,
   "metadata": {},
   "outputs": [],
   "source": [
    "import pandas as pd\n",
    "import numpy as np\n",
    "import seaborn as sns\n",
    "import matplotlib.pyplot as plt\n",
    "import warnings\n",
    "\n",
    "from sklearn.neighbors import KNeighborsClassifier, KNeighborsRegressor\n",
    "from sklearn.decomposition import PCA\n",
    "from sklearn.preprocessing import StandardScaler\n",
    "from sklearn.model_selection import train_test_split, GridSearchCV\n",
    "from sklearn import metrics\n",
    "from sklearn.metrics import ConfusionMatrixDisplay\n",
    "\n",
    "from sklearn.datasets import load_wine\n",
    "\n",
    "warnings.filterwarnings('ignore')"
   ]
  },
  {
   "cell_type": "markdown",
   "metadata": {},
   "source": [
    "#### Example:  Wine Classification:"
   ]
  },
  {
   "cell_type": "code",
   "execution_count": 74,
   "metadata": {},
   "outputs": [],
   "source": [
    "X, y = load_wine(return_X_y = True, as_frame = True)"
   ]
  },
  {
   "cell_type": "code",
   "execution_count": 75,
   "metadata": {},
   "outputs": [
    {
     "data": {
      "text/html": [
       "<div>\n",
       "<style scoped>\n",
       "    .dataframe tbody tr th:only-of-type {\n",
       "        vertical-align: middle;\n",
       "    }\n",
       "\n",
       "    .dataframe tbody tr th {\n",
       "        vertical-align: top;\n",
       "    }\n",
       "\n",
       "    .dataframe thead th {\n",
       "        text-align: right;\n",
       "    }\n",
       "</style>\n",
       "<table border=\"1\" class=\"dataframe\">\n",
       "  <thead>\n",
       "    <tr style=\"text-align: right;\">\n",
       "      <th></th>\n",
       "      <th>alcohol</th>\n",
       "      <th>malic_acid</th>\n",
       "      <th>ash</th>\n",
       "      <th>alcalinity_of_ash</th>\n",
       "      <th>magnesium</th>\n",
       "      <th>total_phenols</th>\n",
       "      <th>flavanoids</th>\n",
       "      <th>nonflavanoid_phenols</th>\n",
       "      <th>proanthocyanins</th>\n",
       "      <th>color_intensity</th>\n",
       "      <th>hue</th>\n",
       "      <th>od280/od315_of_diluted_wines</th>\n",
       "      <th>proline</th>\n",
       "    </tr>\n",
       "  </thead>\n",
       "  <tbody>\n",
       "    <tr>\n",
       "      <th>0</th>\n",
       "      <td>14.23</td>\n",
       "      <td>1.71</td>\n",
       "      <td>2.43</td>\n",
       "      <td>15.6</td>\n",
       "      <td>127.0</td>\n",
       "      <td>2.80</td>\n",
       "      <td>3.06</td>\n",
       "      <td>0.28</td>\n",
       "      <td>2.29</td>\n",
       "      <td>5.64</td>\n",
       "      <td>1.04</td>\n",
       "      <td>3.92</td>\n",
       "      <td>1065.0</td>\n",
       "    </tr>\n",
       "    <tr>\n",
       "      <th>1</th>\n",
       "      <td>13.20</td>\n",
       "      <td>1.78</td>\n",
       "      <td>2.14</td>\n",
       "      <td>11.2</td>\n",
       "      <td>100.0</td>\n",
       "      <td>2.65</td>\n",
       "      <td>2.76</td>\n",
       "      <td>0.26</td>\n",
       "      <td>1.28</td>\n",
       "      <td>4.38</td>\n",
       "      <td>1.05</td>\n",
       "      <td>3.40</td>\n",
       "      <td>1050.0</td>\n",
       "    </tr>\n",
       "    <tr>\n",
       "      <th>2</th>\n",
       "      <td>13.16</td>\n",
       "      <td>2.36</td>\n",
       "      <td>2.67</td>\n",
       "      <td>18.6</td>\n",
       "      <td>101.0</td>\n",
       "      <td>2.80</td>\n",
       "      <td>3.24</td>\n",
       "      <td>0.30</td>\n",
       "      <td>2.81</td>\n",
       "      <td>5.68</td>\n",
       "      <td>1.03</td>\n",
       "      <td>3.17</td>\n",
       "      <td>1185.0</td>\n",
       "    </tr>\n",
       "    <tr>\n",
       "      <th>3</th>\n",
       "      <td>14.37</td>\n",
       "      <td>1.95</td>\n",
       "      <td>2.50</td>\n",
       "      <td>16.8</td>\n",
       "      <td>113.0</td>\n",
       "      <td>3.85</td>\n",
       "      <td>3.49</td>\n",
       "      <td>0.24</td>\n",
       "      <td>2.18</td>\n",
       "      <td>7.80</td>\n",
       "      <td>0.86</td>\n",
       "      <td>3.45</td>\n",
       "      <td>1480.0</td>\n",
       "    </tr>\n",
       "    <tr>\n",
       "      <th>4</th>\n",
       "      <td>13.24</td>\n",
       "      <td>2.59</td>\n",
       "      <td>2.87</td>\n",
       "      <td>21.0</td>\n",
       "      <td>118.0</td>\n",
       "      <td>2.80</td>\n",
       "      <td>2.69</td>\n",
       "      <td>0.39</td>\n",
       "      <td>1.82</td>\n",
       "      <td>4.32</td>\n",
       "      <td>1.04</td>\n",
       "      <td>2.93</td>\n",
       "      <td>735.0</td>\n",
       "    </tr>\n",
       "  </tbody>\n",
       "</table>\n",
       "</div>"
      ],
      "text/plain": [
       "   alcohol  malic_acid   ash  alcalinity_of_ash  magnesium  total_phenols  \\\n",
       "0    14.23        1.71  2.43               15.6      127.0           2.80   \n",
       "1    13.20        1.78  2.14               11.2      100.0           2.65   \n",
       "2    13.16        2.36  2.67               18.6      101.0           2.80   \n",
       "3    14.37        1.95  2.50               16.8      113.0           3.85   \n",
       "4    13.24        2.59  2.87               21.0      118.0           2.80   \n",
       "\n",
       "   flavanoids  nonflavanoid_phenols  proanthocyanins  color_intensity   hue  \\\n",
       "0        3.06                  0.28             2.29             5.64  1.04   \n",
       "1        2.76                  0.26             1.28             4.38  1.05   \n",
       "2        3.24                  0.30             2.81             5.68  1.03   \n",
       "3        3.49                  0.24             2.18             7.80  0.86   \n",
       "4        2.69                  0.39             1.82             4.32  1.04   \n",
       "\n",
       "   od280/od315_of_diluted_wines  proline  \n",
       "0                          3.92   1065.0  \n",
       "1                          3.40   1050.0  \n",
       "2                          3.17   1185.0  \n",
       "3                          3.45   1480.0  \n",
       "4                          2.93    735.0  "
      ]
     },
     "execution_count": 75,
     "metadata": {},
     "output_type": "execute_result"
    }
   ],
   "source": [
    "X.head()"
   ]
  },
  {
   "cell_type": "code",
   "execution_count": 76,
   "metadata": {},
   "outputs": [
    {
     "data": {
      "text/plain": [
       "0    0\n",
       "1    0\n",
       "2    0\n",
       "3    0\n",
       "4    0\n",
       "Name: target, dtype: int32"
      ]
     },
     "execution_count": 76,
     "metadata": {},
     "output_type": "execute_result"
    }
   ],
   "source": [
    "y.head()"
   ]
  },
  {
   "cell_type": "code",
   "execution_count": 77,
   "metadata": {},
   "outputs": [
    {
     "data": {
      "text/plain": [
       "array([0, 1, 2])"
      ]
     },
     "execution_count": 77,
     "metadata": {},
     "output_type": "execute_result"
    }
   ],
   "source": [
    "y.unique()"
   ]
  },
  {
   "cell_type": "code",
   "execution_count": 78,
   "metadata": {},
   "outputs": [
    {
     "data": {
      "text/plain": [
       "(178, 13)"
      ]
     },
     "execution_count": 78,
     "metadata": {},
     "output_type": "execute_result"
    }
   ],
   "source": [
    "X.shape"
   ]
  },
  {
   "cell_type": "code",
   "execution_count": 79,
   "metadata": {},
   "outputs": [
    {
     "data": {
      "text/plain": [
       "(178,)"
      ]
     },
     "execution_count": 79,
     "metadata": {},
     "output_type": "execute_result"
    }
   ],
   "source": [
    "y.shape"
   ]
  },
  {
   "cell_type": "code",
   "execution_count": 80,
   "metadata": {},
   "outputs": [
    {
     "data": {
      "text/html": [
       "<div>\n",
       "<style scoped>\n",
       "    .dataframe tbody tr th:only-of-type {\n",
       "        vertical-align: middle;\n",
       "    }\n",
       "\n",
       "    .dataframe tbody tr th {\n",
       "        vertical-align: top;\n",
       "    }\n",
       "\n",
       "    .dataframe thead th {\n",
       "        text-align: right;\n",
       "    }\n",
       "</style>\n",
       "<table border=\"1\" class=\"dataframe\">\n",
       "  <thead>\n",
       "    <tr style=\"text-align: right;\">\n",
       "      <th></th>\n",
       "      <th>alcohol</th>\n",
       "      <th>malic_acid</th>\n",
       "      <th>ash</th>\n",
       "      <th>alcalinity_of_ash</th>\n",
       "      <th>magnesium</th>\n",
       "      <th>total_phenols</th>\n",
       "      <th>flavanoids</th>\n",
       "      <th>nonflavanoid_phenols</th>\n",
       "      <th>proanthocyanins</th>\n",
       "      <th>color_intensity</th>\n",
       "      <th>hue</th>\n",
       "      <th>od280/od315_of_diluted_wines</th>\n",
       "      <th>proline</th>\n",
       "    </tr>\n",
       "  </thead>\n",
       "  <tbody>\n",
       "    <tr>\n",
       "      <th>count</th>\n",
       "      <td>178.000000</td>\n",
       "      <td>178.000000</td>\n",
       "      <td>178.000000</td>\n",
       "      <td>178.000000</td>\n",
       "      <td>178.000000</td>\n",
       "      <td>178.000000</td>\n",
       "      <td>178.000000</td>\n",
       "      <td>178.000000</td>\n",
       "      <td>178.000000</td>\n",
       "      <td>178.000000</td>\n",
       "      <td>178.000000</td>\n",
       "      <td>178.000000</td>\n",
       "      <td>178.000000</td>\n",
       "    </tr>\n",
       "    <tr>\n",
       "      <th>mean</th>\n",
       "      <td>13.000618</td>\n",
       "      <td>2.336348</td>\n",
       "      <td>2.366517</td>\n",
       "      <td>19.494944</td>\n",
       "      <td>99.741573</td>\n",
       "      <td>2.295112</td>\n",
       "      <td>2.029270</td>\n",
       "      <td>0.361854</td>\n",
       "      <td>1.590899</td>\n",
       "      <td>5.058090</td>\n",
       "      <td>0.957449</td>\n",
       "      <td>2.611685</td>\n",
       "      <td>746.893258</td>\n",
       "    </tr>\n",
       "    <tr>\n",
       "      <th>std</th>\n",
       "      <td>0.811827</td>\n",
       "      <td>1.117146</td>\n",
       "      <td>0.274344</td>\n",
       "      <td>3.339564</td>\n",
       "      <td>14.282484</td>\n",
       "      <td>0.625851</td>\n",
       "      <td>0.998859</td>\n",
       "      <td>0.124453</td>\n",
       "      <td>0.572359</td>\n",
       "      <td>2.318286</td>\n",
       "      <td>0.228572</td>\n",
       "      <td>0.709990</td>\n",
       "      <td>314.907474</td>\n",
       "    </tr>\n",
       "    <tr>\n",
       "      <th>min</th>\n",
       "      <td>11.030000</td>\n",
       "      <td>0.740000</td>\n",
       "      <td>1.360000</td>\n",
       "      <td>10.600000</td>\n",
       "      <td>70.000000</td>\n",
       "      <td>0.980000</td>\n",
       "      <td>0.340000</td>\n",
       "      <td>0.130000</td>\n",
       "      <td>0.410000</td>\n",
       "      <td>1.280000</td>\n",
       "      <td>0.480000</td>\n",
       "      <td>1.270000</td>\n",
       "      <td>278.000000</td>\n",
       "    </tr>\n",
       "    <tr>\n",
       "      <th>25%</th>\n",
       "      <td>12.362500</td>\n",
       "      <td>1.602500</td>\n",
       "      <td>2.210000</td>\n",
       "      <td>17.200000</td>\n",
       "      <td>88.000000</td>\n",
       "      <td>1.742500</td>\n",
       "      <td>1.205000</td>\n",
       "      <td>0.270000</td>\n",
       "      <td>1.250000</td>\n",
       "      <td>3.220000</td>\n",
       "      <td>0.782500</td>\n",
       "      <td>1.937500</td>\n",
       "      <td>500.500000</td>\n",
       "    </tr>\n",
       "    <tr>\n",
       "      <th>50%</th>\n",
       "      <td>13.050000</td>\n",
       "      <td>1.865000</td>\n",
       "      <td>2.360000</td>\n",
       "      <td>19.500000</td>\n",
       "      <td>98.000000</td>\n",
       "      <td>2.355000</td>\n",
       "      <td>2.135000</td>\n",
       "      <td>0.340000</td>\n",
       "      <td>1.555000</td>\n",
       "      <td>4.690000</td>\n",
       "      <td>0.965000</td>\n",
       "      <td>2.780000</td>\n",
       "      <td>673.500000</td>\n",
       "    </tr>\n",
       "    <tr>\n",
       "      <th>75%</th>\n",
       "      <td>13.677500</td>\n",
       "      <td>3.082500</td>\n",
       "      <td>2.557500</td>\n",
       "      <td>21.500000</td>\n",
       "      <td>107.000000</td>\n",
       "      <td>2.800000</td>\n",
       "      <td>2.875000</td>\n",
       "      <td>0.437500</td>\n",
       "      <td>1.950000</td>\n",
       "      <td>6.200000</td>\n",
       "      <td>1.120000</td>\n",
       "      <td>3.170000</td>\n",
       "      <td>985.000000</td>\n",
       "    </tr>\n",
       "    <tr>\n",
       "      <th>max</th>\n",
       "      <td>14.830000</td>\n",
       "      <td>5.800000</td>\n",
       "      <td>3.230000</td>\n",
       "      <td>30.000000</td>\n",
       "      <td>162.000000</td>\n",
       "      <td>3.880000</td>\n",
       "      <td>5.080000</td>\n",
       "      <td>0.660000</td>\n",
       "      <td>3.580000</td>\n",
       "      <td>13.000000</td>\n",
       "      <td>1.710000</td>\n",
       "      <td>4.000000</td>\n",
       "      <td>1680.000000</td>\n",
       "    </tr>\n",
       "  </tbody>\n",
       "</table>\n",
       "</div>"
      ],
      "text/plain": [
       "          alcohol  malic_acid         ash  alcalinity_of_ash   magnesium  \\\n",
       "count  178.000000  178.000000  178.000000         178.000000  178.000000   \n",
       "mean    13.000618    2.336348    2.366517          19.494944   99.741573   \n",
       "std      0.811827    1.117146    0.274344           3.339564   14.282484   \n",
       "min     11.030000    0.740000    1.360000          10.600000   70.000000   \n",
       "25%     12.362500    1.602500    2.210000          17.200000   88.000000   \n",
       "50%     13.050000    1.865000    2.360000          19.500000   98.000000   \n",
       "75%     13.677500    3.082500    2.557500          21.500000  107.000000   \n",
       "max     14.830000    5.800000    3.230000          30.000000  162.000000   \n",
       "\n",
       "       total_phenols  flavanoids  nonflavanoid_phenols  proanthocyanins  \\\n",
       "count     178.000000  178.000000            178.000000       178.000000   \n",
       "mean        2.295112    2.029270              0.361854         1.590899   \n",
       "std         0.625851    0.998859              0.124453         0.572359   \n",
       "min         0.980000    0.340000              0.130000         0.410000   \n",
       "25%         1.742500    1.205000              0.270000         1.250000   \n",
       "50%         2.355000    2.135000              0.340000         1.555000   \n",
       "75%         2.800000    2.875000              0.437500         1.950000   \n",
       "max         3.880000    5.080000              0.660000         3.580000   \n",
       "\n",
       "       color_intensity         hue  od280/od315_of_diluted_wines      proline  \n",
       "count       178.000000  178.000000                    178.000000   178.000000  \n",
       "mean          5.058090    0.957449                      2.611685   746.893258  \n",
       "std           2.318286    0.228572                      0.709990   314.907474  \n",
       "min           1.280000    0.480000                      1.270000   278.000000  \n",
       "25%           3.220000    0.782500                      1.937500   500.500000  \n",
       "50%           4.690000    0.965000                      2.780000   673.500000  \n",
       "75%           6.200000    1.120000                      3.170000   985.000000  \n",
       "max          13.000000    1.710000                      4.000000  1680.000000  "
      ]
     },
     "execution_count": 80,
     "metadata": {},
     "output_type": "execute_result"
    }
   ],
   "source": [
    "X.describe()"
   ]
  },
  {
   "cell_type": "markdown",
   "metadata": {},
   "source": [
    "##### Step 1:  train test split"
   ]
  },
  {
   "cell_type": "code",
   "execution_count": 81,
   "metadata": {},
   "outputs": [],
   "source": [
    "X_train, X_test, y_train, y_test = train_test_split(X, y, test_size=0.3)"
   ]
  },
  {
   "cell_type": "markdown",
   "metadata": {},
   "source": [
    "##### Step 2:  Scale Data:"
   ]
  },
  {
   "cell_type": "code",
   "execution_count": 82,
   "metadata": {},
   "outputs": [],
   "source": [
    "scaler = StandardScaler()\n",
    "X_train = scaler.fit_transform(X_train)\n",
    "X_train = pd.DataFrame(X_train, columns=X.columns)"
   ]
  },
  {
   "cell_type": "code",
   "execution_count": 83,
   "metadata": {},
   "outputs": [
    {
     "data": {
      "text/html": [
       "<div>\n",
       "<style scoped>\n",
       "    .dataframe tbody tr th:only-of-type {\n",
       "        vertical-align: middle;\n",
       "    }\n",
       "\n",
       "    .dataframe tbody tr th {\n",
       "        vertical-align: top;\n",
       "    }\n",
       "\n",
       "    .dataframe thead th {\n",
       "        text-align: right;\n",
       "    }\n",
       "</style>\n",
       "<table border=\"1\" class=\"dataframe\">\n",
       "  <thead>\n",
       "    <tr style=\"text-align: right;\">\n",
       "      <th></th>\n",
       "      <th>alcohol</th>\n",
       "      <th>malic_acid</th>\n",
       "      <th>ash</th>\n",
       "      <th>alcalinity_of_ash</th>\n",
       "      <th>magnesium</th>\n",
       "      <th>total_phenols</th>\n",
       "      <th>flavanoids</th>\n",
       "      <th>nonflavanoid_phenols</th>\n",
       "      <th>proanthocyanins</th>\n",
       "      <th>color_intensity</th>\n",
       "      <th>hue</th>\n",
       "      <th>od280/od315_of_diluted_wines</th>\n",
       "      <th>proline</th>\n",
       "    </tr>\n",
       "  </thead>\n",
       "  <tbody>\n",
       "    <tr>\n",
       "      <th>count</th>\n",
       "      <td>1.240000e+02</td>\n",
       "      <td>1.240000e+02</td>\n",
       "      <td>1.240000e+02</td>\n",
       "      <td>1.240000e+02</td>\n",
       "      <td>1.240000e+02</td>\n",
       "      <td>1.240000e+02</td>\n",
       "      <td>1.240000e+02</td>\n",
       "      <td>1.240000e+02</td>\n",
       "      <td>1.240000e+02</td>\n",
       "      <td>1.240000e+02</td>\n",
       "      <td>1.240000e+02</td>\n",
       "      <td>1.240000e+02</td>\n",
       "      <td>1.240000e+02</td>\n",
       "    </tr>\n",
       "    <tr>\n",
       "      <th>mean</th>\n",
       "      <td>2.964475e-15</td>\n",
       "      <td>-1.029642e-16</td>\n",
       "      <td>1.772775e-16</td>\n",
       "      <td>-6.652385e-16</td>\n",
       "      <td>6.267388e-18</td>\n",
       "      <td>-7.162729e-18</td>\n",
       "      <td>3.563458e-16</td>\n",
       "      <td>-2.891952e-16</td>\n",
       "      <td>-3.223228e-16</td>\n",
       "      <td>2.489048e-16</td>\n",
       "      <td>2.005564e-16</td>\n",
       "      <td>-6.410643e-16</td>\n",
       "      <td>1.092316e-16</td>\n",
       "    </tr>\n",
       "    <tr>\n",
       "      <th>std</th>\n",
       "      <td>1.004057e+00</td>\n",
       "      <td>1.004057e+00</td>\n",
       "      <td>1.004057e+00</td>\n",
       "      <td>1.004057e+00</td>\n",
       "      <td>1.004057e+00</td>\n",
       "      <td>1.004057e+00</td>\n",
       "      <td>1.004057e+00</td>\n",
       "      <td>1.004057e+00</td>\n",
       "      <td>1.004057e+00</td>\n",
       "      <td>1.004057e+00</td>\n",
       "      <td>1.004057e+00</td>\n",
       "      <td>1.004057e+00</td>\n",
       "      <td>1.004057e+00</td>\n",
       "    </tr>\n",
       "    <tr>\n",
       "      <th>min</th>\n",
       "      <td>-2.283382e+00</td>\n",
       "      <td>-1.463931e+00</td>\n",
       "      <td>-2.614819e+00</td>\n",
       "      <td>-2.593583e+00</td>\n",
       "      <td>-2.101831e+00</td>\n",
       "      <td>-1.897302e+00</td>\n",
       "      <td>-1.532661e+00</td>\n",
       "      <td>-1.851092e+00</td>\n",
       "      <td>-2.177548e+00</td>\n",
       "      <td>-1.542520e+00</td>\n",
       "      <td>-2.011894e+00</td>\n",
       "      <td>-1.941127e+00</td>\n",
       "      <td>-1.433654e+00</td>\n",
       "    </tr>\n",
       "    <tr>\n",
       "      <th>25%</th>\n",
       "      <td>-7.892115e-01</td>\n",
       "      <td>-6.693333e-01</td>\n",
       "      <td>-5.764278e-01</td>\n",
       "      <td>-5.962288e-01</td>\n",
       "      <td>-7.743588e-01</td>\n",
       "      <td>-8.739850e-01</td>\n",
       "      <td>-9.014079e-01</td>\n",
       "      <td>-7.543359e-01</td>\n",
       "      <td>-5.871523e-01</td>\n",
       "      <td>-8.140783e-01</td>\n",
       "      <td>-7.478643e-01</td>\n",
       "      <td>-9.384573e-01</td>\n",
       "      <td>-7.788849e-01</td>\n",
       "    </tr>\n",
       "    <tr>\n",
       "      <th>50%</th>\n",
       "      <td>-4.810267e-02</td>\n",
       "      <td>-4.269136e-01</td>\n",
       "      <td>-1.001682e-01</td>\n",
       "      <td>9.030072e-03</td>\n",
       "      <td>-1.843711e-01</td>\n",
       "      <td>-6.995023e-02</td>\n",
       "      <td>1.070883e-01</td>\n",
       "      <td>-2.059577e-01</td>\n",
       "      <td>-9.816501e-02</td>\n",
       "      <td>-1.664590e-01</td>\n",
       "      <td>-3.618366e-02</td>\n",
       "      <td>2.706448e-01</td>\n",
       "      <td>-2.602557e-01</td>\n",
       "    </tr>\n",
       "    <tr>\n",
       "      <th>75%</th>\n",
       "      <td>8.483999e-01</td>\n",
       "      <td>6.841768e-01</td>\n",
       "      <td>7.475740e-01</td>\n",
       "      <td>6.142890e-01</td>\n",
       "      <td>5.531134e-01</td>\n",
       "      <td>8.640295e-01</td>\n",
       "      <td>8.012154e-01</td>\n",
       "      <td>8.124589e-01</td>\n",
       "      <td>6.614269e-01</td>\n",
       "      <td>4.749431e-01</td>\n",
       "      <td>7.498516e-01</td>\n",
       "      <td>8.235878e-01</td>\n",
       "      <td>6.052069e-01</td>\n",
       "    </tr>\n",
       "    <tr>\n",
       "      <th>max</th>\n",
       "      <td>2.258897e+00</td>\n",
       "      <td>3.079194e+00</td>\n",
       "      <td>3.214599e+00</td>\n",
       "      <td>3.035325e+00</td>\n",
       "      <td>3.871794e+00</td>\n",
       "      <td>2.618287e+00</td>\n",
       "      <td>3.104913e+00</td>\n",
       "      <td>2.300914e+00</td>\n",
       "      <td>2.664851e+00</td>\n",
       "      <td>3.315142e+00</td>\n",
       "      <td>3.214178e+00</td>\n",
       "      <td>1.818885e+00</td>\n",
       "      <td>2.679724e+00</td>\n",
       "    </tr>\n",
       "  </tbody>\n",
       "</table>\n",
       "</div>"
      ],
      "text/plain": [
       "            alcohol    malic_acid           ash  alcalinity_of_ash  \\\n",
       "count  1.240000e+02  1.240000e+02  1.240000e+02       1.240000e+02   \n",
       "mean   2.964475e-15 -1.029642e-16  1.772775e-16      -6.652385e-16   \n",
       "std    1.004057e+00  1.004057e+00  1.004057e+00       1.004057e+00   \n",
       "min   -2.283382e+00 -1.463931e+00 -2.614819e+00      -2.593583e+00   \n",
       "25%   -7.892115e-01 -6.693333e-01 -5.764278e-01      -5.962288e-01   \n",
       "50%   -4.810267e-02 -4.269136e-01 -1.001682e-01       9.030072e-03   \n",
       "75%    8.483999e-01  6.841768e-01  7.475740e-01       6.142890e-01   \n",
       "max    2.258897e+00  3.079194e+00  3.214599e+00       3.035325e+00   \n",
       "\n",
       "          magnesium  total_phenols    flavanoids  nonflavanoid_phenols  \\\n",
       "count  1.240000e+02   1.240000e+02  1.240000e+02          1.240000e+02   \n",
       "mean   6.267388e-18  -7.162729e-18  3.563458e-16         -2.891952e-16   \n",
       "std    1.004057e+00   1.004057e+00  1.004057e+00          1.004057e+00   \n",
       "min   -2.101831e+00  -1.897302e+00 -1.532661e+00         -1.851092e+00   \n",
       "25%   -7.743588e-01  -8.739850e-01 -9.014079e-01         -7.543359e-01   \n",
       "50%   -1.843711e-01  -6.995023e-02  1.070883e-01         -2.059577e-01   \n",
       "75%    5.531134e-01   8.640295e-01  8.012154e-01          8.124589e-01   \n",
       "max    3.871794e+00   2.618287e+00  3.104913e+00          2.300914e+00   \n",
       "\n",
       "       proanthocyanins  color_intensity           hue  \\\n",
       "count     1.240000e+02     1.240000e+02  1.240000e+02   \n",
       "mean     -3.223228e-16     2.489048e-16  2.005564e-16   \n",
       "std       1.004057e+00     1.004057e+00  1.004057e+00   \n",
       "min      -2.177548e+00    -1.542520e+00 -2.011894e+00   \n",
       "25%      -5.871523e-01    -8.140783e-01 -7.478643e-01   \n",
       "50%      -9.816501e-02    -1.664590e-01 -3.618366e-02   \n",
       "75%       6.614269e-01     4.749431e-01  7.498516e-01   \n",
       "max       2.664851e+00     3.315142e+00  3.214178e+00   \n",
       "\n",
       "       od280/od315_of_diluted_wines       proline  \n",
       "count                  1.240000e+02  1.240000e+02  \n",
       "mean                  -6.410643e-16  1.092316e-16  \n",
       "std                    1.004057e+00  1.004057e+00  \n",
       "min                   -1.941127e+00 -1.433654e+00  \n",
       "25%                   -9.384573e-01 -7.788849e-01  \n",
       "50%                    2.706448e-01 -2.602557e-01  \n",
       "75%                    8.235878e-01  6.052069e-01  \n",
       "max                    1.818885e+00  2.679724e+00  "
      ]
     },
     "execution_count": 83,
     "metadata": {},
     "output_type": "execute_result"
    }
   ],
   "source": [
    "X_train.describe()"
   ]
  },
  {
   "cell_type": "code",
   "execution_count": 84,
   "metadata": {},
   "outputs": [],
   "source": [
    "X_test = scaler.transform(X_test)"
   ]
  },
  {
   "cell_type": "markdown",
   "metadata": {},
   "source": [
    "##### Step 3:  K Nearest Neighbour"
   ]
  },
  {
   "cell_type": "code",
   "execution_count": 85,
   "metadata": {},
   "outputs": [
    {
     "data": {
      "text/html": [
       "<style>#sk-container-id-4 {color: black;}#sk-container-id-4 pre{padding: 0;}#sk-container-id-4 div.sk-toggleable {background-color: white;}#sk-container-id-4 label.sk-toggleable__label {cursor: pointer;display: block;width: 100%;margin-bottom: 0;padding: 0.3em;box-sizing: border-box;text-align: center;}#sk-container-id-4 label.sk-toggleable__label-arrow:before {content: \"▸\";float: left;margin-right: 0.25em;color: #696969;}#sk-container-id-4 label.sk-toggleable__label-arrow:hover:before {color: black;}#sk-container-id-4 div.sk-estimator:hover label.sk-toggleable__label-arrow:before {color: black;}#sk-container-id-4 div.sk-toggleable__content {max-height: 0;max-width: 0;overflow: hidden;text-align: left;background-color: #f0f8ff;}#sk-container-id-4 div.sk-toggleable__content pre {margin: 0.2em;color: black;border-radius: 0.25em;background-color: #f0f8ff;}#sk-container-id-4 input.sk-toggleable__control:checked~div.sk-toggleable__content {max-height: 200px;max-width: 100%;overflow: auto;}#sk-container-id-4 input.sk-toggleable__control:checked~label.sk-toggleable__label-arrow:before {content: \"▾\";}#sk-container-id-4 div.sk-estimator input.sk-toggleable__control:checked~label.sk-toggleable__label {background-color: #d4ebff;}#sk-container-id-4 div.sk-label input.sk-toggleable__control:checked~label.sk-toggleable__label {background-color: #d4ebff;}#sk-container-id-4 input.sk-hidden--visually {border: 0;clip: rect(1px 1px 1px 1px);clip: rect(1px, 1px, 1px, 1px);height: 1px;margin: -1px;overflow: hidden;padding: 0;position: absolute;width: 1px;}#sk-container-id-4 div.sk-estimator {font-family: monospace;background-color: #f0f8ff;border: 1px dotted black;border-radius: 0.25em;box-sizing: border-box;margin-bottom: 0.5em;}#sk-container-id-4 div.sk-estimator:hover {background-color: #d4ebff;}#sk-container-id-4 div.sk-parallel-item::after {content: \"\";width: 100%;border-bottom: 1px solid gray;flex-grow: 1;}#sk-container-id-4 div.sk-label:hover label.sk-toggleable__label {background-color: #d4ebff;}#sk-container-id-4 div.sk-serial::before {content: \"\";position: absolute;border-left: 1px solid gray;box-sizing: border-box;top: 0;bottom: 0;left: 50%;z-index: 0;}#sk-container-id-4 div.sk-serial {display: flex;flex-direction: column;align-items: center;background-color: white;padding-right: 0.2em;padding-left: 0.2em;position: relative;}#sk-container-id-4 div.sk-item {position: relative;z-index: 1;}#sk-container-id-4 div.sk-parallel {display: flex;align-items: stretch;justify-content: center;background-color: white;position: relative;}#sk-container-id-4 div.sk-item::before, #sk-container-id-4 div.sk-parallel-item::before {content: \"\";position: absolute;border-left: 1px solid gray;box-sizing: border-box;top: 0;bottom: 0;left: 50%;z-index: -1;}#sk-container-id-4 div.sk-parallel-item {display: flex;flex-direction: column;z-index: 1;position: relative;background-color: white;}#sk-container-id-4 div.sk-parallel-item:first-child::after {align-self: flex-end;width: 50%;}#sk-container-id-4 div.sk-parallel-item:last-child::after {align-self: flex-start;width: 50%;}#sk-container-id-4 div.sk-parallel-item:only-child::after {width: 0;}#sk-container-id-4 div.sk-dashed-wrapped {border: 1px dashed gray;margin: 0 0.4em 0.5em 0.4em;box-sizing: border-box;padding-bottom: 0.4em;background-color: white;}#sk-container-id-4 div.sk-label label {font-family: monospace;font-weight: bold;display: inline-block;line-height: 1.2em;}#sk-container-id-4 div.sk-label-container {text-align: center;}#sk-container-id-4 div.sk-container {/* jupyter's `normalize.less` sets `[hidden] { display: none; }` but bootstrap.min.css set `[hidden] { display: none !important; }` so we also need the `!important` here to be able to override the default hidden behavior on the sphinx rendered scikit-learn.org. See: https://github.com/scikit-learn/scikit-learn/issues/21755 */display: inline-block !important;position: relative;}#sk-container-id-4 div.sk-text-repr-fallback {display: none;}</style><div id=\"sk-container-id-4\" class=\"sk-top-container\"><div class=\"sk-text-repr-fallback\"><pre>KNeighborsClassifier()</pre><b>In a Jupyter environment, please rerun this cell to show the HTML representation or trust the notebook. <br />On GitHub, the HTML representation is unable to render, please try loading this page with nbviewer.org.</b></div><div class=\"sk-container\" hidden><div class=\"sk-item\"><div class=\"sk-estimator sk-toggleable\"><input class=\"sk-toggleable__control sk-hidden--visually\" id=\"sk-estimator-id-4\" type=\"checkbox\" checked><label for=\"sk-estimator-id-4\" class=\"sk-toggleable__label sk-toggleable__label-arrow\">KNeighborsClassifier</label><div class=\"sk-toggleable__content\"><pre>KNeighborsClassifier()</pre></div></div></div></div></div>"
      ],
      "text/plain": [
       "KNeighborsClassifier()"
      ]
     },
     "execution_count": 85,
     "metadata": {},
     "output_type": "execute_result"
    }
   ],
   "source": [
    "knn = KNeighborsClassifier(n_neighbors=5)\n",
    "knn.fit(X_train, y_train)"
   ]
  },
  {
   "cell_type": "code",
   "execution_count": 86,
   "metadata": {},
   "outputs": [
    {
     "data": {
      "text/plain": [
       "array([0, 0, 0, 1, 1, 0, 0, 0, 1, 0, 1, 1, 2, 0, 0, 0, 1, 2, 1, 0, 0, 0,\n",
       "       1, 1, 1, 1, 1, 1, 0, 1, 1, 2, 2, 0, 1, 1, 2, 0, 0, 0, 1, 2, 2, 1,\n",
       "       0, 2, 0, 1, 2, 1, 2, 2, 0, 2, 2, 1, 2, 0, 2, 2, 0, 2, 0, 1, 0, 0,\n",
       "       2, 2, 1, 1, 2, 0, 0, 2, 2, 1, 2, 2, 0, 1, 1, 0, 1, 2, 2, 1, 1, 2,\n",
       "       2, 1, 1, 2, 1, 1, 0, 0, 2, 2, 1, 2, 1, 1, 1, 0, 1, 0, 1, 2, 1, 0,\n",
       "       2, 1, 1, 2, 1, 1, 1, 1, 1, 2, 0, 2, 1, 1])"
      ]
     },
     "execution_count": 86,
     "metadata": {},
     "output_type": "execute_result"
    }
   ],
   "source": [
    "knn.predict(X_train)"
   ]
  },
  {
   "cell_type": "code",
   "execution_count": 93,
   "metadata": {},
   "outputs": [
    {
     "data": {
      "image/png": "[encoded data removed]",
      "text/plain": [
       "<Figure size 640x480 with 2 Axes>"
      ]
     },
     "metadata": {},
     "output_type": "display_data"
    }
   ],
   "source": [
    "metrics.ConfusionMatrixDisplay.from_estimator(knn,X_train, y_train).figure_.savefig(r'output/Wine_conf_mat.png')"
   ]
  },
  {
   "cell_type": "code",
   "execution_count": 91,
   "metadata": {},
   "outputs": [
    {
     "data": {
      "text/plain": [
       "0.9758064516129032"
      ]
     },
     "execution_count": 91,
     "metadata": {},
     "output_type": "execute_result"
    }
   ],
   "source": [
    "knn.score(X_train, y_train)"
   ]
  },
  {
   "cell_type": "code",
   "execution_count": 94,
   "metadata": {},
   "outputs": [
    {
     "data": {
      "image/png": "[encoded data removed]",
      "text/plain": [
       "<Figure size 640x480 with 2 Axes>"
      ]
     },
     "metadata": {},
     "output_type": "display_data"
    }
   ],
   "source": [
    "metrics.ConfusionMatrixDisplay.from_estimator(knn,X_test, y_test).figure_.savefig(r'output/Wine_conf_mat_X_test.png')"
   ]
  },
  {
   "cell_type": "code",
   "execution_count": 95,
   "metadata": {},
   "outputs": [
    {
     "data": {
      "text/plain": [
       "0.9629629629629629"
      ]
     },
     "execution_count": 95,
     "metadata": {},
     "output_type": "execute_result"
    }
   ],
   "source": [
    "\n",
    "knn.score(X_test, y_test)"
   ]
  },
  {
   "cell_type": "markdown",
   "metadata": {},
   "source": [
    "#### Example 2:  KNN Regression on Penguins Dataset"
   ]
  },
  {
   "cell_type": "code",
   "execution_count": 100,
   "metadata": {},
   "outputs": [],
   "source": [
    "penguins = sns.load_dataset(name='penguins')"
   ]
  },
  {
   "cell_type": "markdown",
   "metadata": {},
   "source": [
    "##### Steo 1:  Cleaning and Splitting the Dataset"
   ]
  },
  {
   "cell_type": "code",
   "execution_count": 101,
   "metadata": {},
   "outputs": [],
   "source": [
    "penguins = penguins.dropna()"
   ]
  },
  {
   "cell_type": "code",
   "execution_count": 102,
   "metadata": {},
   "outputs": [],
   "source": [
    "X_p = penguins[['bill_length_mm', 'bill_depth_mm', 'flipper_length_mm']]\n",
    "y_p = penguins.body_mass_g"
   ]
  },
  {
   "cell_type": "code",
   "execution_count": 103,
   "metadata": {},
   "outputs": [],
   "source": [
    "X_train_p, X_test_p, y_train_p, y_test_p = train_test_split(X_p, y_p)"
   ]
  },
  {
   "cell_type": "markdown",
   "metadata": {},
   "source": [
    "##### Step 2: Scaling X"
   ]
  },
  {
   "cell_type": "code",
   "execution_count": 104,
   "metadata": {},
   "outputs": [],
   "source": [
    "scaler_p = StandardScaler()\n",
    "X_train_p = scaler_p.fit_transform(X_train_p)\n",
    "X_test = scaler_p.fit(X_test_p)"
   ]
  },
  {
   "cell_type": "markdown",
   "metadata": {},
   "source": [
    "##### Step 3:  Fit KNN Regression Model:"
   ]
  },
  {
   "cell_type": "code",
   "execution_count": 105,
   "metadata": {},
   "outputs": [
    {
     "data": {
      "text/html": [
       "<style>#sk-container-id-5 {color: black;}#sk-container-id-5 pre{padding: 0;}#sk-container-id-5 div.sk-toggleable {background-color: white;}#sk-container-id-5 label.sk-toggleable__label {cursor: pointer;display: block;width: 100%;margin-bottom: 0;padding: 0.3em;box-sizing: border-box;text-align: center;}#sk-container-id-5 label.sk-toggleable__label-arrow:before {content: \"▸\";float: left;margin-right: 0.25em;color: #696969;}#sk-container-id-5 label.sk-toggleable__label-arrow:hover:before {color: black;}#sk-container-id-5 div.sk-estimator:hover label.sk-toggleable__label-arrow:before {color: black;}#sk-container-id-5 div.sk-toggleable__content {max-height: 0;max-width: 0;overflow: hidden;text-align: left;background-color: #f0f8ff;}#sk-container-id-5 div.sk-toggleable__content pre {margin: 0.2em;color: black;border-radius: 0.25em;background-color: #f0f8ff;}#sk-container-id-5 input.sk-toggleable__control:checked~div.sk-toggleable__content {max-height: 200px;max-width: 100%;overflow: auto;}#sk-container-id-5 input.sk-toggleable__control:checked~label.sk-toggleable__label-arrow:before {content: \"▾\";}#sk-container-id-5 div.sk-estimator input.sk-toggleable__control:checked~label.sk-toggleable__label {background-color: #d4ebff;}#sk-container-id-5 div.sk-label input.sk-toggleable__control:checked~label.sk-toggleable__label {background-color: #d4ebff;}#sk-container-id-5 input.sk-hidden--visually {border: 0;clip: rect(1px 1px 1px 1px);clip: rect(1px, 1px, 1px, 1px);height: 1px;margin: -1px;overflow: hidden;padding: 0;position: absolute;width: 1px;}#sk-container-id-5 div.sk-estimator {font-family: monospace;background-color: #f0f8ff;border: 1px dotted black;border-radius: 0.25em;box-sizing: border-box;margin-bottom: 0.5em;}#sk-container-id-5 div.sk-estimator:hover {background-color: #d4ebff;}#sk-container-id-5 div.sk-parallel-item::after {content: \"\";width: 100%;border-bottom: 1px solid gray;flex-grow: 1;}#sk-container-id-5 div.sk-label:hover label.sk-toggleable__label {background-color: #d4ebff;}#sk-container-id-5 div.sk-serial::before {content: \"\";position: absolute;border-left: 1px solid gray;box-sizing: border-box;top: 0;bottom: 0;left: 50%;z-index: 0;}#sk-container-id-5 div.sk-serial {display: flex;flex-direction: column;align-items: center;background-color: white;padding-right: 0.2em;padding-left: 0.2em;position: relative;}#sk-container-id-5 div.sk-item {position: relative;z-index: 1;}#sk-container-id-5 div.sk-parallel {display: flex;align-items: stretch;justify-content: center;background-color: white;position: relative;}#sk-container-id-5 div.sk-item::before, #sk-container-id-5 div.sk-parallel-item::before {content: \"\";position: absolute;border-left: 1px solid gray;box-sizing: border-box;top: 0;bottom: 0;left: 50%;z-index: -1;}#sk-container-id-5 div.sk-parallel-item {display: flex;flex-direction: column;z-index: 1;position: relative;background-color: white;}#sk-container-id-5 div.sk-parallel-item:first-child::after {align-self: flex-end;width: 50%;}#sk-container-id-5 div.sk-parallel-item:last-child::after {align-self: flex-start;width: 50%;}#sk-container-id-5 div.sk-parallel-item:only-child::after {width: 0;}#sk-container-id-5 div.sk-dashed-wrapped {border: 1px dashed gray;margin: 0 0.4em 0.5em 0.4em;box-sizing: border-box;padding-bottom: 0.4em;background-color: white;}#sk-container-id-5 div.sk-label label {font-family: monospace;font-weight: bold;display: inline-block;line-height: 1.2em;}#sk-container-id-5 div.sk-label-container {text-align: center;}#sk-container-id-5 div.sk-container {/* jupyter's `normalize.less` sets `[hidden] { display: none; }` but bootstrap.min.css set `[hidden] { display: none !important; }` so we also need the `!important` here to be able to override the default hidden behavior on the sphinx rendered scikit-learn.org. See: https://github.com/scikit-learn/scikit-learn/issues/21755 */display: inline-block !important;position: relative;}#sk-container-id-5 div.sk-text-repr-fallback {display: none;}</style><div id=\"sk-container-id-5\" class=\"sk-top-container\"><div class=\"sk-text-repr-fallback\"><pre>KNeighborsRegressor(n_neighbors=6)</pre><b>In a Jupyter environment, please rerun this cell to show the HTML representation or trust the notebook. <br />On GitHub, the HTML representation is unable to render, please try loading this page with nbviewer.org.</b></div><div class=\"sk-container\" hidden><div class=\"sk-item\"><div class=\"sk-estimator sk-toggleable\"><input class=\"sk-toggleable__control sk-hidden--visually\" id=\"sk-estimator-id-5\" type=\"checkbox\" checked><label for=\"sk-estimator-id-5\" class=\"sk-toggleable__label sk-toggleable__label-arrow\">KNeighborsRegressor</label><div class=\"sk-toggleable__content\"><pre>KNeighborsRegressor(n_neighbors=6)</pre></div></div></div></div></div>"
      ],
      "text/plain": [
       "KNeighborsRegressor(n_neighbors=6)"
      ]
     },
     "execution_count": 105,
     "metadata": {},
     "output_type": "execute_result"
    }
   ],
   "source": [
    "knn_p = KNeighborsRegressor(n_neighbors=6)\n",
    "knn_p.fit(X_train_p, y_train_p)\n"
   ]
  },
  {
   "cell_type": "code",
   "execution_count": 106,
   "metadata": {},
   "outputs": [
    {
     "data": {
      "text/plain": [
       "array([3216.66666667, 4700.        , 5395.83333333, 5516.66666667,\n",
       "       4129.16666667, 5300.        , 5187.5       , 3579.16666667,\n",
       "       4204.16666667, 3958.33333333, 4400.        , 3783.33333333,\n",
       "       3929.16666667, 4100.        , 4720.83333333, 3541.66666667,\n",
       "       4504.16666667, 5162.5       , 5650.        , 3358.33333333,\n",
       "       4800.        , 3379.16666667, 5058.33333333, 5016.66666667,\n",
       "       4800.        , 5016.66666667, 5516.66666667, 5566.66666667,\n",
       "       3270.83333333, 3604.16666667, 3883.33333333, 4083.33333333,\n",
       "       3800.        , 3279.16666667, 3637.5       , 3495.83333333,\n",
       "       5533.33333333, 3804.16666667, 3291.66666667, 3404.16666667,\n",
       "       3945.83333333, 3545.83333333, 3545.83333333, 5345.83333333,\n",
       "       3437.5       , 3925.        , 3450.        , 4720.83333333,\n",
       "       5229.16666667, 3558.33333333, 3245.83333333, 5225.        ,\n",
       "       3529.16666667, 4833.33333333, 3291.66666667, 3508.33333333,\n",
       "       3550.        , 5383.33333333, 4058.33333333, 3487.5       ,\n",
       "       3791.66666667, 3537.5       , 4166.66666667, 4775.        ,\n",
       "       5583.33333333, 3991.66666667, 3908.33333333, 5087.5       ,\n",
       "       5158.33333333, 4037.5       , 4791.66666667, 4725.        ,\n",
       "       3383.33333333, 4454.16666667, 4037.5       , 4220.83333333,\n",
       "       5175.        , 5329.16666667, 4062.5       , 3570.83333333,\n",
       "       3841.66666667, 3387.5       , 4445.83333333, 3991.66666667,\n",
       "       3445.83333333, 4775.        , 3187.5       , 5025.        ,\n",
       "       3795.83333333, 3741.66666667, 5133.33333333, 3216.66666667,\n",
       "       3995.83333333, 4200.        , 3745.83333333, 5675.        ,\n",
       "       3408.33333333, 5379.16666667, 5541.66666667, 4341.66666667,\n",
       "       4816.66666667, 3554.16666667, 4604.16666667, 3245.83333333,\n",
       "       3833.33333333, 4387.5       , 5325.        , 3404.16666667,\n",
       "       5291.66666667, 3625.        , 4620.83333333, 3937.5       ,\n",
       "       5575.        , 3729.16666667, 3500.        , 5141.66666667,\n",
       "       3325.        , 3483.33333333, 3354.16666667, 3429.16666667,\n",
       "       5108.33333333, 3154.16666667, 3895.83333333, 3850.        ,\n",
       "       4462.5       , 3550.        , 5037.5       , 4220.83333333,\n",
       "       3820.83333333, 3608.33333333, 4916.66666667, 3412.5       ,\n",
       "       3500.        , 3933.33333333, 3554.16666667, 4725.        ,\n",
       "       3279.16666667, 3216.66666667, 3883.33333333, 5175.        ,\n",
       "       3616.66666667, 4054.16666667, 5641.66666667, 3083.33333333,\n",
       "       5341.66666667, 3937.5       , 4050.        , 3225.        ,\n",
       "       3420.83333333, 5566.66666667, 3941.66666667, 3937.5       ,\n",
       "       3350.        , 4787.5       , 4137.5       , 3433.33333333,\n",
       "       4345.83333333, 5383.33333333, 3720.83333333, 5541.66666667,\n",
       "       4875.        , 3625.        , 3762.5       , 3833.33333333,\n",
       "       4075.        , 4233.33333333, 4354.16666667, 3225.        ,\n",
       "       5004.16666667, 3783.33333333, 4237.5       , 3883.33333333,\n",
       "       3770.83333333, 5500.        , 3829.16666667, 5675.        ,\n",
       "       4383.33333333, 4091.66666667, 5583.33333333, 3325.        ,\n",
       "       3887.5       , 4154.16666667, 5058.33333333, 5575.        ,\n",
       "       4987.5       , 4579.16666667, 3841.66666667, 4112.5       ,\n",
       "       3583.33333333, 5583.33333333, 3808.33333333, 4479.16666667,\n",
       "       3445.83333333, 3495.83333333, 5075.        , 3804.16666667,\n",
       "       4170.83333333, 3208.33333333, 3916.66666667, 4112.5       ,\n",
       "       3225.        , 3816.66666667, 3958.33333333, 5308.33333333,\n",
       "       4220.83333333, 3604.16666667, 3604.16666667, 3670.83333333,\n",
       "       3470.83333333, 3912.5       , 4112.5       , 4245.83333333,\n",
       "       3158.33333333, 4508.33333333, 3966.66666667, 3450.        ,\n",
       "       4104.16666667, 5366.66666667, 3604.16666667, 4237.5       ,\n",
       "       4433.33333333, 5525.        , 3529.16666667, 3604.16666667,\n",
       "       5675.        , 5100.        , 3766.66666667, 3500.        ,\n",
       "       3820.83333333, 4137.5       , 5508.33333333, 4691.66666667,\n",
       "       4629.16666667, 3704.16666667, 3829.16666667, 3541.66666667,\n",
       "       5500.        , 3254.16666667, 4395.83333333, 4687.5       ,\n",
       "       3770.83333333, 5070.83333333, 4675.        , 3766.66666667,\n",
       "       3708.33333333, 3783.33333333, 3416.66666667, 4108.33333333,\n",
       "       4400.        ])"
      ]
     },
     "execution_count": 106,
     "metadata": {},
     "output_type": "execute_result"
    }
   ],
   "source": [
    "pred_p = knn_p.predict(X_train_p)\n",
    "pred_p"
   ]
  },
  {
   "cell_type": "code",
   "execution_count": 108,
   "metadata": {},
   "outputs": [
    {
     "data": {
      "text/plain": [
       "0.8754356427221095"
      ]
     },
     "execution_count": 108,
     "metadata": {},
     "output_type": "execute_result"
    }
   ],
   "source": [
    "knn_p.score(X_train_p, y_train_p)"
   ]
  },
  {
   "cell_type": "code",
   "execution_count": 111,
   "metadata": {},
   "outputs": [
    {
     "data": {
      "image/png": "[encoded data removed]",
      "text/plain": [
       "<Figure size 500x500 with 1 Axes>"
      ]
     },
     "metadata": {},
     "output_type": "display_data"
    }
   ],
   "source": [
    "sns.relplot(y=y_train_p, x=pred_p).fig.savefig(r'output/Penguins_relplot_testset.png')"
   ]
  },
  {
   "cell_type": "markdown",
   "metadata": {},
   "source": [
    "##### Hyper-Parameter Tuning (Manual):"
   ]
  },
  {
   "cell_type": "code",
   "execution_count": 124,
   "metadata": {},
   "outputs": [],
   "source": [
    "# As tutor did it, I can't get my results to match his - mine range from -3 to -5\n",
    "\n",
    "results = []\n",
    "for k in range(1, 11):\n",
    "    Knn_regressor = KNeighborsRegressor(n_neighbors= k)\n",
    "    Knn_regressor.fit(X_train_p, y_train_p)\n",
    "    score = Knn_regressor.score(X_test_p, y_test_p)\n",
    "    results.append((f'k: {k}', score))"
   ]
  },
  {
   "cell_type": "code",
   "execution_count": 123,
   "metadata": {},
   "outputs": [
    {
     "data": {
      "text/plain": [
       "[('k: 1', -5.25129435139235),\n",
       " ('k: 2', -4.162723574871011),\n",
       " ('k: 3', -4.162723574871011),\n",
       " ('k: 4', -3.848446218972483),\n",
       " ('k: 5', -3.5702042770650317),\n",
       " ('k: 6', -3.542743801209104),\n",
       " ('k: 7', -3.330186019662505),\n",
       " ('k: 8', -3.285298903437134),\n",
       " ('k: 9', -3.429178730126056),\n",
       " ('k: 10', -3.33674042716952)]"
      ]
     },
     "execution_count": 123,
     "metadata": {},
     "output_type": "execute_result"
    }
   ],
   "source": [
    "results"
   ]
  },
  {
   "cell_type": "code",
   "execution_count": 130,
   "metadata": {},
   "outputs": [
    {
     "data": {
      "text/plain": [
       "[('k: 1', 1.0),\n",
       " ('k: 2', 0.9044422990007652),\n",
       " ('k: 3', 0.8603551094623761),\n",
       " ('k: 4', 0.866092209671501),\n",
       " ('k: 5', 0.8497163390328052),\n",
       " ('k: 6', 0.842459983622036),\n",
       " ('k: 7', 0.8285530177453515),\n",
       " ('k: 8', 0.816980499567058),\n",
       " ('k: 9', 0.8061399797173119),\n",
       " ('k: 10', 0.8032014109213277)]"
      ]
     },
     "execution_count": 130,
     "metadata": {},
     "output_type": "execute_result"
    }
   ],
   "source": [
    "# Try setting both the fit and score to test:\n",
    "\n",
    "results = []\n",
    "for k in range(1, 11):\n",
    "    Knn_regressor = KNeighborsRegressor(n_neighbors= k)\n",
    "    Knn_regressor.fit(X_test_p, y_test_p)\n",
    "    score = Knn_regressor.score(X_test_p, y_test_p)\n",
    "    results.append((f'k: {k}', score))\n",
    "results\n",
    "# Gets closer but I am still getting 100% for n_number = 1, main reason tutor went with test rather than train.\n",
    "# Reason for 100% on training set is that n_number = 1 compares the point to itself.  The training set should be further split into 2\n",
    "# He will not be covering doing this manually in this course but rather will be using\n",
    "# a built in function."
   ]
  },
  {
   "cell_type": "code",
   "execution_count": 131,
   "metadata": {},
   "outputs": [],
   "source": [
    "# This way will do it properly and easily\n",
    "parameter_grid = {'n_neighbors':[1, 2, 3, 4, 5, 6, 7, 8, 9, 10]}\n",
    "grid = GridSearchCV(KNeighborsRegressor(), param_grid=parameter_grid, refit=True, verbose=3,n_jobs=-1, cv=5)"
   ]
  },
  {
   "cell_type": "code",
   "execution_count": 132,
   "metadata": {},
   "outputs": [
    {
     "name": "stdout",
     "output_type": "stream",
     "text": [
      "Fitting 5 folds for each of 10 candidates, totalling 50 fits\n"
     ]
    },
    {
     "data": {
      "text/html": [
       "<style>#sk-container-id-6 {color: black;}#sk-container-id-6 pre{padding: 0;}#sk-container-id-6 div.sk-toggleable {background-color: white;}#sk-container-id-6 label.sk-toggleable__label {cursor: pointer;display: block;width: 100%;margin-bottom: 0;padding: 0.3em;box-sizing: border-box;text-align: center;}#sk-container-id-6 label.sk-toggleable__label-arrow:before {content: \"▸\";float: left;margin-right: 0.25em;color: #696969;}#sk-container-id-6 label.sk-toggleable__label-arrow:hover:before {color: black;}#sk-container-id-6 div.sk-estimator:hover label.sk-toggleable__label-arrow:before {color: black;}#sk-container-id-6 div.sk-toggleable__content {max-height: 0;max-width: 0;overflow: hidden;text-align: left;background-color: #f0f8ff;}#sk-container-id-6 div.sk-toggleable__content pre {margin: 0.2em;color: black;border-radius: 0.25em;background-color: #f0f8ff;}#sk-container-id-6 input.sk-toggleable__control:checked~div.sk-toggleable__content {max-height: 200px;max-width: 100%;overflow: auto;}#sk-container-id-6 input.sk-toggleable__control:checked~label.sk-toggleable__label-arrow:before {content: \"▾\";}#sk-container-id-6 div.sk-estimator input.sk-toggleable__control:checked~label.sk-toggleable__label {background-color: #d4ebff;}#sk-container-id-6 div.sk-label input.sk-toggleable__control:checked~label.sk-toggleable__label {background-color: #d4ebff;}#sk-container-id-6 input.sk-hidden--visually {border: 0;clip: rect(1px 1px 1px 1px);clip: rect(1px, 1px, 1px, 1px);height: 1px;margin: -1px;overflow: hidden;padding: 0;position: absolute;width: 1px;}#sk-container-id-6 div.sk-estimator {font-family: monospace;background-color: #f0f8ff;border: 1px dotted black;border-radius: 0.25em;box-sizing: border-box;margin-bottom: 0.5em;}#sk-container-id-6 div.sk-estimator:hover {background-color: #d4ebff;}#sk-container-id-6 div.sk-parallel-item::after {content: \"\";width: 100%;border-bottom: 1px solid gray;flex-grow: 1;}#sk-container-id-6 div.sk-label:hover label.sk-toggleable__label {background-color: #d4ebff;}#sk-container-id-6 div.sk-serial::before {content: \"\";position: absolute;border-left: 1px solid gray;box-sizing: border-box;top: 0;bottom: 0;left: 50%;z-index: 0;}#sk-container-id-6 div.sk-serial {display: flex;flex-direction: column;align-items: center;background-color: white;padding-right: 0.2em;padding-left: 0.2em;position: relative;}#sk-container-id-6 div.sk-item {position: relative;z-index: 1;}#sk-container-id-6 div.sk-parallel {display: flex;align-items: stretch;justify-content: center;background-color: white;position: relative;}#sk-container-id-6 div.sk-item::before, #sk-container-id-6 div.sk-parallel-item::before {content: \"\";position: absolute;border-left: 1px solid gray;box-sizing: border-box;top: 0;bottom: 0;left: 50%;z-index: -1;}#sk-container-id-6 div.sk-parallel-item {display: flex;flex-direction: column;z-index: 1;position: relative;background-color: white;}#sk-container-id-6 div.sk-parallel-item:first-child::after {align-self: flex-end;width: 50%;}#sk-container-id-6 div.sk-parallel-item:last-child::after {align-self: flex-start;width: 50%;}#sk-container-id-6 div.sk-parallel-item:only-child::after {width: 0;}#sk-container-id-6 div.sk-dashed-wrapped {border: 1px dashed gray;margin: 0 0.4em 0.5em 0.4em;box-sizing: border-box;padding-bottom: 0.4em;background-color: white;}#sk-container-id-6 div.sk-label label {font-family: monospace;font-weight: bold;display: inline-block;line-height: 1.2em;}#sk-container-id-6 div.sk-label-container {text-align: center;}#sk-container-id-6 div.sk-container {/* jupyter's `normalize.less` sets `[hidden] { display: none; }` but bootstrap.min.css set `[hidden] { display: none !important; }` so we also need the `!important` here to be able to override the default hidden behavior on the sphinx rendered scikit-learn.org. See: https://github.com/scikit-learn/scikit-learn/issues/21755 */display: inline-block !important;position: relative;}#sk-container-id-6 div.sk-text-repr-fallback {display: none;}</style><div id=\"sk-container-id-6\" class=\"sk-top-container\"><div class=\"sk-text-repr-fallback\"><pre>GridSearchCV(cv=5, estimator=KNeighborsRegressor(), n_jobs=-1,\n",
       "             param_grid={&#x27;n_neighbors&#x27;: [1, 2, 3, 4, 5, 6, 7, 8, 9, 10]},\n",
       "             verbose=3)</pre><b>In a Jupyter environment, please rerun this cell to show the HTML representation or trust the notebook. <br />On GitHub, the HTML representation is unable to render, please try loading this page with nbviewer.org.</b></div><div class=\"sk-container\" hidden><div class=\"sk-item sk-dashed-wrapped\"><div class=\"sk-label-container\"><div class=\"sk-label sk-toggleable\"><input class=\"sk-toggleable__control sk-hidden--visually\" id=\"sk-estimator-id-6\" type=\"checkbox\" ><label for=\"sk-estimator-id-6\" class=\"sk-toggleable__label sk-toggleable__label-arrow\">GridSearchCV</label><div class=\"sk-toggleable__content\"><pre>GridSearchCV(cv=5, estimator=KNeighborsRegressor(), n_jobs=-1,\n",
       "             param_grid={&#x27;n_neighbors&#x27;: [1, 2, 3, 4, 5, 6, 7, 8, 9, 10]},\n",
       "             verbose=3)</pre></div></div></div><div class=\"sk-parallel\"><div class=\"sk-parallel-item\"><div class=\"sk-item\"><div class=\"sk-label-container\"><div class=\"sk-label sk-toggleable\"><input class=\"sk-toggleable__control sk-hidden--visually\" id=\"sk-estimator-id-7\" type=\"checkbox\" ><label for=\"sk-estimator-id-7\" class=\"sk-toggleable__label sk-toggleable__label-arrow\">estimator: KNeighborsRegressor</label><div class=\"sk-toggleable__content\"><pre>KNeighborsRegressor()</pre></div></div></div><div class=\"sk-serial\"><div class=\"sk-item\"><div class=\"sk-estimator sk-toggleable\"><input class=\"sk-toggleable__control sk-hidden--visually\" id=\"sk-estimator-id-8\" type=\"checkbox\" ><label for=\"sk-estimator-id-8\" class=\"sk-toggleable__label sk-toggleable__label-arrow\">KNeighborsRegressor</label><div class=\"sk-toggleable__content\"><pre>KNeighborsRegressor()</pre></div></div></div></div></div></div></div></div></div></div>"
      ],
      "text/plain": [
       "GridSearchCV(cv=5, estimator=KNeighborsRegressor(), n_jobs=-1,\n",
       "             param_grid={'n_neighbors': [1, 2, 3, 4, 5, 6, 7, 8, 9, 10]},\n",
       "             verbose=3)"
      ]
     },
     "execution_count": 132,
     "metadata": {},
     "output_type": "execute_result"
    }
   ],
   "source": [
    "grid.fit(X_train_p, y_train_p)"
   ]
  },
  {
   "cell_type": "code",
   "execution_count": 133,
   "metadata": {},
   "outputs": [
    {
     "data": {
      "text/plain": [
       "{'n_neighbors': 10}"
      ]
     },
     "execution_count": 133,
     "metadata": {},
     "output_type": "execute_result"
    }
   ],
   "source": [
    "grid.best_params_"
   ]
  },
  {
   "cell_type": "code",
   "execution_count": 134,
   "metadata": {},
   "outputs": [
    {
     "data": {
      "text/plain": [
       "{'mean_fit_time': array([0.00211992, 0.00238853, 0.00133777, 0.00104661, 0.00130696,\n",
       "        0.00183506, 0.        , 0.00120468, 0.00040832, 0.00101523]),\n",
       " 'std_fit_time': array([0.00423985, 0.00394587, 0.00084066, 0.00209322, 0.00039638,\n",
       "        0.00256632, 0.        , 0.00147543, 0.00081663, 0.00203047]),\n",
       " 'mean_score_time': array([0.        , 0.00110469, 0.00180035, 0.00185523, 0.00090418,\n",
       "        0.00294194, 0.        , 0.00231271, 0.00243878, 0.        ]),\n",
       " 'std_score_time': array([0.        , 0.00136238, 0.00146391, 0.00224385, 0.00073827,\n",
       "        0.00272477, 0.        , 0.00240328, 0.0022788 , 0.        ]),\n",
       " 'param_n_neighbors': masked_array(data=[1, 2, 3, 4, 5, 6, 7, 8, 9, 10],\n",
       "              mask=[False, False, False, False, False, False, False, False,\n",
       "                    False, False],\n",
       "        fill_value='?',\n",
       "             dtype=object),\n",
       " 'params': [{'n_neighbors': 1},\n",
       "  {'n_neighbors': 2},\n",
       "  {'n_neighbors': 3},\n",
       "  {'n_neighbors': 4},\n",
       "  {'n_neighbors': 5},\n",
       "  {'n_neighbors': 6},\n",
       "  {'n_neighbors': 7},\n",
       "  {'n_neighbors': 8},\n",
       "  {'n_neighbors': 9},\n",
       "  {'n_neighbors': 10}],\n",
       " 'split0_test_score': array([0.62487386, 0.7962051 , 0.8094518 , 0.84218595, 0.84591591,\n",
       "        0.84136827, 0.84177156, 0.83552034, 0.84924546, 0.84778438]),\n",
       " 'split1_test_score': array([0.76610179, 0.79469688, 0.81652558, 0.82766615, 0.84289959,\n",
       "        0.83130091, 0.8149783 , 0.81810622, 0.80949712, 0.79875853]),\n",
       " 'split2_test_score': array([0.76028127, 0.81639577, 0.82978704, 0.83407407, 0.84053536,\n",
       "        0.83835947, 0.84643012, 0.8595277 , 0.86142024, 0.86112104]),\n",
       " 'split3_test_score': array([0.674877  , 0.78278825, 0.77524902, 0.79256168, 0.79080429,\n",
       "        0.79302601, 0.81055864, 0.81060217, 0.8173999 , 0.82695221]),\n",
       " 'split4_test_score': array([0.65106382, 0.73852098, 0.74452222, 0.73449804, 0.76697071,\n",
       "        0.77753656, 0.77685312, 0.768824  , 0.76527812, 0.76940978]),\n",
       " 'mean_test_score': array([0.69543955, 0.7857214 , 0.79510713, 0.80619718, 0.81742517,\n",
       "        0.81631824, 0.81811835, 0.81851609, 0.82056817, 0.82080519]),\n",
       " 'std_test_score': array([0.05756586, 0.02595329, 0.03104962, 0.03964826, 0.03240084,\n",
       "        0.02601672, 0.02502343, 0.03001066, 0.03370719, 0.0332222 ]),\n",
       " 'rank_test_score': array([10,  9,  8,  7,  5,  6,  4,  3,  2,  1])}"
      ]
     },
     "execution_count": 134,
     "metadata": {},
     "output_type": "execute_result"
    }
   ],
   "source": [
    "grid.cv_results_"
   ]
  },
  {
   "cell_type": "code",
   "execution_count": 137,
   "metadata": {},
   "outputs": [
    {
     "data": {
      "text/plain": [
       "dict_keys(['mean_fit_time', 'std_fit_time', 'mean_score_time', 'std_score_time', 'param_n_neighbors', 'params', 'split0_test_score', 'split1_test_score', 'split2_test_score', 'split3_test_score', 'split4_test_score', 'mean_test_score', 'std_test_score', 'rank_test_score'])"
      ]
     },
     "execution_count": 137,
     "metadata": {},
     "output_type": "execute_result"
    }
   ],
   "source": [
    "grid.cv_results_.keys()"
   ]
  },
  {
   "cell_type": "code",
   "execution_count": 138,
   "metadata": {},
   "outputs": [
    {
     "data": {
      "text/plain": [
       "array([0.69543955, 0.7857214 , 0.79510713, 0.80619718, 0.81742517,\n",
       "       0.81631824, 0.81811835, 0.81851609, 0.82056817, 0.82080519])"
      ]
     },
     "execution_count": 138,
     "metadata": {},
     "output_type": "execute_result"
    }
   ],
   "source": [
    "grid.cv_results_['mean_test_score']"
   ]
  },
  {
   "cell_type": "code",
   "execution_count": 149,
   "metadata": {},
   "outputs": [
    {
     "data": {
      "text/html": [
       "<style>#sk-container-id-8 {color: black;}#sk-container-id-8 pre{padding: 0;}#sk-container-id-8 div.sk-toggleable {background-color: white;}#sk-container-id-8 label.sk-toggleable__label {cursor: pointer;display: block;width: 100%;margin-bottom: 0;padding: 0.3em;box-sizing: border-box;text-align: center;}#sk-container-id-8 label.sk-toggleable__label-arrow:before {content: \"▸\";float: left;margin-right: 0.25em;color: #696969;}#sk-container-id-8 label.sk-toggleable__label-arrow:hover:before {color: black;}#sk-container-id-8 div.sk-estimator:hover label.sk-toggleable__label-arrow:before {color: black;}#sk-container-id-8 div.sk-toggleable__content {max-height: 0;max-width: 0;overflow: hidden;text-align: left;background-color: #f0f8ff;}#sk-container-id-8 div.sk-toggleable__content pre {margin: 0.2em;color: black;border-radius: 0.25em;background-color: #f0f8ff;}#sk-container-id-8 input.sk-toggleable__control:checked~div.sk-toggleable__content {max-height: 200px;max-width: 100%;overflow: auto;}#sk-container-id-8 input.sk-toggleable__control:checked~label.sk-toggleable__label-arrow:before {content: \"▾\";}#sk-container-id-8 div.sk-estimator input.sk-toggleable__control:checked~label.sk-toggleable__label {background-color: #d4ebff;}#sk-container-id-8 div.sk-label input.sk-toggleable__control:checked~label.sk-toggleable__label {background-color: #d4ebff;}#sk-container-id-8 input.sk-hidden--visually {border: 0;clip: rect(1px 1px 1px 1px);clip: rect(1px, 1px, 1px, 1px);height: 1px;margin: -1px;overflow: hidden;padding: 0;position: absolute;width: 1px;}#sk-container-id-8 div.sk-estimator {font-family: monospace;background-color: #f0f8ff;border: 1px dotted black;border-radius: 0.25em;box-sizing: border-box;margin-bottom: 0.5em;}#sk-container-id-8 div.sk-estimator:hover {background-color: #d4ebff;}#sk-container-id-8 div.sk-parallel-item::after {content: \"\";width: 100%;border-bottom: 1px solid gray;flex-grow: 1;}#sk-container-id-8 div.sk-label:hover label.sk-toggleable__label {background-color: #d4ebff;}#sk-container-id-8 div.sk-serial::before {content: \"\";position: absolute;border-left: 1px solid gray;box-sizing: border-box;top: 0;bottom: 0;left: 50%;z-index: 0;}#sk-container-id-8 div.sk-serial {display: flex;flex-direction: column;align-items: center;background-color: white;padding-right: 0.2em;padding-left: 0.2em;position: relative;}#sk-container-id-8 div.sk-item {position: relative;z-index: 1;}#sk-container-id-8 div.sk-parallel {display: flex;align-items: stretch;justify-content: center;background-color: white;position: relative;}#sk-container-id-8 div.sk-item::before, #sk-container-id-8 div.sk-parallel-item::before {content: \"\";position: absolute;border-left: 1px solid gray;box-sizing: border-box;top: 0;bottom: 0;left: 50%;z-index: -1;}#sk-container-id-8 div.sk-parallel-item {display: flex;flex-direction: column;z-index: 1;position: relative;background-color: white;}#sk-container-id-8 div.sk-parallel-item:first-child::after {align-self: flex-end;width: 50%;}#sk-container-id-8 div.sk-parallel-item:last-child::after {align-self: flex-start;width: 50%;}#sk-container-id-8 div.sk-parallel-item:only-child::after {width: 0;}#sk-container-id-8 div.sk-dashed-wrapped {border: 1px dashed gray;margin: 0 0.4em 0.5em 0.4em;box-sizing: border-box;padding-bottom: 0.4em;background-color: white;}#sk-container-id-8 div.sk-label label {font-family: monospace;font-weight: bold;display: inline-block;line-height: 1.2em;}#sk-container-id-8 div.sk-label-container {text-align: center;}#sk-container-id-8 div.sk-container {/* jupyter's `normalize.less` sets `[hidden] { display: none; }` but bootstrap.min.css set `[hidden] { display: none !important; }` so we also need the `!important` here to be able to override the default hidden behavior on the sphinx rendered scikit-learn.org. See: https://github.com/scikit-learn/scikit-learn/issues/21755 */display: inline-block !important;position: relative;}#sk-container-id-8 div.sk-text-repr-fallback {display: none;}</style><div id=\"sk-container-id-8\" class=\"sk-top-container\"><div class=\"sk-text-repr-fallback\"><pre>KNeighborsRegressor(n_neighbors=9)</pre><b>In a Jupyter environment, please rerun this cell to show the HTML representation or trust the notebook. <br />On GitHub, the HTML representation is unable to render, please try loading this page with nbviewer.org.</b></div><div class=\"sk-container\" hidden><div class=\"sk-item\"><div class=\"sk-estimator sk-toggleable\"><input class=\"sk-toggleable__control sk-hidden--visually\" id=\"sk-estimator-id-10\" type=\"checkbox\" checked><label for=\"sk-estimator-id-10\" class=\"sk-toggleable__label sk-toggleable__label-arrow\">KNeighborsRegressor</label><div class=\"sk-toggleable__content\"><pre>KNeighborsRegressor(n_neighbors=9)</pre></div></div></div></div></div>"
      ],
      "text/plain": [
       "KNeighborsRegressor(n_neighbors=9)"
      ]
     },
     "execution_count": 149,
     "metadata": {},
     "output_type": "execute_result"
    }
   ],
   "source": [
    "# Tutor got highest mean result with n_neighbors set to 10, mine gave 9 so using 9 instead.\n",
    "knn_p_grid = KNeighborsRegressor(n_neighbors=9)\n",
    "knn_p_grid.fit(X_train_p, y_train_p)"
   ]
  },
  {
   "cell_type": "code",
   "execution_count": 150,
   "metadata": {},
   "outputs": [],
   "source": [
    "pred_p_grid = knn_p_grid.predict(X_train_p)"
   ]
  },
  {
   "cell_type": "code",
   "execution_count": 141,
   "metadata": {},
   "outputs": [
    {
     "data": {
      "text/plain": [
       "array([3261.11111111, 4666.66666667, 5341.66666667, 5605.55555556,\n",
       "       4133.33333333, 5350.        , 5097.22222222, 3680.55555556,\n",
       "       3975.        , 3972.22222222, 4472.22222222, 3852.77777778,\n",
       "       3816.66666667, 3847.22222222, 4608.33333333, 3427.77777778,\n",
       "       4569.44444444, 5058.33333333, 5588.88888889, 3402.77777778,\n",
       "       4694.44444444, 3436.11111111, 4922.22222222, 5116.66666667,\n",
       "       4788.88888889, 5063.88888889, 5661.11111111, 5516.66666667,\n",
       "       3372.22222222, 3591.66666667, 3936.11111111, 3938.88888889,\n",
       "       3955.55555556, 3216.66666667, 3725.        , 3505.55555556,\n",
       "       5538.88888889, 3813.88888889, 3411.11111111, 3341.66666667,\n",
       "       4013.88888889, 3452.77777778, 3580.55555556, 5394.44444444,\n",
       "       3500.        , 3916.66666667, 3572.22222222, 4700.        ,\n",
       "       5261.11111111, 3661.11111111, 3205.55555556, 5255.55555556,\n",
       "       3533.33333333, 4775.        , 3177.77777778, 3472.22222222,\n",
       "       3566.66666667, 5461.11111111, 3997.22222222, 3483.33333333,\n",
       "       3797.22222222, 3741.66666667, 4102.77777778, 4750.        ,\n",
       "       5588.88888889, 3916.66666667, 3916.66666667, 5030.55555556,\n",
       "       5316.66666667, 3936.11111111, 4827.77777778, 4861.11111111,\n",
       "       3561.11111111, 4469.44444444, 3936.11111111, 4147.22222222,\n",
       "       5222.22222222, 5380.55555556, 3902.77777778, 3591.66666667,\n",
       "       3877.77777778, 3486.11111111, 4463.88888889, 3861.11111111,\n",
       "       3408.33333333, 4763.88888889, 3230.55555556, 5047.22222222,\n",
       "       3813.88888889, 3586.11111111, 5033.33333333, 3191.66666667,\n",
       "       3866.66666667, 4236.11111111, 3680.55555556, 5561.11111111,\n",
       "       3483.33333333, 5233.33333333, 5538.88888889, 4086.11111111,\n",
       "       4811.11111111, 3438.88888889, 4788.88888889, 3208.33333333,\n",
       "       3833.33333333, 4397.22222222, 5350.        , 3363.88888889,\n",
       "       5238.88888889, 3625.        , 4519.44444444, 3919.44444444,\n",
       "       5544.44444444, 3947.22222222, 3600.        , 5094.44444444,\n",
       "       3461.11111111, 3405.55555556, 3341.66666667, 3527.77777778,\n",
       "       5069.44444444, 3200.        , 3788.88888889, 3811.11111111,\n",
       "       4547.22222222, 3586.11111111, 5097.22222222, 4086.11111111,\n",
       "       3797.22222222, 3555.55555556, 4894.44444444, 3458.33333333,\n",
       "       3416.66666667, 3850.        , 3577.77777778, 4688.88888889,\n",
       "       3361.11111111, 3280.55555556, 4097.22222222, 5183.33333333,\n",
       "       3575.        , 3952.77777778, 5544.44444444, 3180.55555556,\n",
       "       5266.66666667, 3980.55555556, 3961.11111111, 3316.66666667,\n",
       "       3408.33333333, 5522.22222222, 3877.77777778, 3969.44444444,\n",
       "       3369.44444444, 4661.11111111, 3952.77777778, 3477.77777778,\n",
       "       4408.33333333, 5372.22222222, 3538.88888889, 5472.22222222,\n",
       "       4794.44444444, 3772.22222222, 3783.33333333, 3777.77777778,\n",
       "       3936.11111111, 4077.77777778, 4341.66666667, 3316.66666667,\n",
       "       5058.33333333, 3938.88888889, 4188.88888889, 3952.77777778,\n",
       "       3813.88888889, 5522.22222222, 3952.77777778, 5583.33333333,\n",
       "       4525.        , 4113.88888889, 5533.33333333, 3419.44444444,\n",
       "       3752.77777778, 4122.22222222, 5058.33333333, 5488.88888889,\n",
       "       5080.55555556, 4597.22222222, 3930.55555556, 4052.77777778,\n",
       "       3522.22222222, 5497.22222222, 3680.55555556, 4513.88888889,\n",
       "       3463.88888889, 3577.77777778, 5047.22222222, 3805.55555556,\n",
       "       3975.        , 3205.55555556, 3933.33333333, 4102.77777778,\n",
       "       3141.66666667, 3761.11111111, 3944.44444444, 5361.11111111,\n",
       "       4175.        , 3597.22222222, 3563.88888889, 3552.77777778,\n",
       "       3419.44444444, 3858.33333333, 4130.55555556, 4202.77777778,\n",
       "       3211.11111111, 4519.44444444, 3933.33333333, 3411.11111111,\n",
       "       4141.66666667, 5372.22222222, 3608.33333333, 4230.55555556,\n",
       "       4466.66666667, 5605.55555556, 3686.11111111, 3716.66666667,\n",
       "       5600.        , 5077.77777778, 3677.77777778, 3383.33333333,\n",
       "       3850.        , 4163.88888889, 5633.33333333, 4783.33333333,\n",
       "       4636.11111111, 3716.66666667, 3863.88888889, 3450.        ,\n",
       "       5516.66666667, 3302.77777778, 4408.33333333, 4600.        ,\n",
       "       3780.55555556, 5063.88888889, 4627.77777778, 3663.88888889,\n",
       "       3658.33333333, 3805.55555556, 3472.22222222, 4111.11111111,\n",
       "       4427.77777778])"
      ]
     },
     "execution_count": 141,
     "metadata": {},
     "output_type": "execute_result"
    }
   ],
   "source": [
    "pred_p_grid"
   ]
  },
  {
   "cell_type": "code",
   "execution_count": 151,
   "metadata": {},
   "outputs": [
    {
     "data": {
      "text/plain": [
       "0.8568960033607019"
      ]
     },
     "execution_count": 151,
     "metadata": {},
     "output_type": "execute_result"
    }
   ],
   "source": [
    "knn_p_grid.score(X_train_p, y_train_p)"
   ]
  },
  {
   "cell_type": "code",
   "execution_count": 152,
   "metadata": {},
   "outputs": [
    {
     "data": {
      "image/png": "[encoded data removed]",
      "text/plain": [
       "<Figure size 500x500 with 1 Axes>"
      ]
     },
     "metadata": {},
     "output_type": "display_data"
    }
   ],
   "source": [
    "sns.relplot(y=y_train_p, x=pred_p).fig.savefig(r'output/Penguins_relplot_trainSetGrid.png')"
   ]
  }
 ],
 "metadata": {
  "kernelspec": {
   "display_name": "Python 3",
   "language": "python",
   "name": "python3"
  },
  "language_info": {
   "codemirror_mode": {
    "name": "ipython",
    "version": 3
   },
   "file_extension": ".py",
   "mimetype": "text/x-python",
   "name": "python",
   "nbconvert_exporter": "python",
   "pygments_lexer": "ipython3",
   "version": "3.12.0"
  }
 },
 "nbformat": 4,
 "nbformat_minor": 2
}
