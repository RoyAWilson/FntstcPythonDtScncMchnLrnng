{
 "cells": [
  {
   "cell_type": "code",
   "execution_count": 169,
   "id": "bdc0e789-887d-40bc-8935-7957cfb6a276",
   "metadata": {},
   "outputs": [],
   "source": [
    "# Shakespeare Sonnet Challenge\n",
    "\n",
    "sonnet_18 = \"\"\"Shall I compare thee to a summer’s day?\n",
    "Thou art more lovely and more temperate.\n",
    "Rough winds do shake the darling buds of May,\n",
    "And summer’s lease hath all too short a date.\n",
    "Sometime too hot the eye of heaven shines,\n",
    "And often is his gold complexion dimmed;\n",
    "And every fair from fair sometime declines,\n",
    "By chance, or nature’s changing course, untrimmed;\n",
    "But thy eternal summer shall not fade,\n",
    "Nor lose possession of that fair thou ow’st,\n",
    "Nor shall death brag thou wand'rest in his shade,\n",
    "When in eternal lines to Time thou grow'st.\n",
    "So long as men can breathe, or eyes can see,\n",
    "So long lives this, and this gives life to thee.\"\"\"\n",
    "\n",
    "sonnet_30 = \"\"\"When to the sessions of sweet silent thought\n",
    "I summon up remembrance of things past,\n",
    "I sigh the lack of many a thing I sought,\n",
    "And with old woes new wail my dear time's waste:\n",
    "Then can I drown an eye, unus'd to flow,\n",
    "For precious friends hid in death's dateless night,\n",
    "And weep afresh love's long since cancell'd woe,\n",
    "And moan th' expense of many a vanish'd sight;\n",
    "Then can I grieve at grievances foregone,\n",
    "And heavily from woe to woe tell o'er\n",
    "The sad account of fore-bemoaned moan,\n",
    "Which I new pay as if not paid before.\n",
    "But if the while I think on thee, dear friend,\n",
    "All losses are restor'd, and sorrows end.\"\"\""
   ]
  },
  {
   "cell_type": "code",
   "execution_count": 170,
   "id": "76be68b8-f891-4799-8784-5db9374868e6",
   "metadata": {},
   "outputs": [
    {
     "data": {
      "text/plain": [
       "\"Shall I compare thee to a summer’s day?\\nThou art more lovely and more temperate.\\nRough winds do shake the darling buds of May,\\nAnd summer’s lease hath all too short a date.\\nSometime too hot the eye of heaven shines,\\nAnd often is his gold complexion dimmed;\\nAnd every fair from fair sometime declines,\\nBy chance, or nature’s changing course, untrimmed;\\nBut thy eternal summer shall not fade,\\nNor lose possession of that fair thou ow’st,\\nNor shall death brag thou wand'rest in his shade,\\nWhen in eternal lines to Time thou grow'st.\\nSo long as men can breathe, or eyes can see,\\nSo long lives this, and this gives life to thee.\""
      ]
     },
     "execution_count": 170,
     "metadata": {},
     "output_type": "execute_result"
    }
   ],
   "source": [
    "sonnet_30\n",
    "sonnet_18"
   ]
  },
  {
   "cell_type": "markdown",
   "id": "d603a06b",
   "metadata": {},
   "source": [
    "# Section 10 - Shakespeare Sonnets Challenge\n",
    "# Lecture 48 The Challenge\n",
    "# Lecture 49 Solution Part 1 - Data Cleaning\n",
    "# Lecture 50 Solution Part 2 - Text Analysis"
   ]
  },
  {
   "cell_type": "markdown",
   "id": "65ec5673",
   "metadata": {},
   "source": [
    "### Q1. How many words in total have been used in both sonnets?\n",
    "### Q2. How many unique words have been used in these 1 sonnets?\n",
    "### Q3. Which words appear in both sonnets?\n",
    "### Q4. Which words have appeared in sonnet 18 but not in 30\n",
    "### Q5. Which words have appeared in sonnet 30 but not 18"
   ]
  },
  {
   "cell_type": "markdown",
   "id": "df433ae7",
   "metadata": {},
   "source": [
    "#### 1. Clean Data"
   ]
  },
  {
   "cell_type": "code",
   "execution_count": 171,
   "id": "c8f1f0e9",
   "metadata": {},
   "outputs": [
    {
     "data": {
      "text/plain": [
       "str"
      ]
     },
     "execution_count": 171,
     "metadata": {},
     "output_type": "execute_result"
    }
   ],
   "source": [
    "sonnet_18 = str(sonnet_18)\n",
    "type(sonnet_18)\n",
    "# Not sure why sonnet 18 is being interpretted as a tuple\n"
   ]
  },
  {
   "cell_type": "code",
   "execution_count": 172,
   "id": "78979594-46e0-4789-a029-0e8ecdd78c4c",
   "metadata": {},
   "outputs": [
    {
     "data": {
      "text/plain": [
       "(\"When to the sessions of sweet silent thought I summon up remembrance of things past I sigh the lack of many a thing I sought And with old woes new wail my dear time's waste Then can I drown an eye unus'd to flow For precious friends hid in death's dateless night And weep afresh love's long since cancell'd woe And moan th' expense of many a vanish'd sight Then can I grieve at grievances foregone And heavily from woe to woe tell o'er The sad account of fore-bemoaned moan Which I new pay as if not paid before. But if the while I think on thee dear friend All losses are restor'd and sorrows end.\",\n",
       " \"Shall I compare thee to a summer’s day Thou art more lovely and more temperate. Rough winds do shake the darling buds of May And summer’s lease hath all too short a date. Sometime too hot the eye of heaven shines And often is his gold complexion dimmed And every fair from fair sometime declines By chance or nature’s changing course untrimmed But thy eternal summer shall not fade Nor lose possession of that fair thou ow’st Nor shall death brag thou wand'rest in his shade When in eternal lines to Time thou grow'st. So long as men can breathe or eyes can see So long lives this and this gives life to thee.\")"
      ]
     },
     "execution_count": 172,
     "metadata": {},
     "output_type": "execute_result"
    }
   ],
   "source": [
    "punc = ['\\n', ',', '?', ':', ';']\n",
    "for char in punc:\n",
    "    sonnet_30 = sonnet_30.replace(char, ' ')\n",
    "    sonnet_18 = sonnet_18.replace(char, ' ')\n",
    "sonnet_18 = sonnet_18.replace('  ', ' ')\n",
    "sonnet_30 = sonnet_30.replace('  ', ' ')\n",
    "sonnet_30, sonnet_18\n",
    "\n",
    "# Tutor removed all punctuation separately for some reaseon."
   ]
  },
  {
   "cell_type": "code",
   "execution_count": 173,
   "id": "967db86d",
   "metadata": {},
   "outputs": [
    {
     "name": "stdout",
     "output_type": "stream",
     "text": [
      "shall i compare thee to a summer’s day thou art more lovely and more temperate. rough winds do shake the darling buds of may and summer’s lease hath all too short a date. sometime too hot the eye of heaven shines and often is his gold complexion dimmed and every fair from fair sometime declines by chance or nature’s changing course untrimmed but thy eternal summer shall not fade nor lose possession of that fair thou ow’st nor shall death brag thou wand'rest in his shade when in eternal lines to time thou grow'st. so long as men can breathe or eyes can see so long lives this and this gives life to thee.\n",
      "when to the sessions of sweet silent thought i summon up remembrance of things past i sigh the lack of many a thing i sought and with old woes new wail my dear time's waste then can i drown an eye unus'd to flow for precious friends hid in death's dateless night and weep afresh love's long since cancell'd woe and moan th' expense of many a vanish'd sight then can i grieve at grievances foregone and heavily from woe to woe tell o'er the sad account of fore-bemoaned moan which i new pay as if not paid before. but if the while i think on thee dear friend all losses are restor'd and sorrows end.\n"
     ]
    }
   ],
   "source": [
    "sonnet_30 = sonnet_30.lower()\n",
    "sonnet_18 = sonnet_18.lower()\n",
    "print(sonnet_18)\n",
    "print(sonnet_30)"
   ]
  },
  {
   "cell_type": "markdown",
   "id": "3286bcbc",
   "metadata": {},
   "source": [
    "### Q2. How many unique words have been used in these sonnets?"
   ]
  },
  {
   "cell_type": "code",
   "execution_count": 178,
   "id": "a54fc94f",
   "metadata": {},
   "outputs": [
    {
     "name": "stdout",
     "output_type": "stream",
     "text": [
      "Q1. the number of words in sonnet 18 is 114\n",
      "Q1. The number of words used in sonnet 30 is 116\n",
      "Q1. The sum of words used in both sonnets is 230\n"
     ]
    }
   ],
   "source": [
    "# print(sonnet_18)\n",
    "# Prepare the sonnets to cast to set as words\n",
    "# Tutor used x.split() to split the strings into lists.  Probably easier than what I did.\n",
    "sonnet_18 = sonnet_18 + ' ' # Add space as last character of string to allow for last word to add to list\n",
    "lst_18 = []\n",
    "word = ''\n",
    "for i in range(2, len(sonnet_18)):\n",
    "    if sonnet_18[i] != ' ':\n",
    "        word = word + sonnet_18[i]\n",
    "    else:\n",
    "        lst_18.append(word)\n",
    "        word = ''\n",
    "print(f'Q1. the number of words in sonnet 18 is {len(lst_18)}')\n",
    "sonnet_30 = sonnet_30 + ' ' # Add space as last character of string to allow for last word to add to list\n",
    "lst_30 = []\n",
    "word2 = ''\n",
    "for i2 in range(0, len(sonnet_30)):\n",
    "    if sonnet_30[i2] != ' ':\n",
    "        word2 = word2 + sonnet_30[i2]\n",
    "    else:\n",
    "        lst_30.append(word2)\n",
    "        word2 = ''\n",
    "\n",
    "print(f'Q1. The number of words used in sonnet 30 is {len(lst_30)}')\n",
    "print(f'Q1. The sum of words used in both sonnets is {len(lst_18) + len(lst_30)}')\n",
    "sonnet_30_set = set(lst_30)\n",
    "sonnet_18_set = set(lst_18)\n",
    "# print(sonnet_18_set)\n",
    "# print(sonnet_30_set)"
   ]
  },
  {
   "cell_type": "markdown",
   "id": "db0d5467",
   "metadata": {},
   "source": [
    "#### Missed copying one question down - How many unique words used in each sonnet"
   ]
  },
  {
   "cell_type": "code",
   "execution_count": 189,
   "id": "6102a98a",
   "metadata": {},
   "outputs": [
    {
     "name": "stdout",
     "output_type": "stream",
     "text": [
      "Unique words in sonnet 18 = 84\n",
      "Unique words in sonnet 30 = 87\n",
      "Total unique words across both sonnets = 154\n"
     ]
    }
   ],
   "source": [
    "print(f'Unique words in sonnet 18 = {len(sonnet_18_set)}')\n",
    "print(f'Unique words in sonnet 30 = {len(sonnet_30_set)}')\n",
    "both = lst_30 + lst_18\n",
    "both_set = set(both)\n",
    "print(f'Total unique words across both sonnets = {len(both_set)}')"
   ]
  },
  {
   "cell_type": "markdown",
   "id": "2e57470a",
   "metadata": {},
   "source": [
    "### Qustion 3 -  Which words appear in both sonnets?"
   ]
  },
  {
   "cell_type": "code",
   "execution_count": 192,
   "id": "c05ed3a5",
   "metadata": {},
   "outputs": [
    {
     "name": "stdout",
     "output_type": "stream",
     "text": [
      "The number of words appearing in each sonnet are 17, they are:\n",
      "{'when', 'to', 'long', 'and', 'the', 'a', 'in', 'thee', 'not', 'i', 'of', 'can', 'as', 'all', 'from', 'eye', 'but'}\n"
     ]
    }
   ],
   "source": [
    "print(f'The number of words appearing in each sonnet are {len(sonnet_18_set.intersection(sonnet_30_set))}, they are:\\n{sonnet_18_set.intersection(sonnet_30_set)}')"
   ]
  },
  {
   "cell_type": "markdown",
   "id": "4d9a312e",
   "metadata": {},
   "source": [
    "### Q4. Which words have appeared in sonnet 18 but not in 30"
   ]
  },
  {
   "cell_type": "code",
   "execution_count": 194,
   "id": "99a47844",
   "metadata": {},
   "outputs": [
    {
     "name": "stdout",
     "output_type": "stream",
     "text": [
      "The number of words appearing in in sonnet 18 but not 30 is 67 and they are:\n",
      "{'eyes', 'too', 'thou', 'nor', 'rough', 'brag', 'breathe', 'thee.', 'life', 'short', 'may', 'that', 'men', 'complexion', 'chance', 'or', 'eternal', 'lose', 'heaven', 'hot', 'gold', 'buds', 'so', \"wand'rest\", 'fade', 'death', 'day', 'his', 'shines', 'by', 'winds', 'lives', 'see', 'gives', 'summer', 'untrimmed', 'compare', 'art', 'dimmed', 'every', 'course', 'lines', 'ow’st', 'is', 'do', 'thy', 'often', 'lovely', 'temperate.', 'shake', 'sometime', 'nature’s', 'shall', 'fair', 'date.', \"grow'st.\", 'time', 'declines', 'darling', 'summer’s', 'shade', 'lease', 'hath', 'this', 'changing', 'more', 'possession'}\n"
     ]
    }
   ],
   "source": [
    "print(f'The number of words appearing in in sonnet 18 but not 30 is {len(sonnet_18_set.difference(sonnet_30_set))} and they are:\\n{sonnet_18_set.difference(sonnet_30_set)}')"
   ]
  },
  {
   "cell_type": "markdown",
   "id": "85624399",
   "metadata": {},
   "source": [
    "### Q5. Which words have appeared in sonnet 30 but not 18"
   ]
  },
  {
   "cell_type": "code",
   "execution_count": 195,
   "id": "7e44dff1",
   "metadata": {},
   "outputs": [
    {
     "name": "stdout",
     "output_type": "stream",
     "text": [
      "The number of words appearing in in sonnet 30 but not 18 is 70 and they are:\n",
      "{'friend', 'with', 'sorrows', 'moan', 'grievances', 'an', 'sad', 'sought', 'thought', 'things', 'flow', 'fore-bemoaned', \"cancell'd\", 'at', 'account', 'friends', 'think', 'past', 'sweet', \"love's\", 'afresh', 'woes', 'wail', 'while', 'expense', 'sight', 'my', 'paid', 'tell', 'summon', 'hid', \"time's\", \"restor'd\", 'thing', \"unus'd\", 'old', 'sigh', 'lack', 'dear', 'grieve', 'precious', 'remembrance', 'if', 'up', 'drown', \"vanish'd\", 'end.', 'new', 'woe', 'losses', 'before.', 'on', 'weep', 'foregone', 'are', 'night', 'since', 'sessions', \"death's\", 'then', \"th'\", 'waste', 'heavily', 'many', \"o'er\", 'pay', 'for', 'silent', 'which', 'dateless'}\n"
     ]
    }
   ],
   "source": [
    "print(f'The number of words appearing in in sonnet 30 but not 18 is {len(sonnet_30_set.difference(sonnet_18_set))} and they are:\\n{sonnet_30_set.difference(sonnet_18_set)}')"
   ]
  },
  {
   "cell_type": "code",
   "execution_count": null,
   "id": "a7a37731",
   "metadata": {},
   "outputs": [],
   "source": []
  }
 ],
 "metadata": {
  "kernelspec": {
   "display_name": "Python 3 (ipykernel)",
   "language": "python",
   "name": "python3"
  },
  "language_info": {
   "codemirror_mode": {
    "name": "ipython",
    "version": 3
   },
   "file_extension": ".py",
   "mimetype": "text/x-python",
   "name": "python",
   "nbconvert_exporter": "python",
   "pygments_lexer": "ipython3",
   "version": "3.11.4"
  }
 },
 "nbformat": 4,
 "nbformat_minor": 5
}
