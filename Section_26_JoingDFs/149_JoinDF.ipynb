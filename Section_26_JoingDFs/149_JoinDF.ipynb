{
 "cells": [
  {
   "cell_type": "markdown",
   "metadata": {},
   "source": [
    "# Section 26 Part 2:  Joining Dataframes with Pandas\n",
    "\n",
    "#### Lecture 149:  Introduction to Joining Dataframes\n",
    "#### Lecture 150:  Vertical Merge (Concat)\n",
    "#### Lecture 151:  Horizontal Merge (Inner Join)\n",
    "#### Lecture 152:  Horizontal Merge (Outer/Left/Right)\n",
    "#### Lecture 153:  Financial Ratios Case\n",
    "#### Lecture 154:  Financial Ratios:  Merge\n",
    "#### Lecture 155:  Financial Ratios:  Calculations\n",
    "#### Lecture 156:  Financial Ratios:  Solutions"
   ]
  },
  {
   "cell_type": "code",
   "execution_count": null,
   "metadata": {},
   "outputs": [],
   "source": []
  }
 ],
 "metadata": {
  "language_info": {
   "name": "python"
  }
 },
 "nbformat": 4,
 "nbformat_minor": 2
}
