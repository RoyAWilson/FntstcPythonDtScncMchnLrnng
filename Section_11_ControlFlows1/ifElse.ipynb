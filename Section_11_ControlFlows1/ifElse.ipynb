{
 "cells": [
  {
   "cell_type": "markdown",
   "metadata": {},
   "source": [
    "# Section 11 Control Flows if else and switch case\n",
    "# Lecture 51 If Else\n",
    "# Lecture 52 A Little More Complexity\n",
    "# Lecture 53 Switch Case Statement for multiple Options"
   ]
  },
  {
   "cell_type": "markdown",
   "metadata": {},
   "source": [
    "#### Example 1 A student with a score > 60% is a pass."
   ]
  },
  {
   "cell_type": "code",
   "execution_count": 13,
   "metadata": {},
   "outputs": [],
   "source": [
    "score = .7"
   ]
  },
  {
   "cell_type": "code",
   "execution_count": 14,
   "metadata": {},
   "outputs": [
    {
     "name": "stdout",
     "output_type": "stream",
     "text": [
      "The grade is Pass\n"
     ]
    }
   ],
   "source": [
    "if score >=0.6:\n",
    "    print('The grade is Pass')\n",
    "else:\n",
    "    'Fail'"
   ]
  },
  {
   "cell_type": "markdown",
   "metadata": {},
   "source": [
    "#### Example 2 a students grades to be deterimined as follows:\n",
    "#### 0 - 59 F\n",
    "#### 60 - 69 D\n",
    "#### 70 - 79 C\n",
    "#### 80 - 89 B\n",
    "#### 90 - 100 A"
   ]
  },
  {
   "cell_type": "code",
   "execution_count": 15,
   "metadata": {},
   "outputs": [
    {
     "name": "stdout",
     "output_type": "stream",
     "text": [
      "Grade C\n"
     ]
    }
   ],
   "source": [
    "if score >= .9:\n",
    "    print('Grade A')\n",
    "elif score >=.8:\n",
    "    print('Grade B')\n",
    "elif score >= .7:\n",
    "    print('Grade C')\n",
    "elif score >= .6:\n",
    "    print('Grade D')\n",
    "else:\n",
    "    print('Grade F - Fail')\n",
    "\n",
    "# Tutor went from lowest <.6"
   ]
  },
  {
   "cell_type": "markdown",
   "metadata": {},
   "source": [
    "### Switch Case (Match Case):"
   ]
  },
  {
   "cell_type": "markdown",
   "metadata": {},
   "source": [
    "#### Suppose you have a number of stock ticker symbols and you want to find the company name\n",
    "#### Associated with each:\n",
    "\n",
    "#### AAPL: Apple\n",
    "#### MSFT: Microsoft\n",
    "#### GOOG: Google"
   ]
  },
  {
   "cell_type": "code",
   "execution_count": 31,
   "metadata": {},
   "outputs": [
    {
     "name": "stdout",
     "output_type": "stream",
     "text": [
      "Sorry not found\n"
     ]
    }
   ],
   "source": [
    "ticker = 'JPM'\n",
    "stock = ''\n",
    "\n",
    "match ticker:\n",
    "    case 'AAPL':\n",
    "        stock = 'Apple'\n",
    "    case 'MSFT':\n",
    "        stock = 'Microsoft'\n",
    "    case 'GOOG':\n",
    "        stock = 'Google'\n",
    "    case _:\n",
    "        stock = 'Sorry not found'\n",
    "        \n",
    "print(stock)"
   ]
  },
  {
   "cell_type": "code",
   "execution_count": 32,
   "metadata": {},
   "outputs": [
    {
     "name": "stdout",
     "output_type": "stream",
     "text": [
      "Hello\n"
     ]
    }
   ],
   "source": [
    "x = 1\n",
    "match x:\n",
    "    case 1:\n",
    "        print('Hello')\n",
    "    case 2:\n",
    "        print('Bye')\n",
    "    case _:\n",
    "        print('Not Found')\n"
   ]
  }
 ],
 "metadata": {
  "kernelspec": {
   "display_name": "Python 3",
   "language": "python",
   "name": "python3"
  },
  "language_info": {
   "codemirror_mode": {
    "name": "ipython",
    "version": 3
   },
   "file_extension": ".py",
   "mimetype": "text/x-python",
   "name": "python",
   "nbconvert_exporter": "python",
   "pygments_lexer": "ipython3",
   "version": "3.12.0"
  }
 },
 "nbformat": 4,
 "nbformat_minor": 2
}
