{
 "cells": [
  {
   "cell_type": "markdown",
   "metadata": {},
   "source": [
    "# Section 21 Modules and Packages:\n",
    "\n",
    "#### Lecture 113:  Installing VS Code\n",
    "#### Lecture 114:  Basics of Python Modules\n",
    "#### Lecture 115:  How to Import Modules\n",
    "#### Lecture 116:  Pytthon Packages and Sub Packages\n",
    "#### Lecture 117:  \\*Absolute Import (Advanced/Optional)\n",
    "#### Lecture 118:  \\*Relative Import (Advanced/Optional)\n",
    "#### Lecture 119:  \\*\\__ini\\__ in packages (Advanced/Optional)\n",
    "#### Lecture 120:  Common Mistakes in Importing\n",
    "#### Lecture 121: Concluding Remarks for this section"
   ]
  },
  {
   "cell_type": "markdown",
   "metadata": {},
   "source": [
    "Goes through very basics of installing and creating a basic test file in VS Code"
   ]
  },
  {
   "cell_type": "code",
   "execution_count": null,
   "metadata": {},
   "outputs": [],
   "source": []
  }
 ],
 "metadata": {
  "language_info": {
   "name": "python"
  }
 },
 "nbformat": 4,
 "nbformat_minor": 2
}
