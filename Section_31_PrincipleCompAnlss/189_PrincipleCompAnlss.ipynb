{
 "cells": [
  {
   "cell_type": "markdown",
   "metadata": {},
   "source": [
    "# Section 31 Part 3:  Principle Component Analysis (Iris, World Happiness Index):\n",
    "\n",
    "##### Lecture 189 The Main Ideas\n",
    "##### Lecture 190 The Main Idea 2\n",
    "##### Lecture 191 Data Preprossing\n",
    "##### Lecture 192 Training the PCA Model\n",
    "##### Lecture 193 Get Principle Components Out\n",
    "##### Lecture 194 Classification with Logistic Regression\n",
    "##### Lecture 195 \\z* Maths Behind (Optional)\n",
    "##### Lecture 196 Case: World Happiness Index\n"
   ]
  },
  {
   "cell_type": "code",
   "execution_count": 174,
   "metadata": {},
   "outputs": [],
   "source": [
    "import pandas as pd\n",
    "import matplotlib.pyplot as plt\n",
    "import seaborn as sns\n",
    "import numpy as np\n",
    "\n",
    "import warnings\n",
    "warnings.filterwarnings('ignore')\n",
    "\n",
    "from sklearn.decomposition import PCA\n",
    "from sklearn.preprocessing import StandardScaler\n",
    "from sklearn.linear_model import LogisticRegression\n",
    "from sklearn.model_selection import train_test_split\n",
    "from sklearn import metrics"
   ]
  },
  {
   "cell_type": "markdown",
   "metadata": {},
   "source": [
    "### Example 1: Iris Dataset"
   ]
  },
  {
   "cell_type": "code",
   "execution_count": 175,
   "metadata": {},
   "outputs": [],
   "source": [
    "iris = sns.load_dataset('iris')"
   ]
  },
  {
   "cell_type": "markdown",
   "metadata": {},
   "source": [
    "#### Step 1: Scale the Data"
   ]
  },
  {
   "cell_type": "code",
   "execution_count": 176,
   "metadata": {},
   "outputs": [
    {
     "data": {
      "text/html": [
       "<div>\n",
       "<style scoped>\n",
       "    .dataframe tbody tr th:only-of-type {\n",
       "        vertical-align: middle;\n",
       "    }\n",
       "\n",
       "    .dataframe tbody tr th {\n",
       "        vertical-align: top;\n",
       "    }\n",
       "\n",
       "    .dataframe thead th {\n",
       "        text-align: right;\n",
       "    }\n",
       "</style>\n",
       "<table border=\"1\" class=\"dataframe\">\n",
       "  <thead>\n",
       "    <tr style=\"text-align: right;\">\n",
       "      <th></th>\n",
       "      <th>sepal_length</th>\n",
       "      <th>sepal_width</th>\n",
       "      <th>petal_length</th>\n",
       "      <th>petal_width</th>\n",
       "    </tr>\n",
       "  </thead>\n",
       "  <tbody>\n",
       "    <tr>\n",
       "      <th>count</th>\n",
       "      <td>150.000000</td>\n",
       "      <td>150.000000</td>\n",
       "      <td>150.000000</td>\n",
       "      <td>150.000000</td>\n",
       "    </tr>\n",
       "    <tr>\n",
       "      <th>mean</th>\n",
       "      <td>5.843333</td>\n",
       "      <td>3.057333</td>\n",
       "      <td>3.758000</td>\n",
       "      <td>1.199333</td>\n",
       "    </tr>\n",
       "    <tr>\n",
       "      <th>std</th>\n",
       "      <td>0.828066</td>\n",
       "      <td>0.435866</td>\n",
       "      <td>1.765298</td>\n",
       "      <td>0.762238</td>\n",
       "    </tr>\n",
       "    <tr>\n",
       "      <th>min</th>\n",
       "      <td>4.300000</td>\n",
       "      <td>2.000000</td>\n",
       "      <td>1.000000</td>\n",
       "      <td>0.100000</td>\n",
       "    </tr>\n",
       "    <tr>\n",
       "      <th>25%</th>\n",
       "      <td>5.100000</td>\n",
       "      <td>2.800000</td>\n",
       "      <td>1.600000</td>\n",
       "      <td>0.300000</td>\n",
       "    </tr>\n",
       "    <tr>\n",
       "      <th>50%</th>\n",
       "      <td>5.800000</td>\n",
       "      <td>3.000000</td>\n",
       "      <td>4.350000</td>\n",
       "      <td>1.300000</td>\n",
       "    </tr>\n",
       "    <tr>\n",
       "      <th>75%</th>\n",
       "      <td>6.400000</td>\n",
       "      <td>3.300000</td>\n",
       "      <td>5.100000</td>\n",
       "      <td>1.800000</td>\n",
       "    </tr>\n",
       "    <tr>\n",
       "      <th>max</th>\n",
       "      <td>7.900000</td>\n",
       "      <td>4.400000</td>\n",
       "      <td>6.900000</td>\n",
       "      <td>2.500000</td>\n",
       "    </tr>\n",
       "  </tbody>\n",
       "</table>\n",
       "</div>"
      ],
      "text/plain": [
       "       sepal_length  sepal_width  petal_length  petal_width\n",
       "count    150.000000   150.000000    150.000000   150.000000\n",
       "mean       5.843333     3.057333      3.758000     1.199333\n",
       "std        0.828066     0.435866      1.765298     0.762238\n",
       "min        4.300000     2.000000      1.000000     0.100000\n",
       "25%        5.100000     2.800000      1.600000     0.300000\n",
       "50%        5.800000     3.000000      4.350000     1.300000\n",
       "75%        6.400000     3.300000      5.100000     1.800000\n",
       "max        7.900000     4.400000      6.900000     2.500000"
      ]
     },
     "execution_count": 176,
     "metadata": {},
     "output_type": "execute_result"
    }
   ],
   "source": [
    "iris.describe()"
   ]
  },
  {
   "cell_type": "code",
   "execution_count": 177,
   "metadata": {},
   "outputs": [
    {
     "data": {
      "text/plain": [
       "(150, 4)"
      ]
     },
     "execution_count": 177,
     "metadata": {},
     "output_type": "execute_result"
    }
   ],
   "source": [
    "scaler = StandardScaler()\n",
    "scaler.fit(iris.iloc[:, 0:4])\n",
    "X = scaler.transform(iris.iloc[:, 0:4])\n",
    "X.shape"
   ]
  },
  {
   "cell_type": "code",
   "execution_count": 178,
   "metadata": {},
   "outputs": [
    {
     "data": {
      "text/plain": [
       "-4.736951571734001e-16"
      ]
     },
     "execution_count": 178,
     "metadata": {},
     "output_type": "execute_result"
    }
   ],
   "source": [
    "X[:, 0].mean()"
   ]
  },
  {
   "cell_type": "code",
   "execution_count": 179,
   "metadata": {},
   "outputs": [],
   "source": [
    "y = iris.species"
   ]
  },
  {
   "cell_type": "markdown",
   "metadata": {},
   "source": [
    "#### Step 2: PCA\n",
    "##### Fit()\n",
    "##### Loaing Vectors\n",
    "##### Explained Variances\n",
    "##### Variance Ratios"
   ]
  },
  {
   "cell_type": "code",
   "execution_count": 180,
   "metadata": {},
   "outputs": [
    {
     "data": {
      "text/html": [
       "<style>#sk-container-id-4 {color: black;}#sk-container-id-4 pre{padding: 0;}#sk-container-id-4 div.sk-toggleable {background-color: white;}#sk-container-id-4 label.sk-toggleable__label {cursor: pointer;display: block;width: 100%;margin-bottom: 0;padding: 0.3em;box-sizing: border-box;text-align: center;}#sk-container-id-4 label.sk-toggleable__label-arrow:before {content: \"▸\";float: left;margin-right: 0.25em;color: #696969;}#sk-container-id-4 label.sk-toggleable__label-arrow:hover:before {color: black;}#sk-container-id-4 div.sk-estimator:hover label.sk-toggleable__label-arrow:before {color: black;}#sk-container-id-4 div.sk-toggleable__content {max-height: 0;max-width: 0;overflow: hidden;text-align: left;background-color: #f0f8ff;}#sk-container-id-4 div.sk-toggleable__content pre {margin: 0.2em;color: black;border-radius: 0.25em;background-color: #f0f8ff;}#sk-container-id-4 input.sk-toggleable__control:checked~div.sk-toggleable__content {max-height: 200px;max-width: 100%;overflow: auto;}#sk-container-id-4 input.sk-toggleable__control:checked~label.sk-toggleable__label-arrow:before {content: \"▾\";}#sk-container-id-4 div.sk-estimator input.sk-toggleable__control:checked~label.sk-toggleable__label {background-color: #d4ebff;}#sk-container-id-4 div.sk-label input.sk-toggleable__control:checked~label.sk-toggleable__label {background-color: #d4ebff;}#sk-container-id-4 input.sk-hidden--visually {border: 0;clip: rect(1px 1px 1px 1px);clip: rect(1px, 1px, 1px, 1px);height: 1px;margin: -1px;overflow: hidden;padding: 0;position: absolute;width: 1px;}#sk-container-id-4 div.sk-estimator {font-family: monospace;background-color: #f0f8ff;border: 1px dotted black;border-radius: 0.25em;box-sizing: border-box;margin-bottom: 0.5em;}#sk-container-id-4 div.sk-estimator:hover {background-color: #d4ebff;}#sk-container-id-4 div.sk-parallel-item::after {content: \"\";width: 100%;border-bottom: 1px solid gray;flex-grow: 1;}#sk-container-id-4 div.sk-label:hover label.sk-toggleable__label {background-color: #d4ebff;}#sk-container-id-4 div.sk-serial::before {content: \"\";position: absolute;border-left: 1px solid gray;box-sizing: border-box;top: 0;bottom: 0;left: 50%;z-index: 0;}#sk-container-id-4 div.sk-serial {display: flex;flex-direction: column;align-items: center;background-color: white;padding-right: 0.2em;padding-left: 0.2em;position: relative;}#sk-container-id-4 div.sk-item {position: relative;z-index: 1;}#sk-container-id-4 div.sk-parallel {display: flex;align-items: stretch;justify-content: center;background-color: white;position: relative;}#sk-container-id-4 div.sk-item::before, #sk-container-id-4 div.sk-parallel-item::before {content: \"\";position: absolute;border-left: 1px solid gray;box-sizing: border-box;top: 0;bottom: 0;left: 50%;z-index: -1;}#sk-container-id-4 div.sk-parallel-item {display: flex;flex-direction: column;z-index: 1;position: relative;background-color: white;}#sk-container-id-4 div.sk-parallel-item:first-child::after {align-self: flex-end;width: 50%;}#sk-container-id-4 div.sk-parallel-item:last-child::after {align-self: flex-start;width: 50%;}#sk-container-id-4 div.sk-parallel-item:only-child::after {width: 0;}#sk-container-id-4 div.sk-dashed-wrapped {border: 1px dashed gray;margin: 0 0.4em 0.5em 0.4em;box-sizing: border-box;padding-bottom: 0.4em;background-color: white;}#sk-container-id-4 div.sk-label label {font-family: monospace;font-weight: bold;display: inline-block;line-height: 1.2em;}#sk-container-id-4 div.sk-label-container {text-align: center;}#sk-container-id-4 div.sk-container {/* jupyter's `normalize.less` sets `[hidden] { display: none; }` but bootstrap.min.css set `[hidden] { display: none !important; }` so we also need the `!important` here to be able to override the default hidden behavior on the sphinx rendered scikit-learn.org. See: https://github.com/scikit-learn/scikit-learn/issues/21755 */display: inline-block !important;position: relative;}#sk-container-id-4 div.sk-text-repr-fallback {display: none;}</style><div id=\"sk-container-id-4\" class=\"sk-top-container\"><div class=\"sk-text-repr-fallback\"><pre>PCA()</pre><b>In a Jupyter environment, please rerun this cell to show the HTML representation or trust the notebook. <br />On GitHub, the HTML representation is unable to render, please try loading this page with nbviewer.org.</b></div><div class=\"sk-container\" hidden><div class=\"sk-item\"><div class=\"sk-estimator sk-toggleable\"><input class=\"sk-toggleable__control sk-hidden--visually\" id=\"sk-estimator-id-4\" type=\"checkbox\" checked><label for=\"sk-estimator-id-4\" class=\"sk-toggleable__label sk-toggleable__label-arrow\">PCA</label><div class=\"sk-toggleable__content\"><pre>PCA()</pre></div></div></div></div></div>"
      ],
      "text/plain": [
       "PCA()"
      ]
     },
     "execution_count": 180,
     "metadata": {},
     "output_type": "execute_result"
    }
   ],
   "source": [
    "pca_iris = PCA()\n",
    "pca_iris.fit(X)"
   ]
  },
  {
   "cell_type": "code",
   "execution_count": 181,
   "metadata": {},
   "outputs": [
    {
     "data": {
      "text/plain": [
       "array([[ 0.52106591, -0.26934744,  0.5804131 ,  0.56485654],\n",
       "       [ 0.37741762,  0.92329566,  0.02449161,  0.06694199],\n",
       "       [-0.71956635,  0.24438178,  0.14212637,  0.63427274],\n",
       "       [-0.26128628,  0.12350962,  0.80144925, -0.52359713]])"
      ]
     },
     "execution_count": 181,
     "metadata": {},
     "output_type": "execute_result"
    }
   ],
   "source": [
    "pca_iris.components_"
   ]
  },
  {
   "cell_type": "code",
   "execution_count": 182,
   "metadata": {},
   "outputs": [
    {
     "data": {
      "text/plain": [
       "array([2.93808505, 0.9201649 , 0.14774182, 0.02085386])"
      ]
     },
     "execution_count": 182,
     "metadata": {},
     "output_type": "execute_result"
    }
   ],
   "source": [
    "pca_iris.explained_variance_"
   ]
  },
  {
   "cell_type": "code",
   "execution_count": 183,
   "metadata": {},
   "outputs": [
    {
     "data": {
      "text/plain": [
       "array([0.72962445, 0.22850762, 0.03668922, 0.00517871])"
      ]
     },
     "execution_count": 183,
     "metadata": {},
     "output_type": "execute_result"
    }
   ],
   "source": [
    "pca_iris.explained_variance_ratio_"
   ]
  },
  {
   "cell_type": "code",
   "execution_count": 184,
   "metadata": {},
   "outputs": [
    {
     "data": {
      "text/plain": [
       "array([0.72962445, 0.95813207, 0.99482129, 1.        ])"
      ]
     },
     "execution_count": 184,
     "metadata": {},
     "output_type": "execute_result"
    }
   ],
   "source": [
    "pca_iris.explained_variance_ratio_.cumsum()\n",
    "# Gives the rations as a cumulative percentage.  Allows to decide how many dimensions to keep.  Dependent on how accurate need to be."
   ]
  },
  {
   "cell_type": "markdown",
   "metadata": {},
   "source": [
    "#### Step 3: Draw a scree plot of vaiance"
   ]
  },
  {
   "cell_type": "code",
   "execution_count": 185,
   "metadata": {},
   "outputs": [
    {
     "data": {
      "image/png": "[encoded data removed]",
      "text/plain": [
       "<Figure size 390x300 with 1 Axes>"
      ]
     },
     "metadata": {},
     "output_type": "display_data"
    }
   ],
   "source": [
    "sns.relplot(x=['PC1', 'PC2', 'PC3', 'PC4'],y=pca_iris.explained_variance_ratio_, palette='tab10', kind='line', height=3, aspect=1.3 ).figure.savefig(r'output/IrisRelplot_1.png')"
   ]
  },
  {
   "cell_type": "code",
   "execution_count": 186,
   "metadata": {},
   "outputs": [
    {
     "data": {
      "image/png": "[encoded data removed]",
      "text/plain": [
       "<Figure size 390x300 with 1 Axes>"
      ]
     },
     "metadata": {},
     "output_type": "display_data"
    }
   ],
   "source": [
    "sns.relplot(x=['PC1', 'PC2', 'PC3', 'PC4'],y=pca_iris.explained_variance_ratio_.cumsum(), palette='tab10', kind='line', height=3, aspect=1.3 ).figure.savefig(r'output/IrisRelplot_2CumSum.png')"
   ]
  },
  {
   "cell_type": "markdown",
   "metadata": {},
   "source": [
    "#### Lecture 193 Get principle components out"
   ]
  },
  {
   "cell_type": "markdown",
   "metadata": {},
   "source": [
    "##### Step 4: Plot data with principle compoents"
   ]
  },
  {
   "cell_type": "code",
   "execution_count": 187,
   "metadata": {},
   "outputs": [
    {
     "data": {
      "text/html": [
       "<div>\n",
       "<style scoped>\n",
       "    .dataframe tbody tr th:only-of-type {\n",
       "        vertical-align: middle;\n",
       "    }\n",
       "\n",
       "    .dataframe tbody tr th {\n",
       "        vertical-align: top;\n",
       "    }\n",
       "\n",
       "    .dataframe thead th {\n",
       "        text-align: right;\n",
       "    }\n",
       "</style>\n",
       "<table border=\"1\" class=\"dataframe\">\n",
       "  <thead>\n",
       "    <tr style=\"text-align: right;\">\n",
       "      <th></th>\n",
       "      <th>PC1</th>\n",
       "      <th>PC2</th>\n",
       "      <th>PC3</th>\n",
       "      <th>PC4</th>\n",
       "    </tr>\n",
       "  </thead>\n",
       "  <tbody>\n",
       "    <tr>\n",
       "      <th>0</th>\n",
       "      <td>-2.264703</td>\n",
       "      <td>0.480027</td>\n",
       "      <td>-0.127706</td>\n",
       "      <td>-0.024168</td>\n",
       "    </tr>\n",
       "    <tr>\n",
       "      <th>1</th>\n",
       "      <td>-2.080961</td>\n",
       "      <td>-0.674134</td>\n",
       "      <td>-0.234609</td>\n",
       "      <td>-0.103007</td>\n",
       "    </tr>\n",
       "    <tr>\n",
       "      <th>2</th>\n",
       "      <td>-2.364229</td>\n",
       "      <td>-0.341908</td>\n",
       "      <td>0.044201</td>\n",
       "      <td>-0.028377</td>\n",
       "    </tr>\n",
       "    <tr>\n",
       "      <th>3</th>\n",
       "      <td>-2.299384</td>\n",
       "      <td>-0.597395</td>\n",
       "      <td>0.091290</td>\n",
       "      <td>0.065956</td>\n",
       "    </tr>\n",
       "    <tr>\n",
       "      <th>4</th>\n",
       "      <td>-2.389842</td>\n",
       "      <td>0.646835</td>\n",
       "      <td>0.015738</td>\n",
       "      <td>0.035923</td>\n",
       "    </tr>\n",
       "    <tr>\n",
       "      <th>...</th>\n",
       "      <td>...</td>\n",
       "      <td>...</td>\n",
       "      <td>...</td>\n",
       "      <td>...</td>\n",
       "    </tr>\n",
       "    <tr>\n",
       "      <th>145</th>\n",
       "      <td>1.870503</td>\n",
       "      <td>0.386966</td>\n",
       "      <td>0.256274</td>\n",
       "      <td>-0.389257</td>\n",
       "    </tr>\n",
       "    <tr>\n",
       "      <th>146</th>\n",
       "      <td>1.564580</td>\n",
       "      <td>-0.896687</td>\n",
       "      <td>-0.026371</td>\n",
       "      <td>-0.220192</td>\n",
       "    </tr>\n",
       "    <tr>\n",
       "      <th>147</th>\n",
       "      <td>1.521170</td>\n",
       "      <td>0.269069</td>\n",
       "      <td>0.180178</td>\n",
       "      <td>-0.119171</td>\n",
       "    </tr>\n",
       "    <tr>\n",
       "      <th>148</th>\n",
       "      <td>1.372788</td>\n",
       "      <td>1.011254</td>\n",
       "      <td>0.933395</td>\n",
       "      <td>-0.026129</td>\n",
       "    </tr>\n",
       "    <tr>\n",
       "      <th>149</th>\n",
       "      <td>0.960656</td>\n",
       "      <td>-0.024332</td>\n",
       "      <td>0.528249</td>\n",
       "      <td>0.163078</td>\n",
       "    </tr>\n",
       "  </tbody>\n",
       "</table>\n",
       "<p>150 rows × 4 columns</p>\n",
       "</div>"
      ],
      "text/plain": [
       "          PC1       PC2       PC3       PC4\n",
       "0   -2.264703  0.480027 -0.127706 -0.024168\n",
       "1   -2.080961 -0.674134 -0.234609 -0.103007\n",
       "2   -2.364229 -0.341908  0.044201 -0.028377\n",
       "3   -2.299384 -0.597395  0.091290  0.065956\n",
       "4   -2.389842  0.646835  0.015738  0.035923\n",
       "..        ...       ...       ...       ...\n",
       "145  1.870503  0.386966  0.256274 -0.389257\n",
       "146  1.564580 -0.896687 -0.026371 -0.220192\n",
       "147  1.521170  0.269069  0.180178 -0.119171\n",
       "148  1.372788  1.011254  0.933395 -0.026129\n",
       "149  0.960656 -0.024332  0.528249  0.163078\n",
       "\n",
       "[150 rows x 4 columns]"
      ]
     },
     "execution_count": 187,
     "metadata": {},
     "output_type": "execute_result"
    }
   ],
   "source": [
    "X_pca = pd.DataFrame(pca_iris.transform(X), columns=['PC1', 'PC2', 'PC3', 'PC4'])\n",
    "X_pca\n"
   ]
  },
  {
   "cell_type": "code",
   "execution_count": 188,
   "metadata": {},
   "outputs": [
    {
     "data": {
      "text/html": [
       "<div>\n",
       "<style scoped>\n",
       "    .dataframe tbody tr th:only-of-type {\n",
       "        vertical-align: middle;\n",
       "    }\n",
       "\n",
       "    .dataframe tbody tr th {\n",
       "        vertical-align: top;\n",
       "    }\n",
       "\n",
       "    .dataframe thead th {\n",
       "        text-align: right;\n",
       "    }\n",
       "</style>\n",
       "<table border=\"1\" class=\"dataframe\">\n",
       "  <thead>\n",
       "    <tr style=\"text-align: right;\">\n",
       "      <th></th>\n",
       "      <th>PC1</th>\n",
       "      <th>PC2</th>\n",
       "      <th>PC3</th>\n",
       "      <th>PC4</th>\n",
       "      <th>Species</th>\n",
       "    </tr>\n",
       "  </thead>\n",
       "  <tbody>\n",
       "    <tr>\n",
       "      <th>0</th>\n",
       "      <td>-2.264703</td>\n",
       "      <td>0.480027</td>\n",
       "      <td>-0.127706</td>\n",
       "      <td>-0.024168</td>\n",
       "      <td>setosa</td>\n",
       "    </tr>\n",
       "    <tr>\n",
       "      <th>1</th>\n",
       "      <td>-2.080961</td>\n",
       "      <td>-0.674134</td>\n",
       "      <td>-0.234609</td>\n",
       "      <td>-0.103007</td>\n",
       "      <td>setosa</td>\n",
       "    </tr>\n",
       "    <tr>\n",
       "      <th>2</th>\n",
       "      <td>-2.364229</td>\n",
       "      <td>-0.341908</td>\n",
       "      <td>0.044201</td>\n",
       "      <td>-0.028377</td>\n",
       "      <td>setosa</td>\n",
       "    </tr>\n",
       "    <tr>\n",
       "      <th>3</th>\n",
       "      <td>-2.299384</td>\n",
       "      <td>-0.597395</td>\n",
       "      <td>0.091290</td>\n",
       "      <td>0.065956</td>\n",
       "      <td>setosa</td>\n",
       "    </tr>\n",
       "    <tr>\n",
       "      <th>4</th>\n",
       "      <td>-2.389842</td>\n",
       "      <td>0.646835</td>\n",
       "      <td>0.015738</td>\n",
       "      <td>0.035923</td>\n",
       "      <td>setosa</td>\n",
       "    </tr>\n",
       "    <tr>\n",
       "      <th>...</th>\n",
       "      <td>...</td>\n",
       "      <td>...</td>\n",
       "      <td>...</td>\n",
       "      <td>...</td>\n",
       "      <td>...</td>\n",
       "    </tr>\n",
       "    <tr>\n",
       "      <th>145</th>\n",
       "      <td>1.870503</td>\n",
       "      <td>0.386966</td>\n",
       "      <td>0.256274</td>\n",
       "      <td>-0.389257</td>\n",
       "      <td>virginica</td>\n",
       "    </tr>\n",
       "    <tr>\n",
       "      <th>146</th>\n",
       "      <td>1.564580</td>\n",
       "      <td>-0.896687</td>\n",
       "      <td>-0.026371</td>\n",
       "      <td>-0.220192</td>\n",
       "      <td>virginica</td>\n",
       "    </tr>\n",
       "    <tr>\n",
       "      <th>147</th>\n",
       "      <td>1.521170</td>\n",
       "      <td>0.269069</td>\n",
       "      <td>0.180178</td>\n",
       "      <td>-0.119171</td>\n",
       "      <td>virginica</td>\n",
       "    </tr>\n",
       "    <tr>\n",
       "      <th>148</th>\n",
       "      <td>1.372788</td>\n",
       "      <td>1.011254</td>\n",
       "      <td>0.933395</td>\n",
       "      <td>-0.026129</td>\n",
       "      <td>virginica</td>\n",
       "    </tr>\n",
       "    <tr>\n",
       "      <th>149</th>\n",
       "      <td>0.960656</td>\n",
       "      <td>-0.024332</td>\n",
       "      <td>0.528249</td>\n",
       "      <td>0.163078</td>\n",
       "      <td>virginica</td>\n",
       "    </tr>\n",
       "  </tbody>\n",
       "</table>\n",
       "<p>150 rows × 5 columns</p>\n",
       "</div>"
      ],
      "text/plain": [
       "          PC1       PC2       PC3       PC4    Species\n",
       "0   -2.264703  0.480027 -0.127706 -0.024168     setosa\n",
       "1   -2.080961 -0.674134 -0.234609 -0.103007     setosa\n",
       "2   -2.364229 -0.341908  0.044201 -0.028377     setosa\n",
       "3   -2.299384 -0.597395  0.091290  0.065956     setosa\n",
       "4   -2.389842  0.646835  0.015738  0.035923     setosa\n",
       "..        ...       ...       ...       ...        ...\n",
       "145  1.870503  0.386966  0.256274 -0.389257  virginica\n",
       "146  1.564580 -0.896687 -0.026371 -0.220192  virginica\n",
       "147  1.521170  0.269069  0.180178 -0.119171  virginica\n",
       "148  1.372788  1.011254  0.933395 -0.026129  virginica\n",
       "149  0.960656 -0.024332  0.528249  0.163078  virginica\n",
       "\n",
       "[150 rows x 5 columns]"
      ]
     },
     "execution_count": 188,
     "metadata": {},
     "output_type": "execute_result"
    }
   ],
   "source": [
    "iris_transform = X_pca.copy()\n",
    "iris_transform['Species'] = y\n",
    "iris_transform"
   ]
  },
  {
   "cell_type": "code",
   "execution_count": 189,
   "metadata": {},
   "outputs": [
    {
     "ename": "KeyboardInterrupt",
     "evalue": "",
     "output_type": "error",
     "traceback": [
      "\u001b[1;31m---------------------------------------------------------------------------\u001b[0m",
      "\u001b[1;31mKeyboardInterrupt\u001b[0m                         Traceback (most recent call last)",
      "Cell \u001b[1;32mIn[189], line 1\u001b[0m\n\u001b[1;32m----> 1\u001b[0m \u001b[43msns\u001b[49m\u001b[38;5;241;43m.\u001b[39;49m\u001b[43mpairplot\u001b[49m\u001b[43m(\u001b[49m\u001b[43mdata\u001b[49m\u001b[38;5;241;43m=\u001b[39;49m\u001b[43miris_transform\u001b[49m\u001b[43m,\u001b[49m\u001b[43m \u001b[49m\u001b[43mhue\u001b[49m\u001b[38;5;241;43m=\u001b[39;49m\u001b[38;5;124;43m'\u001b[39;49m\u001b[38;5;124;43mSpecies\u001b[39;49m\u001b[38;5;124;43m'\u001b[39;49m\u001b[43m)\u001b[49m\u001b[38;5;241m.\u001b[39mfig\u001b[38;5;241m.\u001b[39msavefig(\u001b[38;5;124mr\u001b[39m\u001b[38;5;124m'\u001b[39m\u001b[38;5;124moutput/Iris_transform_pairplot.png\u001b[39m\u001b[38;5;124m'\u001b[39m)\n",
      "File \u001b[1;32mc:\\Users\\royaw\\AppData\\Local\\Programs\\Python\\Python312\\Lib\\site-packages\\seaborn\\axisgrid.py:2119\u001b[0m, in \u001b[0;36mpairplot\u001b[1;34m(data, hue, hue_order, palette, vars, x_vars, y_vars, kind, diag_kind, markers, height, aspect, corner, dropna, plot_kws, diag_kws, grid_kws, size)\u001b[0m\n\u001b[0;32m   2117\u001b[0m \u001b[38;5;66;03m# Set up the PairGrid\u001b[39;00m\n\u001b[0;32m   2118\u001b[0m grid_kws\u001b[38;5;241m.\u001b[39msetdefault(\u001b[38;5;124m\"\u001b[39m\u001b[38;5;124mdiag_sharey\u001b[39m\u001b[38;5;124m\"\u001b[39m, diag_kind \u001b[38;5;241m==\u001b[39m \u001b[38;5;124m\"\u001b[39m\u001b[38;5;124mhist\u001b[39m\u001b[38;5;124m\"\u001b[39m)\n\u001b[1;32m-> 2119\u001b[0m grid \u001b[38;5;241m=\u001b[39m \u001b[43mPairGrid\u001b[49m\u001b[43m(\u001b[49m\u001b[43mdata\u001b[49m\u001b[43m,\u001b[49m\u001b[43m \u001b[49m\u001b[38;5;28;43mvars\u001b[39;49m\u001b[38;5;241;43m=\u001b[39;49m\u001b[38;5;28;43mvars\u001b[39;49m\u001b[43m,\u001b[49m\u001b[43m \u001b[49m\u001b[43mx_vars\u001b[49m\u001b[38;5;241;43m=\u001b[39;49m\u001b[43mx_vars\u001b[49m\u001b[43m,\u001b[49m\u001b[43m \u001b[49m\u001b[43my_vars\u001b[49m\u001b[38;5;241;43m=\u001b[39;49m\u001b[43my_vars\u001b[49m\u001b[43m,\u001b[49m\u001b[43m \u001b[49m\u001b[43mhue\u001b[49m\u001b[38;5;241;43m=\u001b[39;49m\u001b[43mhue\u001b[49m\u001b[43m,\u001b[49m\n\u001b[0;32m   2120\u001b[0m \u001b[43m                \u001b[49m\u001b[43mhue_order\u001b[49m\u001b[38;5;241;43m=\u001b[39;49m\u001b[43mhue_order\u001b[49m\u001b[43m,\u001b[49m\u001b[43m \u001b[49m\u001b[43mpalette\u001b[49m\u001b[38;5;241;43m=\u001b[39;49m\u001b[43mpalette\u001b[49m\u001b[43m,\u001b[49m\u001b[43m \u001b[49m\u001b[43mcorner\u001b[49m\u001b[38;5;241;43m=\u001b[39;49m\u001b[43mcorner\u001b[49m\u001b[43m,\u001b[49m\n\u001b[0;32m   2121\u001b[0m \u001b[43m                \u001b[49m\u001b[43mheight\u001b[49m\u001b[38;5;241;43m=\u001b[39;49m\u001b[43mheight\u001b[49m\u001b[43m,\u001b[49m\u001b[43m \u001b[49m\u001b[43maspect\u001b[49m\u001b[38;5;241;43m=\u001b[39;49m\u001b[43maspect\u001b[49m\u001b[43m,\u001b[49m\u001b[43m \u001b[49m\u001b[43mdropna\u001b[49m\u001b[38;5;241;43m=\u001b[39;49m\u001b[43mdropna\u001b[49m\u001b[43m,\u001b[49m\u001b[43m \u001b[49m\u001b[38;5;241;43m*\u001b[39;49m\u001b[38;5;241;43m*\u001b[39;49m\u001b[43mgrid_kws\u001b[49m\u001b[43m)\u001b[49m\n\u001b[0;32m   2123\u001b[0m \u001b[38;5;66;03m# Add the markers here as PairGrid has figured out how many levels of the\u001b[39;00m\n\u001b[0;32m   2124\u001b[0m \u001b[38;5;66;03m# hue variable are needed and we don't want to duplicate that process\u001b[39;00m\n\u001b[0;32m   2125\u001b[0m \u001b[38;5;28;01mif\u001b[39;00m markers \u001b[38;5;129;01mis\u001b[39;00m \u001b[38;5;129;01mnot\u001b[39;00m \u001b[38;5;28;01mNone\u001b[39;00m:\n",
      "File \u001b[1;32mc:\\Users\\royaw\\AppData\\Local\\Programs\\Python\\Python312\\Lib\\site-packages\\seaborn\\axisgrid.py:1346\u001b[0m, in \u001b[0;36mPairGrid.__init__\u001b[1;34m(self, data, hue, vars, x_vars, y_vars, hue_order, palette, hue_kws, corner, diag_sharey, height, aspect, layout_pad, despine, dropna)\u001b[0m\n\u001b[0;32m   1344\u001b[0m \u001b[38;5;28;01mif\u001b[39;00m ax \u001b[38;5;129;01mis\u001b[39;00m \u001b[38;5;28;01mNone\u001b[39;00m:\n\u001b[0;32m   1345\u001b[0m     \u001b[38;5;28;01mcontinue\u001b[39;00m\n\u001b[1;32m-> 1346\u001b[0m \u001b[38;5;28;01mfor\u001b[39;00m label \u001b[38;5;129;01min\u001b[39;00m \u001b[43max\u001b[49m\u001b[38;5;241;43m.\u001b[39;49m\u001b[43mget_xticklabels\u001b[49m\u001b[43m(\u001b[49m\u001b[43m)\u001b[49m:\n\u001b[0;32m   1347\u001b[0m     label\u001b[38;5;241m.\u001b[39mset_visible(\u001b[38;5;28;01mFalse\u001b[39;00m)\n\u001b[0;32m   1348\u001b[0m ax\u001b[38;5;241m.\u001b[39mxaxis\u001b[38;5;241m.\u001b[39moffsetText\u001b[38;5;241m.\u001b[39mset_visible(\u001b[38;5;28;01mFalse\u001b[39;00m)\n",
      "File \u001b[1;32mc:\\Users\\royaw\\AppData\\Local\\Programs\\Python\\Python312\\Lib\\site-packages\\matplotlib\\axes\\_base.py:73\u001b[0m, in \u001b[0;36m_axis_method_wrapper.__set_name__.<locals>.wrapper\u001b[1;34m(self, *args, **kwargs)\u001b[0m\n\u001b[0;32m     72\u001b[0m \u001b[38;5;28;01mdef\u001b[39;00m \u001b[38;5;21mwrapper\u001b[39m(\u001b[38;5;28mself\u001b[39m, \u001b[38;5;241m*\u001b[39margs, \u001b[38;5;241m*\u001b[39m\u001b[38;5;241m*\u001b[39mkwargs):\n\u001b[1;32m---> 73\u001b[0m     \u001b[38;5;28;01mreturn\u001b[39;00m \u001b[43mget_method\u001b[49m\u001b[43m(\u001b[49m\u001b[38;5;28;43mself\u001b[39;49m\u001b[43m)\u001b[49m\u001b[43m(\u001b[49m\u001b[38;5;241;43m*\u001b[39;49m\u001b[43margs\u001b[49m\u001b[43m,\u001b[49m\u001b[43m \u001b[49m\u001b[38;5;241;43m*\u001b[39;49m\u001b[38;5;241;43m*\u001b[39;49m\u001b[43mkwargs\u001b[49m\u001b[43m)\u001b[49m\n",
      "File \u001b[1;32mc:\\Users\\royaw\\AppData\\Local\\Programs\\Python\\Python312\\Lib\\site-packages\\matplotlib\\axis.py:1467\u001b[0m, in \u001b[0;36mAxis.get_ticklabels\u001b[1;34m(self, minor, which)\u001b[0m\n\u001b[0;32m   1465\u001b[0m \u001b[38;5;28;01mif\u001b[39;00m minor:\n\u001b[0;32m   1466\u001b[0m     \u001b[38;5;28;01mreturn\u001b[39;00m \u001b[38;5;28mself\u001b[39m\u001b[38;5;241m.\u001b[39mget_minorticklabels()\n\u001b[1;32m-> 1467\u001b[0m \u001b[38;5;28;01mreturn\u001b[39;00m \u001b[38;5;28;43mself\u001b[39;49m\u001b[38;5;241;43m.\u001b[39;49m\u001b[43mget_majorticklabels\u001b[49m\u001b[43m(\u001b[49m\u001b[43m)\u001b[49m\n",
      "File \u001b[1;32mc:\\Users\\royaw\\AppData\\Local\\Programs\\Python\\Python312\\Lib\\site-packages\\matplotlib\\axis.py:1424\u001b[0m, in \u001b[0;36mAxis.get_majorticklabels\u001b[1;34m(self)\u001b[0m\n\u001b[0;32m   1422\u001b[0m \u001b[38;5;28;01mdef\u001b[39;00m \u001b[38;5;21mget_majorticklabels\u001b[39m(\u001b[38;5;28mself\u001b[39m):\n\u001b[0;32m   1423\u001b[0m \u001b[38;5;250m    \u001b[39m\u001b[38;5;124;03m\"\"\"Return this Axis' major tick labels, as a list of `~.text.Text`.\"\"\"\u001b[39;00m\n\u001b[1;32m-> 1424\u001b[0m     \u001b[38;5;28;43mself\u001b[39;49m\u001b[38;5;241;43m.\u001b[39;49m\u001b[43m_update_ticks\u001b[49m\u001b[43m(\u001b[49m\u001b[43m)\u001b[49m\n\u001b[0;32m   1425\u001b[0m     ticks \u001b[38;5;241m=\u001b[39m \u001b[38;5;28mself\u001b[39m\u001b[38;5;241m.\u001b[39mget_major_ticks()\n\u001b[0;32m   1426\u001b[0m     labels1 \u001b[38;5;241m=\u001b[39m [tick\u001b[38;5;241m.\u001b[39mlabel1 \u001b[38;5;28;01mfor\u001b[39;00m tick \u001b[38;5;129;01min\u001b[39;00m ticks \u001b[38;5;28;01mif\u001b[39;00m tick\u001b[38;5;241m.\u001b[39mlabel1\u001b[38;5;241m.\u001b[39mget_visible()]\n",
      "File \u001b[1;32mc:\\Users\\royaw\\AppData\\Local\\Programs\\Python\\Python312\\Lib\\site-packages\\matplotlib\\axis.py:1282\u001b[0m, in \u001b[0;36mAxis._update_ticks\u001b[1;34m(self)\u001b[0m\n\u001b[0;32m   1280\u001b[0m     tick\u001b[38;5;241m.\u001b[39mlabel1\u001b[38;5;241m.\u001b[39mset_text(label)\n\u001b[0;32m   1281\u001b[0m     tick\u001b[38;5;241m.\u001b[39mlabel2\u001b[38;5;241m.\u001b[39mset_text(label)\n\u001b[1;32m-> 1282\u001b[0m minor_locs \u001b[38;5;241m=\u001b[39m \u001b[38;5;28;43mself\u001b[39;49m\u001b[38;5;241;43m.\u001b[39;49m\u001b[43mget_minorticklocs\u001b[49m\u001b[43m(\u001b[49m\u001b[43m)\u001b[49m\n\u001b[0;32m   1283\u001b[0m minor_labels \u001b[38;5;241m=\u001b[39m \u001b[38;5;28mself\u001b[39m\u001b[38;5;241m.\u001b[39mminor\u001b[38;5;241m.\u001b[39mformatter\u001b[38;5;241m.\u001b[39mformat_ticks(minor_locs)\n\u001b[0;32m   1284\u001b[0m minor_ticks \u001b[38;5;241m=\u001b[39m \u001b[38;5;28mself\u001b[39m\u001b[38;5;241m.\u001b[39mget_minor_ticks(\u001b[38;5;28mlen\u001b[39m(minor_locs))\n",
      "File \u001b[1;32mc:\\Users\\royaw\\AppData\\Local\\Programs\\Python\\Python312\\Lib\\site-packages\\matplotlib\\axis.py:1502\u001b[0m, in \u001b[0;36mAxis.get_minorticklocs\u001b[1;34m(self)\u001b[0m\n\u001b[0;32m   1500\u001b[0m minor_locs \u001b[38;5;241m=\u001b[39m np\u001b[38;5;241m.\u001b[39masarray(\u001b[38;5;28mself\u001b[39m\u001b[38;5;241m.\u001b[39mminor\u001b[38;5;241m.\u001b[39mlocator())\n\u001b[0;32m   1501\u001b[0m \u001b[38;5;28;01mif\u001b[39;00m \u001b[38;5;28mself\u001b[39m\u001b[38;5;241m.\u001b[39mremove_overlapping_locs:\n\u001b[1;32m-> 1502\u001b[0m     major_locs \u001b[38;5;241m=\u001b[39m \u001b[38;5;28;43mself\u001b[39;49m\u001b[38;5;241;43m.\u001b[39;49m\u001b[43mmajor\u001b[49m\u001b[38;5;241;43m.\u001b[39;49m\u001b[43mlocator\u001b[49m\u001b[43m(\u001b[49m\u001b[43m)\u001b[49m\n\u001b[0;32m   1503\u001b[0m     transform \u001b[38;5;241m=\u001b[39m \u001b[38;5;28mself\u001b[39m\u001b[38;5;241m.\u001b[39m_scale\u001b[38;5;241m.\u001b[39mget_transform()\n\u001b[0;32m   1504\u001b[0m     tr_minor_locs \u001b[38;5;241m=\u001b[39m transform\u001b[38;5;241m.\u001b[39mtransform(minor_locs)\n",
      "File \u001b[1;32mc:\\Users\\royaw\\AppData\\Local\\Programs\\Python\\Python312\\Lib\\site-packages\\matplotlib\\ticker.py:2140\u001b[0m, in \u001b[0;36mMaxNLocator.__call__\u001b[1;34m(self)\u001b[0m\n\u001b[0;32m   2138\u001b[0m \u001b[38;5;28;01mdef\u001b[39;00m \u001b[38;5;21m__call__\u001b[39m(\u001b[38;5;28mself\u001b[39m):\n\u001b[0;32m   2139\u001b[0m     vmin, vmax \u001b[38;5;241m=\u001b[39m \u001b[38;5;28mself\u001b[39m\u001b[38;5;241m.\u001b[39maxis\u001b[38;5;241m.\u001b[39mget_view_interval()\n\u001b[1;32m-> 2140\u001b[0m     \u001b[38;5;28;01mreturn\u001b[39;00m \u001b[38;5;28;43mself\u001b[39;49m\u001b[38;5;241;43m.\u001b[39;49m\u001b[43mtick_values\u001b[49m\u001b[43m(\u001b[49m\u001b[43mvmin\u001b[49m\u001b[43m,\u001b[49m\u001b[43m \u001b[49m\u001b[43mvmax\u001b[49m\u001b[43m)\u001b[49m\n",
      "File \u001b[1;32mc:\\Users\\royaw\\AppData\\Local\\Programs\\Python\\Python312\\Lib\\site-packages\\matplotlib\\ticker.py:2148\u001b[0m, in \u001b[0;36mMaxNLocator.tick_values\u001b[1;34m(self, vmin, vmax)\u001b[0m\n\u001b[0;32m   2145\u001b[0m     vmin \u001b[38;5;241m=\u001b[39m \u001b[38;5;241m-\u001b[39mvmax\n\u001b[0;32m   2146\u001b[0m vmin, vmax \u001b[38;5;241m=\u001b[39m mtransforms\u001b[38;5;241m.\u001b[39mnonsingular(\n\u001b[0;32m   2147\u001b[0m     vmin, vmax, expander\u001b[38;5;241m=\u001b[39m\u001b[38;5;241m1e-13\u001b[39m, tiny\u001b[38;5;241m=\u001b[39m\u001b[38;5;241m1e-14\u001b[39m)\n\u001b[1;32m-> 2148\u001b[0m locs \u001b[38;5;241m=\u001b[39m \u001b[38;5;28;43mself\u001b[39;49m\u001b[38;5;241;43m.\u001b[39;49m\u001b[43m_raw_ticks\u001b[49m\u001b[43m(\u001b[49m\u001b[43mvmin\u001b[49m\u001b[43m,\u001b[49m\u001b[43m \u001b[49m\u001b[43mvmax\u001b[49m\u001b[43m)\u001b[49m\n\u001b[0;32m   2150\u001b[0m prune \u001b[38;5;241m=\u001b[39m \u001b[38;5;28mself\u001b[39m\u001b[38;5;241m.\u001b[39m_prune\n\u001b[0;32m   2151\u001b[0m \u001b[38;5;28;01mif\u001b[39;00m prune \u001b[38;5;241m==\u001b[39m \u001b[38;5;124m'\u001b[39m\u001b[38;5;124mlower\u001b[39m\u001b[38;5;124m'\u001b[39m:\n",
      "File \u001b[1;32mc:\\Users\\royaw\\AppData\\Local\\Programs\\Python\\Python312\\Lib\\site-packages\\matplotlib\\ticker.py:2086\u001b[0m, in \u001b[0;36mMaxNLocator._raw_ticks\u001b[1;34m(self, vmin, vmax)\u001b[0m\n\u001b[0;32m   2084\u001b[0m \u001b[38;5;28;01mif\u001b[39;00m \u001b[38;5;28mself\u001b[39m\u001b[38;5;241m.\u001b[39m_nbins \u001b[38;5;241m==\u001b[39m \u001b[38;5;124m'\u001b[39m\u001b[38;5;124mauto\u001b[39m\u001b[38;5;124m'\u001b[39m:\n\u001b[0;32m   2085\u001b[0m     \u001b[38;5;28;01mif\u001b[39;00m \u001b[38;5;28mself\u001b[39m\u001b[38;5;241m.\u001b[39maxis \u001b[38;5;129;01mis\u001b[39;00m \u001b[38;5;129;01mnot\u001b[39;00m \u001b[38;5;28;01mNone\u001b[39;00m:\n\u001b[1;32m-> 2086\u001b[0m         nbins \u001b[38;5;241m=\u001b[39m np\u001b[38;5;241m.\u001b[39mclip(\u001b[38;5;28;43mself\u001b[39;49m\u001b[38;5;241;43m.\u001b[39;49m\u001b[43maxis\u001b[49m\u001b[38;5;241;43m.\u001b[39;49m\u001b[43mget_tick_space\u001b[49m\u001b[43m(\u001b[49m\u001b[43m)\u001b[49m,\n\u001b[0;32m   2087\u001b[0m                         \u001b[38;5;28mmax\u001b[39m(\u001b[38;5;241m1\u001b[39m, \u001b[38;5;28mself\u001b[39m\u001b[38;5;241m.\u001b[39m_min_n_ticks \u001b[38;5;241m-\u001b[39m \u001b[38;5;241m1\u001b[39m), \u001b[38;5;241m9\u001b[39m)\n\u001b[0;32m   2088\u001b[0m     \u001b[38;5;28;01melse\u001b[39;00m:\n\u001b[0;32m   2089\u001b[0m         nbins \u001b[38;5;241m=\u001b[39m \u001b[38;5;241m9\u001b[39m\n",
      "File \u001b[1;32mc:\\Users\\royaw\\AppData\\Local\\Programs\\Python\\Python312\\Lib\\site-packages\\matplotlib\\axis.py:2515\u001b[0m, in \u001b[0;36mXAxis.get_tick_space\u001b[1;34m(self)\u001b[0m\n\u001b[0;32m   2514\u001b[0m \u001b[38;5;28;01mdef\u001b[39;00m \u001b[38;5;21mget_tick_space\u001b[39m(\u001b[38;5;28mself\u001b[39m):\n\u001b[1;32m-> 2515\u001b[0m     ends \u001b[38;5;241m=\u001b[39m \u001b[43mmtransforms\u001b[49m\u001b[38;5;241;43m.\u001b[39;49m\u001b[43mBbox\u001b[49m\u001b[38;5;241;43m.\u001b[39;49m\u001b[43munit\u001b[49m\u001b[43m(\u001b[49m\u001b[43m)\u001b[49m\u001b[38;5;241;43m.\u001b[39;49m\u001b[43mtransformed\u001b[49m\u001b[43m(\u001b[49m\n\u001b[0;32m   2516\u001b[0m \u001b[43m        \u001b[49m\u001b[38;5;28;43mself\u001b[39;49m\u001b[38;5;241;43m.\u001b[39;49m\u001b[43maxes\u001b[49m\u001b[38;5;241;43m.\u001b[39;49m\u001b[43mtransAxes\u001b[49m\u001b[43m \u001b[49m\u001b[38;5;241;43m-\u001b[39;49m\u001b[43m \u001b[49m\u001b[38;5;28;43mself\u001b[39;49m\u001b[38;5;241;43m.\u001b[39;49m\u001b[43mfigure\u001b[49m\u001b[38;5;241;43m.\u001b[39;49m\u001b[43mdpi_scale_trans\u001b[49m\u001b[43m)\u001b[49m\n\u001b[0;32m   2517\u001b[0m     length \u001b[38;5;241m=\u001b[39m ends\u001b[38;5;241m.\u001b[39mwidth \u001b[38;5;241m*\u001b[39m \u001b[38;5;241m72\u001b[39m\n\u001b[0;32m   2518\u001b[0m     \u001b[38;5;66;03m# There is a heuristic here that the aspect ratio of tick text\u001b[39;00m\n\u001b[0;32m   2519\u001b[0m     \u001b[38;5;66;03m# is no more than 3:1\u001b[39;00m\n",
      "File \u001b[1;32mc:\\Users\\royaw\\AppData\\Local\\Programs\\Python\\Python312\\Lib\\site-packages\\matplotlib\\transforms.py:468\u001b[0m, in \u001b[0;36mBboxBase.transformed\u001b[1;34m(self, transform)\u001b[0m\n\u001b[0;32m    464\u001b[0m \u001b[38;5;250m\u001b[39m\u001b[38;5;124;03m\"\"\"\u001b[39;00m\n\u001b[0;32m    465\u001b[0m \u001b[38;5;124;03mConstruct a `Bbox` by statically transforming this one by *transform*.\u001b[39;00m\n\u001b[0;32m    466\u001b[0m \u001b[38;5;124;03m\"\"\"\u001b[39;00m\n\u001b[0;32m    467\u001b[0m pts \u001b[38;5;241m=\u001b[39m \u001b[38;5;28mself\u001b[39m\u001b[38;5;241m.\u001b[39mget_points()\n\u001b[1;32m--> 468\u001b[0m ll, ul, lr \u001b[38;5;241m=\u001b[39m \u001b[43mtransform\u001b[49m\u001b[38;5;241;43m.\u001b[39;49m\u001b[43mtransform\u001b[49m\u001b[43m(\u001b[49m\u001b[43mnp\u001b[49m\u001b[38;5;241;43m.\u001b[39;49m\u001b[43marray\u001b[49m\u001b[43m(\u001b[49m\n\u001b[0;32m    469\u001b[0m \u001b[43m    \u001b[49m\u001b[43m[\u001b[49m\u001b[43mpts\u001b[49m\u001b[43m[\u001b[49m\u001b[38;5;241;43m0\u001b[39;49m\u001b[43m]\u001b[49m\u001b[43m,\u001b[49m\u001b[43m \u001b[49m\u001b[43m[\u001b[49m\u001b[43mpts\u001b[49m\u001b[43m[\u001b[49m\u001b[38;5;241;43m0\u001b[39;49m\u001b[43m,\u001b[49m\u001b[43m \u001b[49m\u001b[38;5;241;43m0\u001b[39;49m\u001b[43m]\u001b[49m\u001b[43m,\u001b[49m\u001b[43m \u001b[49m\u001b[43mpts\u001b[49m\u001b[43m[\u001b[49m\u001b[38;5;241;43m1\u001b[39;49m\u001b[43m,\u001b[49m\u001b[43m \u001b[49m\u001b[38;5;241;43m1\u001b[39;49m\u001b[43m]\u001b[49m\u001b[43m]\u001b[49m\u001b[43m,\u001b[49m\u001b[43m \u001b[49m\u001b[43m[\u001b[49m\u001b[43mpts\u001b[49m\u001b[43m[\u001b[49m\u001b[38;5;241;43m1\u001b[39;49m\u001b[43m,\u001b[49m\u001b[43m \u001b[49m\u001b[38;5;241;43m0\u001b[39;49m\u001b[43m]\u001b[49m\u001b[43m,\u001b[49m\u001b[43m \u001b[49m\u001b[43mpts\u001b[49m\u001b[43m[\u001b[49m\u001b[38;5;241;43m0\u001b[39;49m\u001b[43m,\u001b[49m\u001b[43m \u001b[49m\u001b[38;5;241;43m1\u001b[39;49m\u001b[43m]\u001b[49m\u001b[43m]\u001b[49m\u001b[43m]\u001b[49m\u001b[43m)\u001b[49m\u001b[43m)\u001b[49m\n\u001b[0;32m    470\u001b[0m \u001b[38;5;28;01mreturn\u001b[39;00m Bbox([ll, [lr[\u001b[38;5;241m0\u001b[39m], ul[\u001b[38;5;241m1\u001b[39m]]])\n",
      "File \u001b[1;32mc:\\Users\\royaw\\AppData\\Local\\Programs\\Python\\Python312\\Lib\\site-packages\\matplotlib\\transforms.py:1495\u001b[0m, in \u001b[0;36mTransform.transform\u001b[1;34m(self, values)\u001b[0m\n\u001b[0;32m   1492\u001b[0m values \u001b[38;5;241m=\u001b[39m values\u001b[38;5;241m.\u001b[39mreshape((\u001b[38;5;241m-\u001b[39m\u001b[38;5;241m1\u001b[39m, \u001b[38;5;28mself\u001b[39m\u001b[38;5;241m.\u001b[39minput_dims))\n\u001b[0;32m   1494\u001b[0m \u001b[38;5;66;03m# Transform the values\u001b[39;00m\n\u001b[1;32m-> 1495\u001b[0m res \u001b[38;5;241m=\u001b[39m \u001b[38;5;28;43mself\u001b[39;49m\u001b[38;5;241;43m.\u001b[39;49m\u001b[43mtransform_affine\u001b[49m\u001b[43m(\u001b[49m\u001b[38;5;28;43mself\u001b[39;49m\u001b[38;5;241;43m.\u001b[39;49m\u001b[43mtransform_non_affine\u001b[49m\u001b[43m(\u001b[49m\u001b[43mvalues\u001b[49m\u001b[43m)\u001b[49m\u001b[43m)\u001b[49m\n\u001b[0;32m   1497\u001b[0m \u001b[38;5;66;03m# Convert the result back to the shape of the input values.\u001b[39;00m\n\u001b[0;32m   1498\u001b[0m \u001b[38;5;28;01mif\u001b[39;00m ndim \u001b[38;5;241m==\u001b[39m \u001b[38;5;241m0\u001b[39m:\n",
      "File \u001b[1;32mc:\\Users\\royaw\\AppData\\Local\\Programs\\Python\\Python312\\Lib\\site-packages\\matplotlib\\_api\\deprecation.py:297\u001b[0m, in \u001b[0;36mrename_parameter.<locals>.wrapper\u001b[1;34m(*args, **kwargs)\u001b[0m\n\u001b[0;32m    292\u001b[0m     warn_deprecated(\n\u001b[0;32m    293\u001b[0m         since, message\u001b[38;5;241m=\u001b[39m\u001b[38;5;124mf\u001b[39m\u001b[38;5;124m\"\u001b[39m\u001b[38;5;124mThe \u001b[39m\u001b[38;5;132;01m{\u001b[39;00mold\u001b[38;5;132;01m!r}\u001b[39;00m\u001b[38;5;124m parameter of \u001b[39m\u001b[38;5;132;01m{\u001b[39;00mfunc\u001b[38;5;241m.\u001b[39m\u001b[38;5;18m__name__\u001b[39m\u001b[38;5;132;01m}\u001b[39;00m\u001b[38;5;124m() \u001b[39m\u001b[38;5;124m\"\u001b[39m\n\u001b[0;32m    294\u001b[0m         \u001b[38;5;124mf\u001b[39m\u001b[38;5;124m\"\u001b[39m\u001b[38;5;124mhas been renamed \u001b[39m\u001b[38;5;132;01m{\u001b[39;00mnew\u001b[38;5;132;01m!r}\u001b[39;00m\u001b[38;5;124m since Matplotlib \u001b[39m\u001b[38;5;132;01m{\u001b[39;00msince\u001b[38;5;132;01m}\u001b[39;00m\u001b[38;5;124m; support \u001b[39m\u001b[38;5;124m\"\u001b[39m\n\u001b[0;32m    295\u001b[0m         \u001b[38;5;124mf\u001b[39m\u001b[38;5;124m\"\u001b[39m\u001b[38;5;124mfor the old name will be dropped %(removal)s.\u001b[39m\u001b[38;5;124m\"\u001b[39m)\n\u001b[0;32m    296\u001b[0m     kwargs[new] \u001b[38;5;241m=\u001b[39m kwargs\u001b[38;5;241m.\u001b[39mpop(old)\n\u001b[1;32m--> 297\u001b[0m \u001b[38;5;28;01mreturn\u001b[39;00m \u001b[43mfunc\u001b[49m\u001b[43m(\u001b[49m\u001b[38;5;241;43m*\u001b[39;49m\u001b[43margs\u001b[49m\u001b[43m,\u001b[49m\u001b[43m \u001b[49m\u001b[38;5;241;43m*\u001b[39;49m\u001b[38;5;241;43m*\u001b[39;49m\u001b[43mkwargs\u001b[49m\u001b[43m)\u001b[49m\n",
      "File \u001b[1;32mc:\\Users\\royaw\\AppData\\Local\\Programs\\Python\\Python312\\Lib\\site-packages\\matplotlib\\transforms.py:2409\u001b[0m, in \u001b[0;36mCompositeGenericTransform.transform_affine\u001b[1;34m(self, values)\u001b[0m\n\u001b[0;32m   2406\u001b[0m \u001b[38;5;129m@_api\u001b[39m\u001b[38;5;241m.\u001b[39mrename_parameter(\u001b[38;5;124m\"\u001b[39m\u001b[38;5;124m3.8\u001b[39m\u001b[38;5;124m\"\u001b[39m, \u001b[38;5;124m\"\u001b[39m\u001b[38;5;124mpoints\u001b[39m\u001b[38;5;124m\"\u001b[39m, \u001b[38;5;124m\"\u001b[39m\u001b[38;5;124mvalues\u001b[39m\u001b[38;5;124m\"\u001b[39m)\n\u001b[0;32m   2407\u001b[0m \u001b[38;5;28;01mdef\u001b[39;00m \u001b[38;5;21mtransform_affine\u001b[39m(\u001b[38;5;28mself\u001b[39m, values):\n\u001b[0;32m   2408\u001b[0m     \u001b[38;5;66;03m# docstring inherited\u001b[39;00m\n\u001b[1;32m-> 2409\u001b[0m     \u001b[38;5;28;01mreturn\u001b[39;00m \u001b[38;5;28;43mself\u001b[39;49m\u001b[38;5;241;43m.\u001b[39;49m\u001b[43mget_affine\u001b[49m\u001b[43m(\u001b[49m\u001b[43m)\u001b[49m\u001b[38;5;241m.\u001b[39mtransform(values)\n",
      "File \u001b[1;32mc:\\Users\\royaw\\AppData\\Local\\Programs\\Python\\Python312\\Lib\\site-packages\\matplotlib\\transforms.py:2436\u001b[0m, in \u001b[0;36mCompositeGenericTransform.get_affine\u001b[1;34m(self)\u001b[0m\n\u001b[0;32m   2434\u001b[0m     \u001b[38;5;28;01mreturn\u001b[39;00m \u001b[38;5;28mself\u001b[39m\u001b[38;5;241m.\u001b[39m_b\u001b[38;5;241m.\u001b[39mget_affine()\n\u001b[0;32m   2435\u001b[0m \u001b[38;5;28;01melse\u001b[39;00m:\n\u001b[1;32m-> 2436\u001b[0m     \u001b[38;5;28;01mreturn\u001b[39;00m Affine2D(\u001b[43mnp\u001b[49m\u001b[38;5;241;43m.\u001b[39;49m\u001b[43mdot\u001b[49m\u001b[43m(\u001b[49m\u001b[38;5;28;43mself\u001b[39;49m\u001b[38;5;241;43m.\u001b[39;49m\u001b[43m_b\u001b[49m\u001b[38;5;241;43m.\u001b[39;49m\u001b[43mget_affine\u001b[49m\u001b[43m(\u001b[49m\u001b[43m)\u001b[49m\u001b[38;5;241;43m.\u001b[39;49m\u001b[43mget_matrix\u001b[49m\u001b[43m(\u001b[49m\u001b[43m)\u001b[49m\u001b[43m,\u001b[49m\n\u001b[0;32m   2437\u001b[0m \u001b[43m                           \u001b[49m\u001b[38;5;28;43mself\u001b[39;49m\u001b[38;5;241;43m.\u001b[39;49m\u001b[43m_a\u001b[49m\u001b[38;5;241;43m.\u001b[39;49m\u001b[43mget_affine\u001b[49m\u001b[43m(\u001b[49m\u001b[43m)\u001b[49m\u001b[38;5;241;43m.\u001b[39;49m\u001b[43mget_matrix\u001b[49m\u001b[43m(\u001b[49m\u001b[43m)\u001b[49m\u001b[43m)\u001b[49m)\n",
      "\u001b[1;31mKeyboardInterrupt\u001b[0m: "
     ]
    },
    {
     "data": {
      "image/png": "[encoded data removed]",
      "text/plain": [
       "<Figure size 1000x1000 with 16 Axes>"
      ]
     },
     "metadata": {},
     "output_type": "display_data"
    }
   ],
   "source": [
    "sns.pairplot(data=iris_transform, hue='Species').fig.savefig(r'output/Iris_transform_pairplot.png')"
   ]
  },
  {
   "cell_type": "code",
   "execution_count": null,
   "metadata": {},
   "outputs": [
    {
     "data": {
      "image/png": "[encoded data removed]",
      "text/plain": [
       "<Figure size 1117.75x1000 with 14 Axes>"
      ]
     },
     "metadata": {},
     "output_type": "display_data"
    }
   ],
   "source": [
    "sns.pairplot(data=iris_transform, hue='Species', corner=True).fig.savefig(r'output/Iris_transform_pairplotCnr.png')"
   ]
  },
  {
   "cell_type": "markdown",
   "metadata": {},
   "source": [
    "Graph above shows that the best separation is between PC1 and PC2 can remove other components as they\n",
    "explain very little"
   ]
  },
  {
   "cell_type": "markdown",
   "metadata": {},
   "source": [
    "#### Lecture 194 Classification with logistic regression:"
   ]
  },
  {
   "cell_type": "markdown",
   "metadata": {},
   "source": [
    "##### Step 6: Classify Iris with logistic regression model"
   ]
  },
  {
   "cell_type": "code",
   "execution_count": null,
   "metadata": {},
   "outputs": [],
   "source": [
    "iris_train, iris_test = train_test_split(iris_transform, test_size=0.3)"
   ]
  },
  {
   "cell_type": "code",
   "execution_count": null,
   "metadata": {},
   "outputs": [],
   "source": [
    "iris_lr = LogisticRegression().fit(iris_train[['PC1', 'PC2']], y=iris_train.Species)"
   ]
  },
  {
   "cell_type": "code",
   "execution_count": null,
   "metadata": {},
   "outputs": [
    {
     "data": {
      "text/plain": [
       "array([[-2.53094094,  0.43064544],\n",
       "       [-0.00740382, -0.35882265],\n",
       "       [ 2.53834476, -0.07182279]])"
      ]
     },
     "execution_count": 125,
     "metadata": {},
     "output_type": "execute_result"
    }
   ],
   "source": [
    "iris_lr.coef_"
   ]
  },
  {
   "cell_type": "code",
   "execution_count": null,
   "metadata": {},
   "outputs": [
    {
     "data": {
      "text/plain": [
       "array([-0.38106298,  1.50825512, -1.12719214])"
      ]
     },
     "execution_count": 126,
     "metadata": {},
     "output_type": "execute_result"
    }
   ],
   "source": [
    "iris_lr.intercept_"
   ]
  },
  {
   "cell_type": "code",
   "execution_count": null,
   "metadata": {},
   "outputs": [
    {
     "data": {
      "text/plain": [
       "0.9333333333333333"
      ]
     },
     "execution_count": 127,
     "metadata": {},
     "output_type": "execute_result"
    }
   ],
   "source": [
    "iris_lr.score(X=iris_test[['PC1', 'PC2']], y=iris_test.Species)\n",
    "# Tutor's accuracy was only 86% but mine is 91%"
   ]
  },
  {
   "cell_type": "markdown",
   "metadata": {},
   "source": [
    "#### Optional Step 5 Advanced - Maths behind the PCA Lecture 195\n",
    "##### Roll our own PCA with numpy"
   ]
  },
  {
   "cell_type": "code",
   "execution_count": null,
   "metadata": {},
   "outputs": [],
   "source": [
    "cov = pca_iris.get_covariance()"
   ]
  },
  {
   "cell_type": "code",
   "execution_count": null,
   "metadata": {},
   "outputs": [],
   "source": [
    "eigen_value, eigen_vector = np.linalg.eig(cov)"
   ]
  },
  {
   "cell_type": "code",
   "execution_count": null,
   "metadata": {},
   "outputs": [
    {
     "data": {
      "text/plain": [
       "array([2.93808505, 0.9201649 , 0.14774182, 0.02085386])"
      ]
     },
     "execution_count": 130,
     "metadata": {},
     "output_type": "execute_result"
    }
   ],
   "source": [
    "eigen_value"
   ]
  },
  {
   "cell_type": "code",
   "execution_count": null,
   "metadata": {},
   "outputs": [
    {
     "data": {
      "text/plain": [
       "array([[ 0.52106591, -0.37741762, -0.71956635,  0.26128628],\n",
       "       [-0.26934744, -0.92329566,  0.24438178, -0.12350962],\n",
       "       [ 0.5804131 , -0.02449161,  0.14212637, -0.80144925],\n",
       "       [ 0.56485654, -0.06694199,  0.63427274,  0.52359713]])"
      ]
     },
     "execution_count": 131,
     "metadata": {},
     "output_type": "execute_result"
    }
   ],
   "source": [
    "eigen_vector"
   ]
  },
  {
   "cell_type": "code",
   "execution_count": null,
   "metadata": {},
   "outputs": [
    {
     "data": {
      "text/plain": [
       "array([2.93808505, 0.9201649 , 0.14774182, 0.02085386])"
      ]
     },
     "execution_count": 132,
     "metadata": {},
     "output_type": "execute_result"
    }
   ],
   "source": [
    "pca_iris.explained_variance_"
   ]
  },
  {
   "cell_type": "code",
   "execution_count": null,
   "metadata": {},
   "outputs": [
    {
     "data": {
      "text/plain": [
       "array([[ 0.52106591, -0.26934744,  0.5804131 ,  0.56485654],\n",
       "       [ 0.37741762,  0.92329566,  0.02449161,  0.06694199],\n",
       "       [-0.71956635,  0.24438178,  0.14212637,  0.63427274],\n",
       "       [-0.26128628,  0.12350962,  0.80144925, -0.52359713]])"
      ]
     },
     "execution_count": 133,
     "metadata": {},
     "output_type": "execute_result"
    }
   ],
   "source": [
    "pca_iris.components_"
   ]
  },
  {
   "cell_type": "markdown",
   "metadata": {},
   "source": [
    "## Lecture 196:  World Happiness Index:"
   ]
  },
  {
   "cell_type": "code",
   "execution_count": null,
   "metadata": {},
   "outputs": [],
   "source": [
    "happiness = pd.read_csv(r'../Resources/Section_31/2019-world-happiness-report.csv')"
   ]
  },
  {
   "cell_type": "code",
   "execution_count": null,
   "metadata": {},
   "outputs": [
    {
     "data": {
      "text/html": [
       "<div>\n",
       "<style scoped>\n",
       "    .dataframe tbody tr th:only-of-type {\n",
       "        vertical-align: middle;\n",
       "    }\n",
       "\n",
       "    .dataframe tbody tr th {\n",
       "        vertical-align: top;\n",
       "    }\n",
       "\n",
       "    .dataframe thead th {\n",
       "        text-align: right;\n",
       "    }\n",
       "</style>\n",
       "<table border=\"1\" class=\"dataframe\">\n",
       "  <thead>\n",
       "    <tr style=\"text-align: right;\">\n",
       "      <th></th>\n",
       "      <th>Overall rank</th>\n",
       "      <th>Country or region</th>\n",
       "      <th>Score</th>\n",
       "      <th>GDP per capita</th>\n",
       "      <th>Social support</th>\n",
       "      <th>Healthy life expectancy</th>\n",
       "      <th>Freedom to make life choices</th>\n",
       "      <th>Generosity</th>\n",
       "      <th>Perceptions of corruption</th>\n",
       "    </tr>\n",
       "  </thead>\n",
       "  <tbody>\n",
       "    <tr>\n",
       "      <th>0</th>\n",
       "      <td>1</td>\n",
       "      <td>Finland</td>\n",
       "      <td>7.769</td>\n",
       "      <td>1.340</td>\n",
       "      <td>1.587</td>\n",
       "      <td>0.986</td>\n",
       "      <td>0.596</td>\n",
       "      <td>0.153</td>\n",
       "      <td>0.393</td>\n",
       "    </tr>\n",
       "    <tr>\n",
       "      <th>1</th>\n",
       "      <td>2</td>\n",
       "      <td>Denmark</td>\n",
       "      <td>7.600</td>\n",
       "      <td>1.383</td>\n",
       "      <td>1.573</td>\n",
       "      <td>0.996</td>\n",
       "      <td>0.592</td>\n",
       "      <td>0.252</td>\n",
       "      <td>0.410</td>\n",
       "    </tr>\n",
       "    <tr>\n",
       "      <th>2</th>\n",
       "      <td>3</td>\n",
       "      <td>Norway</td>\n",
       "      <td>7.554</td>\n",
       "      <td>1.488</td>\n",
       "      <td>1.582</td>\n",
       "      <td>1.028</td>\n",
       "      <td>0.603</td>\n",
       "      <td>0.271</td>\n",
       "      <td>0.341</td>\n",
       "    </tr>\n",
       "    <tr>\n",
       "      <th>3</th>\n",
       "      <td>4</td>\n",
       "      <td>Iceland</td>\n",
       "      <td>7.494</td>\n",
       "      <td>1.380</td>\n",
       "      <td>1.624</td>\n",
       "      <td>1.026</td>\n",
       "      <td>0.591</td>\n",
       "      <td>0.354</td>\n",
       "      <td>0.118</td>\n",
       "    </tr>\n",
       "    <tr>\n",
       "      <th>4</th>\n",
       "      <td>5</td>\n",
       "      <td>Netherlands</td>\n",
       "      <td>7.488</td>\n",
       "      <td>1.396</td>\n",
       "      <td>1.522</td>\n",
       "      <td>0.999</td>\n",
       "      <td>0.557</td>\n",
       "      <td>0.322</td>\n",
       "      <td>0.298</td>\n",
       "    </tr>\n",
       "    <tr>\n",
       "      <th>...</th>\n",
       "      <td>...</td>\n",
       "      <td>...</td>\n",
       "      <td>...</td>\n",
       "      <td>...</td>\n",
       "      <td>...</td>\n",
       "      <td>...</td>\n",
       "      <td>...</td>\n",
       "      <td>...</td>\n",
       "      <td>...</td>\n",
       "    </tr>\n",
       "    <tr>\n",
       "      <th>151</th>\n",
       "      <td>152</td>\n",
       "      <td>Rwanda</td>\n",
       "      <td>3.334</td>\n",
       "      <td>0.359</td>\n",
       "      <td>0.711</td>\n",
       "      <td>0.614</td>\n",
       "      <td>0.555</td>\n",
       "      <td>0.217</td>\n",
       "      <td>0.411</td>\n",
       "    </tr>\n",
       "    <tr>\n",
       "      <th>152</th>\n",
       "      <td>153</td>\n",
       "      <td>Tanzania</td>\n",
       "      <td>3.231</td>\n",
       "      <td>0.476</td>\n",
       "      <td>0.885</td>\n",
       "      <td>0.499</td>\n",
       "      <td>0.417</td>\n",
       "      <td>0.276</td>\n",
       "      <td>0.147</td>\n",
       "    </tr>\n",
       "    <tr>\n",
       "      <th>153</th>\n",
       "      <td>154</td>\n",
       "      <td>Afghanistan</td>\n",
       "      <td>3.203</td>\n",
       "      <td>0.350</td>\n",
       "      <td>0.517</td>\n",
       "      <td>0.361</td>\n",
       "      <td>0.000</td>\n",
       "      <td>0.158</td>\n",
       "      <td>0.025</td>\n",
       "    </tr>\n",
       "    <tr>\n",
       "      <th>154</th>\n",
       "      <td>155</td>\n",
       "      <td>Central African Republic</td>\n",
       "      <td>3.083</td>\n",
       "      <td>0.026</td>\n",
       "      <td>0.000</td>\n",
       "      <td>0.105</td>\n",
       "      <td>0.225</td>\n",
       "      <td>0.235</td>\n",
       "      <td>0.035</td>\n",
       "    </tr>\n",
       "    <tr>\n",
       "      <th>155</th>\n",
       "      <td>156</td>\n",
       "      <td>South Sudan</td>\n",
       "      <td>2.853</td>\n",
       "      <td>0.306</td>\n",
       "      <td>0.575</td>\n",
       "      <td>0.295</td>\n",
       "      <td>0.010</td>\n",
       "      <td>0.202</td>\n",
       "      <td>0.091</td>\n",
       "    </tr>\n",
       "  </tbody>\n",
       "</table>\n",
       "<p>156 rows × 9 columns</p>\n",
       "</div>"
      ],
      "text/plain": [
       "     Overall rank         Country or region  Score  GDP per capita  \\\n",
       "0               1                   Finland  7.769           1.340   \n",
       "1               2                   Denmark  7.600           1.383   \n",
       "2               3                    Norway  7.554           1.488   \n",
       "3               4                   Iceland  7.494           1.380   \n",
       "4               5               Netherlands  7.488           1.396   \n",
       "..            ...                       ...    ...             ...   \n",
       "151           152                    Rwanda  3.334           0.359   \n",
       "152           153                  Tanzania  3.231           0.476   \n",
       "153           154               Afghanistan  3.203           0.350   \n",
       "154           155  Central African Republic  3.083           0.026   \n",
       "155           156               South Sudan  2.853           0.306   \n",
       "\n",
       "     Social support  Healthy life expectancy  Freedom to make life choices  \\\n",
       "0             1.587                    0.986                         0.596   \n",
       "1             1.573                    0.996                         0.592   \n",
       "2             1.582                    1.028                         0.603   \n",
       "3             1.624                    1.026                         0.591   \n",
       "4             1.522                    0.999                         0.557   \n",
       "..              ...                      ...                           ...   \n",
       "151           0.711                    0.614                         0.555   \n",
       "152           0.885                    0.499                         0.417   \n",
       "153           0.517                    0.361                         0.000   \n",
       "154           0.000                    0.105                         0.225   \n",
       "155           0.575                    0.295                         0.010   \n",
       "\n",
       "     Generosity  Perceptions of corruption  \n",
       "0         0.153                      0.393  \n",
       "1         0.252                      0.410  \n",
       "2         0.271                      0.341  \n",
       "3         0.354                      0.118  \n",
       "4         0.322                      0.298  \n",
       "..          ...                        ...  \n",
       "151       0.217                      0.411  \n",
       "152       0.276                      0.147  \n",
       "153       0.158                      0.025  \n",
       "154       0.235                      0.035  \n",
       "155       0.202                      0.091  \n",
       "\n",
       "[156 rows x 9 columns]"
      ]
     },
     "execution_count": 135,
     "metadata": {},
     "output_type": "execute_result"
    }
   ],
   "source": [
    "happiness"
   ]
  },
  {
   "cell_type": "code",
   "execution_count": null,
   "metadata": {},
   "outputs": [
    {
     "data": {
      "text/plain": [
       "<bound method NDFrame.describe of      Overall rank         Country or region  Score  GDP per capita  \\\n",
       "0               1                   Finland  7.769           1.340   \n",
       "1               2                   Denmark  7.600           1.383   \n",
       "2               3                    Norway  7.554           1.488   \n",
       "3               4                   Iceland  7.494           1.380   \n",
       "4               5               Netherlands  7.488           1.396   \n",
       "..            ...                       ...    ...             ...   \n",
       "151           152                    Rwanda  3.334           0.359   \n",
       "152           153                  Tanzania  3.231           0.476   \n",
       "153           154               Afghanistan  3.203           0.350   \n",
       "154           155  Central African Republic  3.083           0.026   \n",
       "155           156               South Sudan  2.853           0.306   \n",
       "\n",
       "     Social support  Healthy life expectancy  Freedom to make life choices  \\\n",
       "0             1.587                    0.986                         0.596   \n",
       "1             1.573                    0.996                         0.592   \n",
       "2             1.582                    1.028                         0.603   \n",
       "3             1.624                    1.026                         0.591   \n",
       "4             1.522                    0.999                         0.557   \n",
       "..              ...                      ...                           ...   \n",
       "151           0.711                    0.614                         0.555   \n",
       "152           0.885                    0.499                         0.417   \n",
       "153           0.517                    0.361                         0.000   \n",
       "154           0.000                    0.105                         0.225   \n",
       "155           0.575                    0.295                         0.010   \n",
       "\n",
       "     Generosity  Perceptions of corruption  \n",
       "0         0.153                      0.393  \n",
       "1         0.252                      0.410  \n",
       "2         0.271                      0.341  \n",
       "3         0.354                      0.118  \n",
       "4         0.322                      0.298  \n",
       "..          ...                        ...  \n",
       "151       0.217                      0.411  \n",
       "152       0.276                      0.147  \n",
       "153       0.158                      0.025  \n",
       "154       0.235                      0.035  \n",
       "155       0.202                      0.091  \n",
       "\n",
       "[156 rows x 9 columns]>"
      ]
     },
     "execution_count": 136,
     "metadata": {},
     "output_type": "execute_result"
    }
   ],
   "source": [
    "happiness.describe"
   ]
  },
  {
   "cell_type": "markdown",
   "metadata": {},
   "source": [
    "#### Step 1: Scaling"
   ]
  },
  {
   "cell_type": "code",
   "execution_count": null,
   "metadata": {},
   "outputs": [],
   "source": [
    "X = happiness.loc[:,'GDP per capita':]"
   ]
  },
  {
   "cell_type": "code",
   "execution_count": null,
   "metadata": {},
   "outputs": [
    {
     "data": {
      "text/html": [
       "<div>\n",
       "<style scoped>\n",
       "    .dataframe tbody tr th:only-of-type {\n",
       "        vertical-align: middle;\n",
       "    }\n",
       "\n",
       "    .dataframe tbody tr th {\n",
       "        vertical-align: top;\n",
       "    }\n",
       "\n",
       "    .dataframe thead th {\n",
       "        text-align: right;\n",
       "    }\n",
       "</style>\n",
       "<table border=\"1\" class=\"dataframe\">\n",
       "  <thead>\n",
       "    <tr style=\"text-align: right;\">\n",
       "      <th></th>\n",
       "      <th>GDP per capita</th>\n",
       "      <th>Social support</th>\n",
       "      <th>Healthy life expectancy</th>\n",
       "      <th>Freedom to make life choices</th>\n",
       "      <th>Generosity</th>\n",
       "      <th>Perceptions of corruption</th>\n",
       "    </tr>\n",
       "  </thead>\n",
       "  <tbody>\n",
       "    <tr>\n",
       "      <th>0</th>\n",
       "      <td>1.340</td>\n",
       "      <td>1.587</td>\n",
       "      <td>0.986</td>\n",
       "      <td>0.596</td>\n",
       "      <td>0.153</td>\n",
       "      <td>0.393</td>\n",
       "    </tr>\n",
       "    <tr>\n",
       "      <th>1</th>\n",
       "      <td>1.383</td>\n",
       "      <td>1.573</td>\n",
       "      <td>0.996</td>\n",
       "      <td>0.592</td>\n",
       "      <td>0.252</td>\n",
       "      <td>0.410</td>\n",
       "    </tr>\n",
       "    <tr>\n",
       "      <th>2</th>\n",
       "      <td>1.488</td>\n",
       "      <td>1.582</td>\n",
       "      <td>1.028</td>\n",
       "      <td>0.603</td>\n",
       "      <td>0.271</td>\n",
       "      <td>0.341</td>\n",
       "    </tr>\n",
       "    <tr>\n",
       "      <th>3</th>\n",
       "      <td>1.380</td>\n",
       "      <td>1.624</td>\n",
       "      <td>1.026</td>\n",
       "      <td>0.591</td>\n",
       "      <td>0.354</td>\n",
       "      <td>0.118</td>\n",
       "    </tr>\n",
       "    <tr>\n",
       "      <th>4</th>\n",
       "      <td>1.396</td>\n",
       "      <td>1.522</td>\n",
       "      <td>0.999</td>\n",
       "      <td>0.557</td>\n",
       "      <td>0.322</td>\n",
       "      <td>0.298</td>\n",
       "    </tr>\n",
       "    <tr>\n",
       "      <th>...</th>\n",
       "      <td>...</td>\n",
       "      <td>...</td>\n",
       "      <td>...</td>\n",
       "      <td>...</td>\n",
       "      <td>...</td>\n",
       "      <td>...</td>\n",
       "    </tr>\n",
       "    <tr>\n",
       "      <th>151</th>\n",
       "      <td>0.359</td>\n",
       "      <td>0.711</td>\n",
       "      <td>0.614</td>\n",
       "      <td>0.555</td>\n",
       "      <td>0.217</td>\n",
       "      <td>0.411</td>\n",
       "    </tr>\n",
       "    <tr>\n",
       "      <th>152</th>\n",
       "      <td>0.476</td>\n",
       "      <td>0.885</td>\n",
       "      <td>0.499</td>\n",
       "      <td>0.417</td>\n",
       "      <td>0.276</td>\n",
       "      <td>0.147</td>\n",
       "    </tr>\n",
       "    <tr>\n",
       "      <th>153</th>\n",
       "      <td>0.350</td>\n",
       "      <td>0.517</td>\n",
       "      <td>0.361</td>\n",
       "      <td>0.000</td>\n",
       "      <td>0.158</td>\n",
       "      <td>0.025</td>\n",
       "    </tr>\n",
       "    <tr>\n",
       "      <th>154</th>\n",
       "      <td>0.026</td>\n",
       "      <td>0.000</td>\n",
       "      <td>0.105</td>\n",
       "      <td>0.225</td>\n",
       "      <td>0.235</td>\n",
       "      <td>0.035</td>\n",
       "    </tr>\n",
       "    <tr>\n",
       "      <th>155</th>\n",
       "      <td>0.306</td>\n",
       "      <td>0.575</td>\n",
       "      <td>0.295</td>\n",
       "      <td>0.010</td>\n",
       "      <td>0.202</td>\n",
       "      <td>0.091</td>\n",
       "    </tr>\n",
       "  </tbody>\n",
       "</table>\n",
       "<p>156 rows × 6 columns</p>\n",
       "</div>"
      ],
      "text/plain": [
       "     GDP per capita  Social support  Healthy life expectancy  \\\n",
       "0             1.340           1.587                    0.986   \n",
       "1             1.383           1.573                    0.996   \n",
       "2             1.488           1.582                    1.028   \n",
       "3             1.380           1.624                    1.026   \n",
       "4             1.396           1.522                    0.999   \n",
       "..              ...             ...                      ...   \n",
       "151           0.359           0.711                    0.614   \n",
       "152           0.476           0.885                    0.499   \n",
       "153           0.350           0.517                    0.361   \n",
       "154           0.026           0.000                    0.105   \n",
       "155           0.306           0.575                    0.295   \n",
       "\n",
       "     Freedom to make life choices  Generosity  Perceptions of corruption  \n",
       "0                           0.596       0.153                      0.393  \n",
       "1                           0.592       0.252                      0.410  \n",
       "2                           0.603       0.271                      0.341  \n",
       "3                           0.591       0.354                      0.118  \n",
       "4                           0.557       0.322                      0.298  \n",
       "..                            ...         ...                        ...  \n",
       "151                         0.555       0.217                      0.411  \n",
       "152                         0.417       0.276                      0.147  \n",
       "153                         0.000       0.158                      0.025  \n",
       "154                         0.225       0.235                      0.035  \n",
       "155                         0.010       0.202                      0.091  \n",
       "\n",
       "[156 rows x 6 columns]"
      ]
     },
     "execution_count": 138,
     "metadata": {},
     "output_type": "execute_result"
    }
   ],
   "source": [
    "X"
   ]
  },
  {
   "cell_type": "code",
   "execution_count": null,
   "metadata": {},
   "outputs": [
    {
     "data": {
      "text/plain": [
       "array([[ 1.09504166e+00,  1.26809758e+00,  1.08042247e+00,\n",
       "         1.42428230e+00, -3.35403977e-01,  2.99675712e+00],\n",
       "       [ 1.20332385e+00,  1.22115409e+00,  1.12185663e+00,\n",
       "         1.39627687e+00,  7.07264909e-01,  3.17715844e+00],\n",
       "       [ 1.46773387e+00,  1.25133205e+00,  1.25444597e+00,\n",
       "         1.47329179e+00,  9.07373079e-01,  2.44494130e+00],\n",
       "       [ 1.19576928e+00,  1.39216252e+00,  1.24615914e+00,\n",
       "         1.38927551e+00,  1.78152982e+00,  7.85004247e-02],\n",
       "       [ 1.23606033e+00,  1.05014566e+00,  1.13428688e+00,\n",
       "         1.15122941e+00,  1.44450554e+00,  1.98863208e+00],\n",
       "       [ 1.37707901e+00,  1.06355808e+00,  1.35388797e+00,\n",
       "         1.25624975e+00,  8.23117007e-01,  2.46616499e+00],\n",
       "       [ 1.21339662e+00,  9.32786931e-01,  1.17572105e+00,\n",
       "         1.27025246e+00,  8.65245043e-01,  2.78452027e+00],\n",
       "       [ 1.00186860e+00,  1.16750438e+00,  1.24615914e+00,\n",
       "         1.34726738e+00,  1.52876161e+00,  2.85880316e+00],\n",
       "       [ 1.15799642e+00,  9.93142848e-01,  1.30002355e+00,\n",
       "         1.34026602e+00,  1.05482120e+00,  2.09475050e+00],\n",
       "       [ 1.18569652e+00,  8.92549654e-01,  1.20472497e+00,\n",
       "         9.76195501e-01,  6.23008837e-01,  1.22457942e+00],\n",
       "       [ 1.17562376e+00,  1.13732643e+00,  1.28759330e+00,\n",
       "         1.15122941e+00,  1.54982563e+00,  1.90373734e+00],\n",
       "       [ 3.24475321e-01,  7.78544034e-01,  9.85123883e-01,\n",
       "         1.15823076e+00, -4.30192058e-01, -1.86795638e-01],\n",
       "       [ 9.33877456e-01,  8.25487525e-01,  1.25858939e+00,\n",
       "        -1.51022843e-01,  8.02052989e-01, -3.03525906e-01],\n",
       "       [ 1.77243494e+00,  9.05962080e-01,  1.18815130e+00,\n",
       "         9.34187364e-01,  9.64083896e-02,  2.17964524e+00],\n",
       "       [ 1.07741432e+00,  1.10379536e+00,  1.12185663e+00,\n",
       "         4.02084295e-01,  1.71833777e+00,  1.77639523e+00],\n",
       "       [ 1.49543397e+00,  1.15409196e+00,  1.13428688e+00,\n",
       "         8.64173802e-01,  1.19173732e+00,  2.11597419e+00],\n",
       "       [ 1.17814195e+00,  8.22134418e-01,  1.08456588e+00,\n",
       "         7.17145322e-01,  8.02052989e-01,  1.63844127e+00],\n",
       "       [ 1.13533271e+00,  9.89789741e-01,  1.08042247e+00,\n",
       "         5.63115487e-01, -2.61679915e-01,  1.05478994e+00],\n",
       "       [ 1.32923339e+00,  8.32193737e-01,  6.16359796e-01,\n",
       "         4.30089719e-01,  1.00216116e+00,  1.84618850e-01],\n",
       "       [ 9.16250122e-01,  9.32786931e-01,  8.06956964e-01,\n",
       "         4.51093788e-01, -1.46232894e+00, -7.91670661e-01],\n",
       "       [ 1.50550673e+00,  3.39287087e-01,  4.13332377e-01,\n",
       "         1.43828501e+00,  8.12584998e-01,  7.57658345e-01],\n",
       "       [ 9.94314031e-01,  1.04343944e+00,  1.13428688e+00,\n",
       "         1.20023890e+00,  2.00270201e+00,  4.28691228e-01],\n",
       "       [ 4.15130184e-01,  3.82877471e-01,  5.62495378e-01,\n",
       "         2.83061240e-01, -1.16743268e+00, -3.99032488e-01],\n",
       "       [ 1.05475061e+00,  8.82490334e-01,  1.32488405e+00,\n",
       "         3.04065308e-01, -7.77748353e-01,  7.68270188e-01],\n",
       "       [ 1.16555100e+00,  7.41659863e-01,  7.82096464e-01,\n",
       "        -2.91049967e-01,  6.01944819e-01, -1.44348268e-01],\n",
       "       [ 6.39249151e-01,  5.37120368e-01,  8.06956964e-01,\n",
       "        -2.49041830e-01,  2.26843270e-02, -5.79433811e-01],\n",
       "       [-2.64781289e-01,  2.01809722e-01,  8.60024570e-02,\n",
       "         9.97199569e-01, -1.03699780e-01, -3.45973276e-01],\n",
       "       [ 1.25368767e+00,  4.96883091e-01,  2.89029876e-01,\n",
       "         3.25069377e-01, -1.10424063e+00,  2.27066220e-01],\n",
       "       [ 1.96129924e+00,  3.49346406e-01,  6.03929545e-01,\n",
       "         1.13722669e+00,  3.70240622e-01,  5.98480708e-01],\n",
       "       [ 9.59059362e-01,  9.22727612e-01,  1.39532214e+00,\n",
       "        -2.14035049e-01, -3.35403977e-01, -3.35361433e-01],\n",
       "       [ 6.14067245e-01,  7.81897140e-01,  7.65522797e-01,\n",
       "         8.64173802e-01, -7.98812371e-01, -6.00657496e-01],\n",
       "       [ 2.48929602e-01,  7.71837821e-01,  3.18033793e-01,\n",
       "        -1.79970758e-02, -9.04132461e-01, -2.61078536e-01],\n",
       "       [ 5.51112479e-01,  8.59018589e-01,  6.86797880e-01,\n",
       "         9.13183295e-01, -6.09236210e-01,  4.18079385e-01],\n",
       "       [ 1.67926189e+00,  8.52312376e-01,  1.72265206e+00,\n",
       "         1.14422805e+00,  9.07373079e-01,  3.63346767e+00],\n",
       "       [-2.79890433e-01,  1.11275847e-01,  2.64169375e-01,\n",
       "         2.62057171e-01, -9.67324515e-01, -3.88420646e-01],\n",
       "       [ 9.79204888e-01,  9.36140038e-01,  1.30002355e+00,\n",
       "        -1.13121271e+00, -2.82743933e-01, -8.55341716e-01],\n",
       "       [ 1.15044185e+00,  5.33767262e-01,  6.03929545e-01,\n",
       "         1.00420093e+00,  7.38860936e-01, -6.39431536e-03],\n",
       "       [ 8.58331737e-01,  9.89789741e-01,  6.45363713e-01,\n",
       "        -4.10073021e-01, -6.72428264e-01, -1.02513120e+00],\n",
       "       [ 8.20558877e-01,  8.99255867e-01, -5.07302943e-02,\n",
       "         6.75137185e-01,  1.62030907e-03, -1.00390751e+00],\n",
       "       [ 7.57604111e-01,  7.68484715e-01,  6.57793963e-01,\n",
       "         6.33129048e-01, -7.14556300e-01, -6.43104866e-01],\n",
       "       [-4.03281774e-01,  1.07361740e+00,  1.27436624e-01,\n",
       "         1.66932976e+00,  1.44450554e+00,  1.37314521e+00],\n",
       "       [ 8.38186212e-01,  1.02667391e+00,  3.84328460e-01,\n",
       "        -7.11131337e-01, -1.49392496e+00, -7.27999606e-01],\n",
       "       [ 2.01083980e-01,  6.74597734e-01,  4.79627044e-01,\n",
       "         5.42111418e-01, -9.04132461e-01, -8.12894346e-01],\n",
       "       [ 8.88550025e-01,  1.05349876e+00,  9.43689715e-01,\n",
       "         1.20023890e+00, -4.30192058e-01, -5.68821968e-01],\n",
       "       [-5.31709497e-01,  3.89583684e-01,  4.54766544e-01,\n",
       "         2.97063952e-01,  1.59600443e-01,  1.74007007e-01],\n",
       "       [-5.82896564e-02,  7.77447826e-02,  1.35723458e-01,\n",
       "         6.75137185e-01,  8.12584998e-01, -1.11002594e+00],\n",
       "       [ 4.70530378e-01,  7.48366076e-01,  6.45363713e-01,\n",
       "         5.49112774e-01, -1.25168876e+00, -6.43104866e-01],\n",
       "       [ 6.46803723e-01,  7.77447826e-02,  4.13332377e-01,\n",
       "         4.86100569e-01, -1.07264460e+00, -1.12063778e+00],\n",
       "       [ 9.01140978e-01,  4.75668244e-02,  1.31245380e+00,\n",
       "         9.40246230e-02,  5.42803538e-02, -7.38611449e-01],\n",
       "       [ 1.72560628e-02,  3.45993300e-01,  5.91499295e-01,\n",
       "         7.38149391e-01, -6.19768219e-01, -2.50466693e-01],\n",
       "       [ 1.49795216e+00,  3.69465045e-01,  3.42894293e-01,\n",
       "         7.03142610e-01, -4.51256076e-01, -1.44348268e-01],\n",
       "       [ 3.64766371e-01,  6.71244627e-01,  4.25762627e-01,\n",
       "         1.15122941e+00,  1.83418987e+00, -8.76565401e-01],\n",
       "       [ 7.09758489e-01,  8.59018589e-01,  3.59467960e-01,\n",
       "        -9.00167954e-01, -1.15690068e+00, -4.94539071e-01],\n",
       "       [ 9.96832222e-01,  3.41543986e-02,  1.28759330e+00,\n",
       "        -1.63531035e+00, -1.03699780e-01, -5.79433811e-01],\n",
       "       [ 8.35668021e-01,  1.07026430e+00,  6.16359796e-01,\n",
       "         7.17145322e-01, -8.62004425e-01,  5.34809653e-01],\n",
       "       [-1.86717379e-01,  9.02608973e-01,  4.38192877e-01,\n",
       "         6.82138541e-01, -8.19876389e-01, -8.76565401e-01],\n",
       "       [ 5.41039716e-01,  6.47772882e-01,  3.01460126e-01,\n",
       "         7.38149391e-01,  3.17580578e-01, -5.36986441e-01],\n",
       "       [ 1.06230518e+00,  7.04775692e-01,  1.50305097e+00,\n",
       "         3.67077514e-01, -1.22009273e+00,  3.11960960e-01],\n",
       "       [-6.62655410e-01,  9.11572085e-02,  4.25762627e-01,\n",
       "         8.01161596e-01,  6.44072855e-01, -3.45973276e-01],\n",
       "       [ 6.74503820e-01,  1.00320217e+00,  1.55643730e-02,\n",
       "         1.22030048e-01, -4.09128040e-01, -1.54960111e-01],\n",
       "       [-3.25217864e-01,  6.23333894e-04, -7.97342113e-02,\n",
       "         8.29167021e-01, -5.03916121e-01, -4.94539071e-01],\n",
       "       [ 7.45013158e-01,  6.74597734e-01,  4.25762627e-01,\n",
       "        -1.35525610e+00, -1.09370862e+00, -9.61460141e-01],\n",
       "       [-1.26280804e-01,  8.92549654e-01,  2.14448375e-01,\n",
       "         8.50171090e-01, -8.91169988e-03, -3.24749591e-01],\n",
       "       [ 9.01140978e-01,  1.44806912e-01,  1.31245380e+00,\n",
       "         1.71039541e-01,  6.48123628e-02,  5.45421495e-01],\n",
       "       [ 1.38129214e-01,  2.18575254e-01,  5.33491461e-01,\n",
       "         4.37091075e-01, -1.07264460e+00, -8.87177244e-01],\n",
       "       [ 7.95376971e-01,  7.45012969e-01,  1.13428688e+00,\n",
       "         8.08162953e-01, -1.45179693e+00, -9.08400929e-01],\n",
       "       [-5.74518738e-01, -1.08243005e+00, -7.88258468e-01,\n",
       "        -5.57101501e-01,  3.70240622e-01, -1.33736425e-01],\n",
       "       [ 6.99685726e-01,  8.15428205e-01,  3.13412289e-03,\n",
       "        -4.10073021e-01, -1.08317661e+00, -8.44729874e-01],\n",
       "       [-2.47153954e-01,  2.82284277e-01, -2.82761630e-01,\n",
       "         1.15823076e+00, -7.14556300e-01, -3.82298429e-02],\n",
       "       [ 2.48929602e-01,  5.84063859e-01,  5.33491461e-01,\n",
       "        -7.74143542e-01, -5.03916121e-01, -7.59835134e-01],\n",
       "       [-5.54373213e-01,  3.99643003e-01,  5.69985401e-02,\n",
       "        -1.03319372e+00, -4.05077267e-02, -1.17369699e+00],\n",
       "       [ 3.49657227e-01,  3.15815342e-01, -2.16466963e-01,\n",
       "         1.64038185e-01, -5.46044156e-01,  4.39303070e-01],\n",
       "       [ 3.67284562e-01,  5.10295517e-01,  6.03929545e-01,\n",
       "        -1.36925882e+00, -4.51256076e-01, -3.24749591e-01],\n",
       "       [-1.03786582e+00, -3.71571484e-01, -3.00132108e-02,\n",
       "        -2.49984320e-02,  4.75560712e-01,  3.54408330e-01],\n",
       "       [ 6.29176389e-01,  1.91750402e-01,  7.82096464e-01,\n",
       "        -6.76124556e-01, -6.93492282e-01, -9.40236456e-01],\n",
       "       [ 1.34182434e+00,  2.28634574e-01,  1.64392714e+00,\n",
       "         3.32070733e-01,  7.70456963e-01,  1.87190181e+00],\n",
       "       [ 2.76629699e-01,  6.44419775e-01,  2.22735208e-01,\n",
       "         7.31148035e-01, -7.56684336e-01, -1.01900898e-01],\n",
       "       [ 1.00356354e-01,  1.06826533e-02,  4.96200711e-01,\n",
       "        -1.26423847e+00,  8.23117007e-01, -1.11002594e+00],\n",
       "       [ 6.99685726e-01,  5.06942410e-01,  3.42894293e-01,\n",
       "        -1.38326153e+00, -1.07264460e+00, -4.88416854e-02],\n",
       "       [ 7.95376971e-01, -1.26794712e-01,  4.25762627e-01,\n",
       "         8.08162953e-01,  7.91520981e-01, -9.19012771e-01],\n",
       "       [ 4.07575612e-01,  8.59018589e-01,  2.64169375e-01,\n",
       "        -1.10320728e+00, -9.56792506e-01,  3.33184645e-01],\n",
       "       [ 6.94649345e-01, -1.77091309e-01,  1.13428688e+00,\n",
       "        -2.27943512e+00, -1.94680135e+00, -8.12894346e-01],\n",
       "       [ 1.07910926e-01,  1.08032362e+00, -2.41327463e-01,\n",
       "        -5.29096076e-01,  5.28220757e-01, -7.70446976e-01],\n",
       "       [ 1.96047598e-01,  2.85637384e-01,  4.67196794e-01,\n",
       "        -3.33058104e-01,  1.62030907e-03, -8.12894346e-01],\n",
       "       [-5.26673116e-01, -3.27981100e-01, -1.98984931e+00,\n",
       "         2.34051746e-01,  3.17580578e-01, -7.38611449e-01],\n",
       "       [-8.91810759e-01,  7.68484715e-01, -9.29612723e-03,\n",
       "         8.08162953e-01,  1.21280134e+00, -9.29624614e-01],\n",
       "       [ 3.69802753e-01,  1.10379536e+00, -2.82761630e-01,\n",
       "         1.00083489e-02,  6.23008837e-01, -8.76565401e-01],\n",
       "       [ 2.43893220e-01, -1.63678883e-01,  2.47595709e-01,\n",
       "        -2.14640935e+00, -1.17796469e+00,  3.60530547e-02],\n",
       "       [-2.62263098e-01, -1.43115313e+00,  2.35165459e-01,\n",
       "         1.78040897e-01, -1.56764902e+00, -3.67196961e-01],\n",
       "       [ 3.47139037e-01, -2.07269267e-01,  1.81301041e-01,\n",
       "        -2.91049967e-01, -1.57818103e+00,  7.57658345e-01],\n",
       "       [ 2.06120361e-01,  5.09199309e-02,  3.71898210e-01,\n",
       "        -1.23623305e+00, -1.98487861e-01, -8.87177244e-01],\n",
       "       [ 6.51016850e-02, -1.94953049e-02, -2.70331380e-01,\n",
       "         6.89139898e-01,  3.29813911e+00, -8.76565401e-01],\n",
       "       [ 3.11884368e-01, -2.81037609e-01,  6.95084713e-01,\n",
       "         8.99180583e-01, -1.33594483e+00, -1.12512740e-01],\n",
       "       [-4.13354537e-01,  4.59998920e-01,  5.21061211e-01,\n",
       "         1.05321042e+00, -3.98596031e-01, -3.99032488e-01],\n",
       "       [-2.32044811e-01,  3.76171258e-01, -5.02362715e-01,\n",
       "         4.51093788e-01,  1.95004197e+00,  5.98480708e-01],\n",
       "       [-8.96847140e-01, -1.00195550e+00, -1.63351548e+00,\n",
       "        -8.10092814e-02,  2.26843270e-02, -7.81058819e-01],\n",
       "       [ 4.70530378e-01,  1.01996770e+00,  3.71898210e-01,\n",
       "        -5.71104213e-01, -1.09370862e+00, -1.13124962e+00],\n",
       "       [-7.40719320e-01, -1.14278597e+00, -9.91285887e-01,\n",
       "        -8.10092814e-02,  6.33540846e-01, -7.49223291e-01],\n",
       "       [-8.46483327e-01, -1.34397236e+00, -2.04371373e+00,\n",
       "        -2.84048610e-01, -3.24871968e-01, -2.18631166e-01],\n",
       "       [-1.15622078e+00,  5.76261438e-02, -1.99893296e-01,\n",
       "         3.25069377e-01,  1.05482120e+00, -2.29243008e-01],\n",
       "       [-1.71608235e-01,  5.42730374e-02,  3.71898210e-01,\n",
       "        -6.70065690e-02, -7.88280362e-01,  2.05842535e-01],\n",
       "       [-1.28968488e+00, -2.58797486e+00, -1.36004997e+00,\n",
       "        -3.05052679e-01, -1.03699780e-01, -3.03525906e-01],\n",
       "       [-5.84591500e-01, -1.37415032e+00, -9.00130719e-01,\n",
       "        -1.44021487e-01, -8.40940407e-01, -1.86795638e-01],\n",
       "       [ 3.82393706e-01, -8.65574342e-02, -6.39095467e-01,\n",
       "        -6.83125912e-01, -1.49392496e+00, -5.90045653e-01],\n",
       "       [-3.55436152e-01, -5.99582724e-01, -7.21963801e-01,\n",
       "         1.08121584e+00,  8.54713034e-01,  5.66645180e-01],\n",
       "       [ 1.38129214e-01,  4.76764452e-01, -1.06172397e+00,\n",
       "        -2.49984320e-02, -5.77640183e-01, -5.90045653e-01],\n",
       "       [ 1.05392735e-01, -1.20984810e+00,  6.16359796e-01,\n",
       "        -6.70065690e-02, -7.21037536e-02, -8.87177244e-01],\n",
       "       [ 1.38129214e-01,  7.31600543e-01,  3.30464043e-01,\n",
       "        -1.67031713e+00, -1.27275277e+00, -6.74940394e-01],\n",
       "       [-8.33892374e-01, -2.91096929e-01, -3.65629964e-01,\n",
       "         1.51529993e+00,  4.96624730e-01, -5.15762756e-01],\n",
       "       [-6.24882551e-01,  1.28041380e-01, -2.20610379e-01,\n",
       "        -1.17322084e+00, -8.62004425e-01, -4.73315386e-01],\n",
       "       [-1.14614801e+00, -2.50859651e-01, -6.39095467e-01,\n",
       "        -7.04129981e-01, -3.35403977e-01, -4.09644331e-01],\n",
       "       [-2.27933380e+00, -1.71281407e+00, -1.89455073e+00,\n",
       "         1.16523212e+00,  6.12476828e-01,  1.69150049e+00],\n",
       "       [-6.58442284e-02,  3.49346406e-01, -1.02857664e+00,\n",
       "         5.90178421e-02, -1.20956072e+00, -5.79433811e-01],\n",
       "       [-1.93182349e+00, -1.45797798e+00, -1.48849589e+00,\n",
       "        -5.22094720e-01,  3.32163359e-02, -9.12890554e-02],\n",
       "       [-1.44581270e+00, -5.12401955e-01, -1.43048806e+00,\n",
       "        -9.63180159e-01, -8.26357626e-02,  2.54412122e-02],\n",
       "       [-1.38871757e-01, -5.15755062e-01,  3.71898210e-01,\n",
       "        -7.67142186e-01, -9.46260497e-01, -4.94539071e-01],\n",
       "       [ 4.90675903e-01, -1.22996674e+00,  2.47595709e-01,\n",
       "        -6.13112351e-01,  8.96841070e-01,  1.52783322e-01],\n",
       "       [-1.32242136e+00, -1.27355712e+00, -1.45120514e+00,\n",
       "        -4.24075734e-01,  2.33324506e-01, -2.61078536e-01],\n",
       "       [-4.82168939e-02, -1.82011348e+00,  1.10862957e-01,\n",
       "        -3.26056747e-01, -1.49392496e+00,  5.66645180e-01],\n",
       "       [-1.50373108e+00, -9.04715412e-01, -1.23160406e+00,\n",
       "        -7.40079252e-02,  8.86309061e-01,  5.98480708e-01],\n",
       "       [-9.90020194e-01, -7.57178727e-01, -5.97661300e-01,\n",
       "         2.69058527e-01,  1.97110598e+00, -6.11269338e-01],\n",
       "       [-8.43965136e-01, -1.40207138e-01, -9.78855637e-01,\n",
       "        -2.28643648e+00, -8.30408398e-01, -2.39854851e-01],\n",
       "       [-1.76562291e+00, -7.47119408e-01, -1.38905389e+00,\n",
       "         7.10143966e-01,  1.28004417e-01,  2.90737275e-01],\n",
       "       [ 3.99197786e-02, -7.00175918e-01,  3.71898210e-01,\n",
       "        -1.57929950e+00, -1.32541282e+00, -5.90045653e-01],\n",
       "       [-8.64110661e-01, -9.41599583e-01, -9.29612723e-03,\n",
       "         9.41188720e-01, -1.98487861e-01,  3.43796488e-01],\n",
       "       [ 3.47139037e-01, -7.67238047e-01, -6.26665217e-01,\n",
       "        -1.06119915e+00, -3.88064022e-01, -2.29243008e-01],\n",
       "       [-2.04262388e+00, -2.81037609e-01, -1.52578664e+00,\n",
       "        -8.65161173e-01,  2.85984551e-01, -6.11269338e-01],\n",
       "       [-1.30983040e+00, -3.48099739e-01, -1.72881406e+00,\n",
       "        -4.59082515e-01, -3.35403977e-01, -6.21881181e-01],\n",
       "       [-1.60445871e+00, -1.23331985e+00, -2.00227956e+00,\n",
       "        -5.85106926e-01,  7.07264909e-01, -6.96164079e-01],\n",
       "       [ 1.10429116e-01,  1.88397296e-01,  4.38192877e-01,\n",
       "         5.42111418e-01,  6.23008837e-01, -6.74940394e-01],\n",
       "       [-4.91418447e-01, -9.32636472e-02, -7.05390134e-01,\n",
       "         9.27186008e-01,  4.01431572e+00,  6.51539920e-01],\n",
       "       [-1.39796708e+00, -1.48480283e+00, -2.20945040e+00,\n",
       "        -1.53029001e+00,  1.38536425e-01, -3.45973276e-01],\n",
       "       [-2.14417476e-01,  6.07535604e-01,  5.69985401e-02,\n",
       "        -1.50228458e+00,  2.26843270e-02, -1.06757857e+00],\n",
       "       [-1.43322175e+00, -5.89523404e-01, -8.00688718e-01,\n",
       "        -3.40059460e-01,  2.54388524e-01, -1.12512740e-01],\n",
       "       [-2.37081192e-01, -2.00563054e-01, -3.00498641e+00,\n",
       "        -5.57101501e-01, -1.16743268e+00,  2.58901747e-01],\n",
       "       [-1.44329451e+00, -4.68811571e-01, -1.16945281e+00,\n",
       "        -2.56043186e-01,  7.07264909e-01, -5.36986441e-01],\n",
       "       [ 1.97742534e-02, -5.69404765e-01, -3.36626047e-01,\n",
       "        -1.06119915e+00, -1.14636867e+00, -4.62703543e-01],\n",
       "       [-8.23819611e-01, -5.05695742e-01, -1.23989089e+00,\n",
       "         2.69058527e-01,  6.54604864e-01, -2.50466693e-01],\n",
       "       [-1.58683138e+00, -2.13530548e+00, -1.30618556e+00,\n",
       "        -6.97128625e-01, -8.26357626e-02, -2.71690378e-01],\n",
       "       [-3.78099868e-01, -1.48815594e+00, -5.68657383e-01,\n",
       "         7.38149391e-01,  1.59600443e-01, -2.71690378e-01],\n",
       "       [-2.09550588e+00, -9.61718222e-01, -1.16945281e+00,\n",
       "        -1.58024199e-01,  5.07156739e-01, -8.23506189e-01],\n",
       "       [-1.58934957e+00, -1.51498079e+00, -9.12560969e-01,\n",
       "        -1.75433341e+00,  9.49501115e-01, -3.45973276e-01],\n",
       "       [-1.58934957e+00, -9.81836861e-01, -7.05390134e-01,\n",
       "        -1.71232527e+00, -1.66891834e-01, -7.38611449e-01],\n",
       "       [-1.04793858e+00, -1.33500925e-01, -2.30889240e+00,\n",
       "        -2.35039117e-01, -8.19876389e-01, -1.86795638e-01],\n",
       "       [-2.16349703e+00, -2.55444379e+00, -1.43048806e+00,\n",
       "        -1.20822763e+00, -9.31677715e-02,  7.36434660e-01],\n",
       "       [-1.35767603e+00, -3.17921780e-01, -1.21088697e+00,\n",
       "        -2.21036405e-01, -3.56467995e-01, -2.29243008e-01],\n",
       "       [-1.46595822e+00, -1.74634513e+00, -1.14459231e+00,\n",
       "        -2.56649072e+00,  2.46611040e+00, -6.39431536e-03],\n",
       "       [ 3.42102655e-01, -2.13975480e-01, -7.75828218e-01,\n",
       "         4.37091075e-01, -1.68350112e+00, -1.12512740e-01],\n",
       "       [-7.20573795e-01, -2.78580814e+00, -1.18188306e+00,\n",
       "        -2.65750835e+00,  1.53929362e+00,  3.22572802e-01],\n",
       "       [-1.79835939e+00, -2.17554276e+00, -9.53995137e-01,\n",
       "         3.53074801e-01,  3.49176605e-01, -2.29243008e-01],\n",
       "       [-1.55661309e+00, -1.53619564e-01, -1.08658447e+00,\n",
       "        -1.74733205e+00, -8.09344380e-01, -3.56585118e-01],\n",
       "       [-1.37530336e+00, -1.66922369e+00, -4.60928548e-01,\n",
       "         1.13722669e+00,  3.38644596e-01,  3.18777028e+00],\n",
       "       [-1.08067506e+00, -1.08578316e+00, -9.37421470e-01,\n",
       "         1.71039541e-01,  9.60033124e-01,  3.86243858e-01],\n",
       "       [-1.39796708e+00, -2.31972634e+00, -1.50921298e+00,\n",
       "        -2.74852598e+00, -2.82743933e-01, -9.08400929e-01],\n",
       "       [-2.21386084e+00, -4.05328238e+00, -2.56992765e+00,\n",
       "        -1.17322084e+00,  5.28220757e-01, -8.02282504e-01],\n",
       "       [-1.50876747e+00, -2.12524617e+00, -1.78267848e+00,\n",
       "        -2.67851242e+00,  1.80664461e-01, -2.08019323e-01]])"
      ]
     },
     "execution_count": 139,
     "metadata": {},
     "output_type": "execute_result"
    }
   ],
   "source": [
    "X_scaled = StandardScaler().fit_transform(X)\n",
    "X_scaled"
   ]
  },
  {
   "cell_type": "code",
   "execution_count": null,
   "metadata": {},
   "outputs": [
    {
     "data": {
      "text/plain": [
       "(156, 6)"
      ]
     },
     "execution_count": 140,
     "metadata": {},
     "output_type": "execute_result"
    }
   ],
   "source": [
    "X_scaled.shape"
   ]
  },
  {
   "cell_type": "markdown",
   "metadata": {},
   "source": [
    "#### Step 2: PCA\n"
   ]
  },
  {
   "cell_type": "code",
   "execution_count": null,
   "metadata": {},
   "outputs": [],
   "source": [
    "happiness_pca = PCA().fit(X_scaled)\n"
   ]
  },
  {
   "cell_type": "code",
   "execution_count": null,
   "metadata": {},
   "outputs": [
    {
     "data": {
      "text/plain": [
       "array([[-0.51459462, -0.49064918, -0.51056655, -0.3809577 , -0.05948407,\n",
       "        -0.29173692],\n",
       "       [-0.2278181 , -0.22028375, -0.19227192,  0.35212182,  0.69350669,\n",
       "         0.50760633],\n",
       "       [-0.02380878,  0.28141961,  0.02808632,  0.11855036,  0.58081716,\n",
       "        -0.7536873 ],\n",
       "       [ 0.24040185, -0.0633134 ,  0.27480575, -0.81042518,  0.41891464,\n",
       "         0.17436089],\n",
       "       [-0.18376376,  0.77125906, -0.50935561, -0.24006682, -0.00525099,\n",
       "         0.23299691],\n",
       "       [ 0.76887077, -0.1808102 , -0.60547761,  0.04905325,  0.0514247 ,\n",
       "        -0.06701907]])"
      ]
     },
     "execution_count": 142,
     "metadata": {},
     "output_type": "execute_result"
    }
   ],
   "source": [
    "happiness_pca.components_"
   ]
  },
  {
   "cell_type": "code",
   "execution_count": null,
   "metadata": {},
   "outputs": [
    {
     "data": {
      "text/plain": [
       "array([0.49826532, 0.23760052, 0.10164186, 0.09271212, 0.04355392,\n",
       "       0.02622626])"
      ]
     },
     "execution_count": 143,
     "metadata": {},
     "output_type": "execute_result"
    }
   ],
   "source": [
    "happiness_pca.explained_variance_ratio_"
   ]
  },
  {
   "cell_type": "code",
   "execution_count": null,
   "metadata": {},
   "outputs": [
    {
     "data": {
      "text/plain": [
       "array([0.49826532, 0.73586584, 0.8375077 , 0.93021982, 0.97377374,\n",
       "       1.        ])"
      ]
     },
     "execution_count": 144,
     "metadata": {},
     "output_type": "execute_result"
    }
   ],
   "source": [
    "happiness_pca.explained_variance_ratio_.cumsum()"
   ]
  },
  {
   "cell_type": "code",
   "execution_count": null,
   "metadata": {},
   "outputs": [],
   "source": [
    "var_df = pd.DataFrame(\n",
    "    {\n",
    "        'Variance Ratio': happiness_pca.explained_variance_ratio_,\n",
    "        'Cumulative Ratio': happiness_pca.explained_variance_ratio_.cumsum(),\n",
    "        'Principle Component': range(1, 7)\n",
    "    }\n",
    ")"
   ]
  },
  {
   "cell_type": "code",
   "execution_count": null,
   "metadata": {},
   "outputs": [
    {
     "data": {
      "text/html": [
       "<div>\n",
       "<style scoped>\n",
       "    .dataframe tbody tr th:only-of-type {\n",
       "        vertical-align: middle;\n",
       "    }\n",
       "\n",
       "    .dataframe tbody tr th {\n",
       "        vertical-align: top;\n",
       "    }\n",
       "\n",
       "    .dataframe thead th {\n",
       "        text-align: right;\n",
       "    }\n",
       "</style>\n",
       "<table border=\"1\" class=\"dataframe\">\n",
       "  <thead>\n",
       "    <tr style=\"text-align: right;\">\n",
       "      <th></th>\n",
       "      <th>Variance Ratio</th>\n",
       "      <th>Cumulative Ratio</th>\n",
       "      <th>Principle Component</th>\n",
       "    </tr>\n",
       "  </thead>\n",
       "  <tbody>\n",
       "    <tr>\n",
       "      <th>0</th>\n",
       "      <td>0.498265</td>\n",
       "      <td>0.498265</td>\n",
       "      <td>1</td>\n",
       "    </tr>\n",
       "    <tr>\n",
       "      <th>1</th>\n",
       "      <td>0.237601</td>\n",
       "      <td>0.735866</td>\n",
       "      <td>2</td>\n",
       "    </tr>\n",
       "    <tr>\n",
       "      <th>2</th>\n",
       "      <td>0.101642</td>\n",
       "      <td>0.837508</td>\n",
       "      <td>3</td>\n",
       "    </tr>\n",
       "    <tr>\n",
       "      <th>3</th>\n",
       "      <td>0.092712</td>\n",
       "      <td>0.930220</td>\n",
       "      <td>4</td>\n",
       "    </tr>\n",
       "    <tr>\n",
       "      <th>4</th>\n",
       "      <td>0.043554</td>\n",
       "      <td>0.973774</td>\n",
       "      <td>5</td>\n",
       "    </tr>\n",
       "    <tr>\n",
       "      <th>5</th>\n",
       "      <td>0.026226</td>\n",
       "      <td>1.000000</td>\n",
       "      <td>6</td>\n",
       "    </tr>\n",
       "  </tbody>\n",
       "</table>\n",
       "</div>"
      ],
      "text/plain": [
       "   Variance Ratio  Cumulative Ratio  Principle Component\n",
       "0        0.498265          0.498265                    1\n",
       "1        0.237601          0.735866                    2\n",
       "2        0.101642          0.837508                    3\n",
       "3        0.092712          0.930220                    4\n",
       "4        0.043554          0.973774                    5\n",
       "5        0.026226          1.000000                    6"
      ]
     },
     "execution_count": 146,
     "metadata": {},
     "output_type": "execute_result"
    }
   ],
   "source": [
    "var_df"
   ]
  },
  {
   "cell_type": "code",
   "execution_count": null,
   "metadata": {},
   "outputs": [
    {
     "data": {
      "image/png": "[encoded data removed]",
      "text/plain": [
       "<Figure size 669.625x500 with 1 Axes>"
      ]
     },
     "metadata": {},
     "output_type": "display_data"
    }
   ],
   "source": [
    "sns.relplot(data=var_df.set_index('Principle Component'), kind='line').set(title = 'Scree Plot').fig.savefig(r'output/Happiness_relplotLine.png')\n",
    "# Elbow at 3 so keep 3 components"
   ]
  },
  {
   "cell_type": "code",
   "execution_count": 195,
   "metadata": {},
   "outputs": [
    {
     "data": {
      "text/html": [
       "<div>\n",
       "<style scoped>\n",
       "    .dataframe tbody tr th:only-of-type {\n",
       "        vertical-align: middle;\n",
       "    }\n",
       "\n",
       "    .dataframe tbody tr th {\n",
       "        vertical-align: top;\n",
       "    }\n",
       "\n",
       "    .dataframe thead th {\n",
       "        text-align: right;\n",
       "    }\n",
       "</style>\n",
       "<table border=\"1\" class=\"dataframe\">\n",
       "  <thead>\n",
       "    <tr style=\"text-align: right;\">\n",
       "      <th></th>\n",
       "      <th>0</th>\n",
       "      <th>1</th>\n",
       "      <th>2</th>\n",
       "    </tr>\n",
       "  </thead>\n",
       "  <tbody>\n",
       "    <tr>\n",
       "      <th>0</th>\n",
       "      <td>-3.134226</td>\n",
       "      <td>1.053542</td>\n",
       "      <td>-1.923436</td>\n",
       "    </tr>\n",
       "    <tr>\n",
       "      <th>1</th>\n",
       "      <td>-3.292053</td>\n",
       "      <td>1.836057</td>\n",
       "      <td>-1.471747</td>\n",
       "    </tr>\n",
       "    <tr>\n",
       "      <th>2</th>\n",
       "      <td>-3.338247</td>\n",
       "      <td>1.537896</td>\n",
       "      <td>-0.788607</td>\n",
       "    </tr>\n",
       "    <tr>\n",
       "      <th>3</th>\n",
       "      <td>-2.592776</td>\n",
       "      <td>0.945854</td>\n",
       "      <td>1.538589</td>\n",
       "    </tr>\n",
       "    <tr>\n",
       "      <th>4</th>\n",
       "      <td>-2.835104</td>\n",
       "      <td>1.685571</td>\n",
       "      <td>-0.225374</td>\n",
       "    </tr>\n",
       "    <tr>\n",
       "      <th>...</th>\n",
       "      <td>...</td>\n",
       "      <td>...</td>\n",
       "      <td>...</td>\n",
       "    </tr>\n",
       "    <tr>\n",
       "      <th>151</th>\n",
       "      <td>0.378692</td>\n",
       "      <td>3.023072</td>\n",
       "      <td>-2.521027</td>\n",
       "    </tr>\n",
       "    <tr>\n",
       "      <th>152</th>\n",
       "      <td>1.332517</td>\n",
       "      <td>1.587694</td>\n",
       "      <td>-0.019386</td>\n",
       "    </tr>\n",
       "    <tr>\n",
       "      <th>153</th>\n",
       "      <td>3.957017</td>\n",
       "      <td>-0.505351</td>\n",
       "      <td>-0.467332</td>\n",
       "    </tr>\n",
       "    <tr>\n",
       "      <th>154</th>\n",
       "      <td>5.089682</td>\n",
       "      <td>1.437319</td>\n",
       "      <td>-0.387760</td>\n",
       "    </tr>\n",
       "    <tr>\n",
       "      <th>155</th>\n",
       "      <td>3.799670</td>\n",
       "      <td>0.231178</td>\n",
       "      <td>-0.668057</td>\n",
       "    </tr>\n",
       "  </tbody>\n",
       "</table>\n",
       "<p>156 rows × 3 columns</p>\n",
       "</div>"
      ],
      "text/plain": [
       "            0         1         2\n",
       "0   -3.134226  1.053542 -1.923436\n",
       "1   -3.292053  1.836057 -1.471747\n",
       "2   -3.338247  1.537896 -0.788607\n",
       "3   -2.592776  0.945854  1.538589\n",
       "4   -2.835104  1.685571 -0.225374\n",
       "..        ...       ...       ...\n",
       "151  0.378692  3.023072 -2.521027\n",
       "152  1.332517  1.587694 -0.019386\n",
       "153  3.957017 -0.505351 -0.467332\n",
       "154  5.089682  1.437319 -0.387760\n",
       "155  3.799670  0.231178 -0.668057\n",
       "\n",
       "[156 rows x 3 columns]"
      ]
     },
     "execution_count": 195,
     "metadata": {},
     "output_type": "execute_result"
    }
   ],
   "source": [
    "happiness_df = pd.DataFrame(happiness_pca.transform(X_scaled)[:, 0:3])\n",
    "happiness_df"
   ]
  },
  {
   "cell_type": "code",
   "execution_count": 196,
   "metadata": {},
   "outputs": [
    {
     "data": {
      "text/html": [
       "<div>\n",
       "<style scoped>\n",
       "    .dataframe tbody tr th:only-of-type {\n",
       "        vertical-align: middle;\n",
       "    }\n",
       "\n",
       "    .dataframe tbody tr th {\n",
       "        vertical-align: top;\n",
       "    }\n",
       "\n",
       "    .dataframe thead th {\n",
       "        text-align: right;\n",
       "    }\n",
       "</style>\n",
       "<table border=\"1\" class=\"dataframe\">\n",
       "  <thead>\n",
       "    <tr style=\"text-align: right;\">\n",
       "      <th></th>\n",
       "      <th>0</th>\n",
       "      <th>1</th>\n",
       "      <th>2</th>\n",
       "      <th>Country</th>\n",
       "    </tr>\n",
       "  </thead>\n",
       "  <tbody>\n",
       "    <tr>\n",
       "      <th>0</th>\n",
       "      <td>-3.134226</td>\n",
       "      <td>1.053542</td>\n",
       "      <td>-1.923436</td>\n",
       "      <td>Finland</td>\n",
       "    </tr>\n",
       "    <tr>\n",
       "      <th>1</th>\n",
       "      <td>-3.292053</td>\n",
       "      <td>1.836057</td>\n",
       "      <td>-1.471747</td>\n",
       "      <td>Denmark</td>\n",
       "    </tr>\n",
       "    <tr>\n",
       "      <th>2</th>\n",
       "      <td>-3.338247</td>\n",
       "      <td>1.537896</td>\n",
       "      <td>-0.788607</td>\n",
       "      <td>Norway</td>\n",
       "    </tr>\n",
       "    <tr>\n",
       "      <th>3</th>\n",
       "      <td>-2.592776</td>\n",
       "      <td>0.945854</td>\n",
       "      <td>1.538589</td>\n",
       "      <td>Iceland</td>\n",
       "    </tr>\n",
       "    <tr>\n",
       "      <th>4</th>\n",
       "      <td>-2.835104</td>\n",
       "      <td>1.685571</td>\n",
       "      <td>-0.225374</td>\n",
       "      <td>Netherlands</td>\n",
       "    </tr>\n",
       "    <tr>\n",
       "      <th>...</th>\n",
       "      <td>...</td>\n",
       "      <td>...</td>\n",
       "      <td>...</td>\n",
       "      <td>...</td>\n",
       "    </tr>\n",
       "    <tr>\n",
       "      <th>151</th>\n",
       "      <td>0.378692</td>\n",
       "      <td>3.023072</td>\n",
       "      <td>-2.521027</td>\n",
       "      <td>Rwanda</td>\n",
       "    </tr>\n",
       "    <tr>\n",
       "      <th>152</th>\n",
       "      <td>1.332517</td>\n",
       "      <td>1.587694</td>\n",
       "      <td>-0.019386</td>\n",
       "      <td>Tanzania</td>\n",
       "    </tr>\n",
       "    <tr>\n",
       "      <th>153</th>\n",
       "      <td>3.957017</td>\n",
       "      <td>-0.505351</td>\n",
       "      <td>-0.467332</td>\n",
       "      <td>Afghanistan</td>\n",
       "    </tr>\n",
       "    <tr>\n",
       "      <th>154</th>\n",
       "      <td>5.089682</td>\n",
       "      <td>1.437319</td>\n",
       "      <td>-0.387760</td>\n",
       "      <td>Central African Republic</td>\n",
       "    </tr>\n",
       "    <tr>\n",
       "      <th>155</th>\n",
       "      <td>3.799670</td>\n",
       "      <td>0.231178</td>\n",
       "      <td>-0.668057</td>\n",
       "      <td>South Sudan</td>\n",
       "    </tr>\n",
       "  </tbody>\n",
       "</table>\n",
       "<p>156 rows × 4 columns</p>\n",
       "</div>"
      ],
      "text/plain": [
       "            0         1         2                   Country\n",
       "0   -3.134226  1.053542 -1.923436                   Finland\n",
       "1   -3.292053  1.836057 -1.471747                   Denmark\n",
       "2   -3.338247  1.537896 -0.788607                    Norway\n",
       "3   -2.592776  0.945854  1.538589                   Iceland\n",
       "4   -2.835104  1.685571 -0.225374               Netherlands\n",
       "..        ...       ...       ...                       ...\n",
       "151  0.378692  3.023072 -2.521027                    Rwanda\n",
       "152  1.332517  1.587694 -0.019386                  Tanzania\n",
       "153  3.957017 -0.505351 -0.467332               Afghanistan\n",
       "154  5.089682  1.437319 -0.387760  Central African Republic\n",
       "155  3.799670  0.231178 -0.668057               South Sudan\n",
       "\n",
       "[156 rows x 4 columns]"
      ]
     },
     "execution_count": 196,
     "metadata": {},
     "output_type": "execute_result"
    }
   ],
   "source": [
    "happiness_df['Country'] = happiness['Country or region']\n",
    "happiness_df"
   ]
  },
  {
   "cell_type": "code",
   "execution_count": 203,
   "metadata": {},
   "outputs": [
    {
     "data": {
      "image/png": "[encoded data removed]",
      "text/plain": [
       "<Figure size 634.5x500 with 1 Axes>"
      ]
     },
     "metadata": {},
     "output_type": "display_data"
    }
   ],
   "source": [
    "happiness_df.rename(\n",
    "    {\n",
    "        0: 'PC1',\n",
    "        1: 'PC2',\n",
    "        2: 'PC3'\n",
    "    },\n",
    "    axis=1,\n",
    "    inplace=True\n",
    ")\n",
    "data = happiness_df.sample(10)\n",
    "# happiness_df\n",
    "sns.relplot(data=data, x=data.PC1, y=data.PC2, hue=data['Country'], s=100).fig.savefig(r'output/relplotHappiness10.png')"
   ]
  },
  {
   "cell_type": "code",
   "execution_count": 201,
   "metadata": {},
   "outputs": [
    {
     "data": {
      "text/plain": [
       "array([[-0.51459462, -0.49064918, -0.51056655, -0.3809577 , -0.05948407,\n",
       "        -0.29173692],\n",
       "       [-0.2278181 , -0.22028375, -0.19227192,  0.35212182,  0.69350669,\n",
       "         0.50760633],\n",
       "       [-0.02380878,  0.28141961,  0.02808632,  0.11855036,  0.58081716,\n",
       "        -0.7536873 ],\n",
       "       [ 0.24040185, -0.0633134 ,  0.27480575, -0.81042518,  0.41891464,\n",
       "         0.17436089],\n",
       "       [-0.18376376,  0.77125906, -0.50935561, -0.24006682, -0.00525099,\n",
       "         0.23299691],\n",
       "       [ 0.76887077, -0.1808102 , -0.60547761,  0.04905325,  0.0514247 ,\n",
       "        -0.06701907]])"
      ]
     },
     "execution_count": 201,
     "metadata": {},
     "output_type": "execute_result"
    }
   ],
   "source": [
    "happiness_pca.components_"
   ]
  },
  {
   "cell_type": "code",
   "execution_count": null,
   "metadata": {},
   "outputs": [],
   "source": []
  }
 ],
 "metadata": {
  "kernelspec": {
   "display_name": "Python 3",
   "language": "python",
   "name": "python3"
  },
  "language_info": {
   "codemirror_mode": {
    "name": "ipython",
    "version": 3
   },
   "file_extension": ".py",
   "mimetype": "text/x-python",
   "name": "python",
   "nbconvert_exporter": "python",
   "pygments_lexer": "ipython3",
   "version": "3.12.0"
  }
 },
 "nbformat": 4,
 "nbformat_minor": 2
}
