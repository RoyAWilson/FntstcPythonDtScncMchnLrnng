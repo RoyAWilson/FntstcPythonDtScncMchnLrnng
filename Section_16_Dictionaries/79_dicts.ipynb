{
 "cells": [
  {
   "cell_type": "markdown",
   "metadata": {},
   "source": [
    "# Section 16:  Dictionaries as a Powerful Data Structure\n",
    "### Lecture 79:  What is a dictionary?\n",
    "### Lecture 80:  Creating dictionaries via zip\n",
    "### Lecture 81:  The basic calories counter app\n",
    "### Lecture 82:  An interactive calories counter app\n",
    "### Lecture 83:  How to loop through a dictionary\n",
    "### Lecture 84:  Dictionary Manipulations\n",
    "### Lecture 85:  Are python dictionaries ordered?\n",
    "### Lecture 86:  A small challenge for you"
   ]
  },
  {
   "cell_type": "code",
   "execution_count": 1,
   "metadata": {},
   "outputs": [],
   "source": [
    "foods = ['Broccoli', 'Celery', 'Onion', 'Corn Dog', 'Pork Chop', 'Ham Burger', 'French Fries']\n",
    "calories = [207, 6, 34, 438, 295, 279, 222]"
   ]
  },
  {
   "cell_type": "code",
   "execution_count": 2,
   "metadata": {},
   "outputs": [
    {
     "name": "stdout",
     "output_type": "stream",
     "text": [
      "{'Broccoli': 207, 'Celery': 6, 'Onion': 34, 'Corn Dog': 438, 'Pork Chop': 295, 'Ham Burger': 279, 'French Fries': 222}\n"
     ]
    }
   ],
   "source": [
    "food_dict = dict(zip(foods, calories))\n",
    "print(food_dict)"
   ]
  },
  {
   "cell_type": "code",
   "execution_count": 8,
   "metadata": {},
   "outputs": [],
   "source": [
    "def food_calories():\n",
    "    food = input('Which food: ')\n",
    "    # I added a check that the food exists in the dict to avoid error messages.\n",
    "    if food in food_dict:\n",
    "        return food_dict[food]\n",
    "    return f'Sorry, I don\\'t have details of {food}'"
   ]
  },
  {
   "cell_type": "code",
   "execution_count": 9,
   "metadata": {},
   "outputs": [
    {
     "data": {
      "text/plain": [
       "\"Sorry, I don't have details of Hot Dog\""
      ]
     },
     "execution_count": 9,
     "metadata": {},
     "output_type": "execute_result"
    }
   ],
   "source": [
    "# NB in VS Code input appears at top of screen in search box.\n",
    "food_calories()"
   ]
  },
  {
   "cell_type": "markdown",
   "metadata": {},
   "source": [
    "### Lecture 81:  Basic Calorie Counter App:"
   ]
  },
  {
   "cell_type": "code",
   "execution_count": 21,
   "metadata": {},
   "outputs": [
    {
     "data": {
      "text/plain": [
       "501"
      ]
     },
     "execution_count": 21,
     "metadata": {},
     "output_type": "execute_result"
    }
   ],
   "source": [
    "def calorie_counter(foods):\n",
    "    cal_list = []\n",
    "    for food in foods:\n",
    "        cal = food_dict[food]\n",
    "        cal_list.append(cal)\n",
    "    return sum(cal_list)\n",
    "\n",
    "calorie_counter(['Ham Burger', 'French Fries'])"
   ]
  },
  {
   "cell_type": "code",
   "execution_count": 28,
   "metadata": {},
   "outputs": [
    {
     "data": {
      "text/plain": [
       "723"
      ]
     },
     "execution_count": 28,
     "metadata": {},
     "output_type": "execute_result"
    }
   ],
   "source": [
    "def full_calorie_counter(foods):\n",
    "    cal_list = []\n",
    "    for food, quantity in foods:\n",
    "        cal = food_dict[food] * quantity\n",
    "        cal_list.append(cal)\n",
    "    return sum(cal_list)\n",
    "\n",
    "full_calorie_counter([('Ham Burger', 1), ('French Fries', 2)])"
   ]
  },
  {
   "cell_type": "markdown",
   "metadata": {},
   "source": [
    "### Lecture 52:  Interactive Calorie Counter."
   ]
  },
  {
   "cell_type": "markdown",
   "metadata": {},
   "source": [
    "#### To allow user to input food and number of servings."
   ]
  },
  {
   "cell_type": "code",
   "execution_count": 37,
   "metadata": {},
   "outputs": [],
   "source": [
    "def calc():\n",
    "    food_list = []\n",
    "    n = int(input('How many types of food have you eaten?'))\n",
    "    for i in range(0, n):\n",
    "        name = input('Please Enter the Name of the Food: ')\n",
    "        # Tutor challenges to not return an error when entry not in the dict.\n",
    "        # Should probably be in a while loop to allow continued entries.\n",
    "        # Would rather not ask how many items to enter but\n",
    "        # Ask the user to enter, perhaps, 'X' or 'Done' when finished entering\n",
    "        # Also should really ensure that both input and dictionary are in same case.\n",
    "        if name not in food_dict:\n",
    "            return f'Sory, I don\\'t know the calories in {name}'\n",
    "            # break\n",
    "        quant = float(input('Please Ebter the Number of Servings: '))\n",
    "        new_tuple = (name, quant)\n",
    "        food_list.append(new_tuple)\n",
    "    return full_calorie_counter(food_list)\n"
   ]
  },
  {
   "cell_type": "code",
   "execution_count": 38,
   "metadata": {},
   "outputs": [
    {
     "data": {
      "text/plain": [
       "\"Sory, I don't know the calories in apple\""
      ]
     },
     "execution_count": 38,
     "metadata": {},
     "output_type": "execute_result"
    }
   ],
   "source": [
    "calc()"
   ]
  },
  {
   "cell_type": "markdown",
   "metadata": {},
   "source": [
    "### Lecture 83:  Looping through a dictionary"
   ]
  },
  {
   "cell_type": "markdown",
   "metadata": {},
   "source": [
    "##### There are three ways to loop over a dictionary:\n",
    "##### 1) Loop over keys only\n",
    "##### 2) Loop over values only\n",
    "##### 3) Loop over key value pairs"
   ]
  },
  {
   "cell_type": "code",
   "execution_count": 39,
   "metadata": {},
   "outputs": [
    {
     "name": "stdout",
     "output_type": "stream",
     "text": [
      "Broccoli\n",
      "Celery\n",
      "Onion\n",
      "Corn Dog\n",
      "Pork Chop\n",
      "Ham Burger\n",
      "French Fries\n"
     ]
    }
   ],
   "source": [
    "# Looping over keys only\n",
    "for keys in food_dict:\n",
    "    print(keys)"
   ]
  },
  {
   "cell_type": "code",
   "execution_count": 41,
   "metadata": {},
   "outputs": [
    {
     "name": "stdout",
     "output_type": "stream",
     "text": [
      "Broccoli\n",
      "Celery\n",
      "Onion\n",
      "Corn Dog\n",
      "Pork Chop\n",
      "Ham Burger\n",
      "French Fries\n"
     ]
    }
   ],
   "source": [
    "# Or another way to loop over key:\n",
    "for foods in food_dict.keys():\n",
    "    print(foods)"
   ]
  },
  {
   "cell_type": "code",
   "execution_count": 44,
   "metadata": {},
   "outputs": [
    {
     "name": "stdout",
     "output_type": "stream",
     "text": [
      "207\n",
      "6\n",
      "34\n",
      "438\n",
      "295\n",
      "279\n",
      "222\n"
     ]
    }
   ],
   "source": [
    "# Looping over values only\n",
    "for values in food_dict.values():\n",
    "    print(values)"
   ]
  },
  {
   "cell_type": "code",
   "execution_count": 47,
   "metadata": {},
   "outputs": [
    {
     "name": "stdout",
     "output_type": "stream",
     "text": [
      "('Broccoli', 207)\n",
      "('Celery', 6)\n",
      "('Onion', 34)\n",
      "('Corn Dog', 438)\n",
      "('Pork Chop', 295)\n",
      "('Ham Burger', 279)\n",
      "('French Fries', 222)\n"
     ]
    }
   ],
   "source": [
    "# to loop over both:\n",
    "for element in food_dict.items():\n",
    "    print(element)"
   ]
  },
  {
   "cell_type": "code",
   "execution_count": 48,
   "metadata": {},
   "outputs": [
    {
     "name": "stdout",
     "output_type": "stream",
     "text": [
      "Broccoli 207\n",
      "Celery 6\n",
      "Onion 34\n",
      "Corn Dog 438\n",
      "Pork Chop 295\n",
      "Ham Burger 279\n",
      "French Fries 222\n"
     ]
    }
   ],
   "source": [
    "# Another way:\n",
    "for k, v in food_dict.items():\n",
    "    print(k, v)"
   ]
  },
  {
   "cell_type": "code",
   "execution_count": 60,
   "metadata": {},
   "outputs": [
    {
     "name": "stdout",
     "output_type": "stream",
     "text": [
      " Broccoli Celery Onion Corn Dog Pork Chop Ham Burger French Fries\n",
      "['Broccoli', 'Celery', 'Onion', 'Corn Dog', 'Pork Chop', 'Ham Burger', 'French Fries']\n"
     ]
    }
   ],
   "source": [
    "# Get all keys together in 1 variable:\n",
    "variable_str = ''\n",
    "variable_list = []\n",
    "variable_tuple = ()\n",
    "for keys in food_dict:\n",
    "    variable_str = variable_str + ' ' + keys\n",
    "    variable_list.append(keys)\n",
    "    # Tuple not so good.  Not a great way to try it.  See below for better way.\n",
    "    # variable_tuple = variable_tuple + tuple(keys)\n",
    "    \n",
    "print(f'{variable_str}\\n{variable_list}')"
   ]
  },
  {
   "cell_type": "code",
   "execution_count": 66,
   "metadata": {},
   "outputs": [
    {
     "name": "stdout",
     "output_type": "stream",
     "text": [
      "['Broccoli', 'Celery', 'Onion', 'Corn Dog', 'Pork Chop', 'Ham Burger', 'French Fries'] [207, 6, 34, 438, 295, 279, 222]\n"
     ]
    }
   ],
   "source": [
    "# or\n",
    "ks = list(food_dict.keys())\n",
    "vls = list(food_dict.values())\n",
    "print(ks, vls)"
   ]
  },
  {
   "cell_type": "code",
   "execution_count": 70,
   "metadata": {},
   "outputs": [
    {
     "name": "stdout",
     "output_type": "stream",
     "text": [
      "{'Onion', 'French Fries', 'Corn Dog', 'Celery', 'Ham Burger', 'Pork Chop', 'Broccoli'}\n",
      "('Broccoli', 'Celery', 'Onion', 'Corn Dog', 'Pork Chop', 'Ham Burger', 'French Fries')\n",
      "{34, 6, 295, 207, 438, 279, 222}\n",
      "(207, 6, 34, 438, 295, 279, 222)\n"
     ]
    }
   ],
   "source": [
    "kss = set(food_dict.keys())\n",
    "kst = tuple(food_dict.keys())\n",
    "vals = set(food_dict.values())\n",
    "valt = tuple(food_dict.values())\n",
    "print(f'{kss}\\n{kst}\\n{vals}\\n{valt}')"
   ]
  },
  {
   "cell_type": "code",
   "execution_count": null,
   "metadata": {},
   "outputs": [],
   "source": []
  }
 ],
 "metadata": {
  "kernelspec": {
   "display_name": "Python 3 (ipykernel)",
   "language": "python",
   "name": "python3"
  },
  "language_info": {
   "codemirror_mode": {
    "name": "ipython",
    "version": 3
   },
   "file_extension": ".py",
   "mimetype": "text/x-python",
   "name": "python",
   "nbconvert_exporter": "python",
   "pygments_lexer": "ipython3",
   "version": "3.12.0"
  }
 },
 "nbformat": 4,
 "nbformat_minor": 4
}
