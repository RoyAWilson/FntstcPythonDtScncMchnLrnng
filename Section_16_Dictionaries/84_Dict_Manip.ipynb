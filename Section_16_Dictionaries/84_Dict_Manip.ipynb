{
 "cells": [
  {
   "cell_type": "markdown",
   "metadata": {},
   "source": [
    "# Lecture 84:  Dictionary Manipulation\n",
    "\n",
    "#### 1.  How to add an item to a dictionary\n",
    "#### 2.  Remove an item from a dictinoary\n",
    "#### 3.  Empty an entire dictionary\n",
    "#### 4.  Length\n",
    "#### 5.  Are dictionaries ordered in python?"
   ]
  },
  {
   "cell_type": "code",
   "execution_count": 3,
   "metadata": {},
   "outputs": [],
   "source": [
    "dict_1 = {\n",
    "    1: 'hello',\n",
    "    2: True,\n",
    "    100: -10.89,\n",
    "    'skill': 'coding',\n",
    "    'name': 'Jane Doe'\n",
    "}"
   ]
  },
  {
   "cell_type": "code",
   "execution_count": 5,
   "metadata": {},
   "outputs": [
    {
     "data": {
      "text/plain": [
       "{1: 'hello',\n",
       " 2: True,\n",
       " 100: -10.89,\n",
       " 'skill': 'coding',\n",
       " 'name': 'Jane Doe',\n",
       " 'age': 28}"
      ]
     },
     "execution_count": 5,
     "metadata": {},
     "output_type": "execute_result"
    }
   ],
   "source": [
    "# 1.  Add item to dictinary:\n",
    "dict_1['age'] = 28\n",
    "dict_1"
   ]
  },
  {
   "cell_type": "code",
   "execution_count": 6,
   "metadata": {},
   "outputs": [
    {
     "data": {
      "text/plain": [
       "{1: 'hello', 100: -10.89, 'skill': 'coding', 'name': 'Jane Doe', 'age': 28}"
      ]
     },
     "execution_count": 6,
     "metadata": {},
     "output_type": "execute_result"
    }
   ],
   "source": [
    "# 2.  Remove an item from a dictioary:\n",
    "del dict_1[2]\n",
    "dict_1"
   ]
  },
  {
   "cell_type": "code",
   "execution_count": null,
   "metadata": {},
   "outputs": [],
   "source": [
    "# another way to remove items\n",
    "dict_1.pop('age')\n",
    "dict_1"
   ]
  },
  {
   "cell_type": "code",
   "execution_count": 10,
   "metadata": {},
   "outputs": [
    {
     "data": {
      "text/plain": [
       "('name', 'Jane Doe')"
      ]
     },
     "execution_count": 10,
     "metadata": {},
     "output_type": "execute_result"
    }
   ],
   "source": [
    "dict_1.popitem()"
   ]
  },
  {
   "cell_type": "code",
   "execution_count": 11,
   "metadata": {},
   "outputs": [
    {
     "data": {
      "text/plain": [
       "{1: 'hello', 100: -10.89, 'skill': 'coding'}"
      ]
     },
     "execution_count": 11,
     "metadata": {},
     "output_type": "execute_result"
    }
   ],
   "source": [
    "dict_1"
   ]
  },
  {
   "cell_type": "code",
   "execution_count": 12,
   "metadata": {},
   "outputs": [
    {
     "data": {
      "text/plain": [
       "{}"
      ]
     },
     "execution_count": 12,
     "metadata": {},
     "output_type": "execute_result"
    }
   ],
   "source": [
    "# To empty the dictionary\n",
    "dict_1.clear()\n",
    "dict_1"
   ]
  },
  {
   "cell_type": "code",
   "execution_count": 13,
   "metadata": {},
   "outputs": [],
   "source": [
    "# Dictinoary length:\n",
    "\n",
    "dict_2 = {\n",
    "    1: 'First',\n",
    "    2: 'Second',\n",
    "    3: 'Third',\n",
    "    4: 'Fourth',\n",
    "    5: 'Fifth'\n",
    "}"
   ]
  },
  {
   "cell_type": "code",
   "execution_count": 14,
   "metadata": {},
   "outputs": [
    {
     "data": {
      "text/plain": [
       "5"
      ]
     },
     "execution_count": 14,
     "metadata": {},
     "output_type": "execute_result"
    }
   ],
   "source": [
    "len(dict_2)"
   ]
  },
  {
   "cell_type": "code",
   "execution_count": 15,
   "metadata": {},
   "outputs": [
    {
     "name": "stdout",
     "output_type": "stream",
     "text": [
      "{1: 'First', 2: 'Second', 3: 'Third', 4: 'Fourth', 5: 'Fifth'} {4: 'Fourth', 3: 'Third', 2: 'Second', 1: 'First', 5: 'Fifth'}\n"
     ]
    }
   ],
   "source": [
    "# Are dictionaries ordered?\n",
    "# Before python 3.7 - dictionaries not ordered\n",
    "# After 3.7 dictionaries ordered by the order items were entered\n",
    "# when the dictionay was created\n",
    "\n",
    "dict_3 = {\n",
    "    4: 'Fourth',\n",
    "    3: 'Third',\n",
    "    2: 'Second',\n",
    "    1: 'First',\n",
    "    5: 'Fifth'\n",
    "}\n",
    "print(dict_2, dict_3)"
   ]
  },
  {
   "cell_type": "code",
   "execution_count": 16,
   "metadata": {},
   "outputs": [
    {
     "data": {
      "text/plain": [
       "{4: 'Fourth', 3: 'Third', 2: 'Second', 1: 'First', 5: 'Fifth', 6: 'sxth'}"
      ]
     },
     "execution_count": 16,
     "metadata": {},
     "output_type": "execute_result"
    }
   ],
   "source": [
    "# Adding to dictionary adds to end:\n",
    "dict_3[6] = 'sxth'\n",
    "dict_3"
   ]
  },
  {
   "cell_type": "markdown",
   "metadata": {},
   "source": [
    "### Challenge change the key 'Skill' to the key 'Hobby'"
   ]
  },
  {
   "cell_type": "code",
   "execution_count": 21,
   "metadata": {},
   "outputs": [
    {
     "data": {
      "text/plain": [
       "{1: 'Hello', 2: True, 'name': 'Jane Doe', 'hobby': 'coding'}"
      ]
     },
     "execution_count": 21,
     "metadata": {},
     "output_type": "execute_result"
    }
   ],
   "source": [
    "chal_dict = {\n",
    "    1: 'Hello',\n",
    "    2: True,\n",
    "    'skill': 'coding',\n",
    "    'name': 'Jane Doe'\n",
    "}\n",
    "chal_dict['hobby'] = chal_dict['skill']\n",
    "del chal_dict['skill']\n",
    "chal_dict"
   ]
  },
  {
   "cell_type": "code",
   "execution_count": 24,
   "metadata": {},
   "outputs": [
    {
     "data": {
      "text/plain": [
       "{1: 'Hello', 2: True, 'name': 'Jane Doe', 'skill': 'coding'}"
      ]
     },
     "execution_count": 24,
     "metadata": {},
     "output_type": "execute_result"
    }
   ],
   "source": [
    "chal_dict['skill'] = chal_dict.pop('hobby')\n",
    "chal_dict"
   ]
  },
  {
   "cell_type": "code",
   "execution_count": null,
   "metadata": {},
   "outputs": [],
   "source": []
  }
 ],
 "metadata": {
  "kernelspec": {
   "display_name": "Python 3",
   "language": "python",
   "name": "python3"
  },
  "language_info": {
   "codemirror_mode": {
    "name": "ipython",
    "version": 3
   },
   "file_extension": ".py",
   "mimetype": "text/x-python",
   "name": "python",
   "nbconvert_exporter": "python",
   "pygments_lexer": "ipython3",
   "version": "3.12.0"
  }
 },
 "nbformat": 4,
 "nbformat_minor": 2
}
