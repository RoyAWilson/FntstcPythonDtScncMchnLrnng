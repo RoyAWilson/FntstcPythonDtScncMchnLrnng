{
 "cells": [
  {
   "cell_type": "markdown",
   "metadata": {},
   "source": [
    "## Lecture 94 Multiple Inheritence"
   ]
  },
  {
   "cell_type": "code",
   "execution_count": 50,
   "metadata": {},
   "outputs": [],
   "source": [
    "class Person():\n",
    "    def __init__(self, name:str, age: float):\n",
    "        self.name = name\n",
    "        self.age = age\n",
    "\n",
    "class Singer(Person):\n",
    "    def sing(self):\n",
    "        print(f'{self.name} is singing a song')\n",
    "    \n",
    "    # Define sleep function and try it out on a person with Super_Talent\n",
    "    # To show the method resolution order.\n",
    "    # If the function does not have a sleep method look from the highest\n",
    "    # to the lowest parent\n",
    "    \n",
    "    def sleep(self):\n",
    "        print(f'Sleeps from 3AM till 12 Noon')\n",
    "\n",
    "class Teacher(Person):\n",
    "    \n",
    "    def __init__(self, name: str, age: float, school: str):\n",
    "        self.school = school\n",
    "        super().__init__(name, age)\n",
    "    \n",
    "    def teach(self):\n",
    "        print(f'{self.name} is teaching')\n",
    "\n",
    "class Painter(Person):\n",
    "    def draw(self):\n",
    "        print(f'{self.name} is drawing oil painting')\n",
    "        \n",
    "    def sleep(self):\n",
    "        print(f'Sleeps soundly from 9pm to 5am')\n",
    "        \n",
    "class Super_Talent(Singer, Painter, Teacher):\n",
    "    pass\n",
    "\n",
    "class Talent():\n",
    "    def __init__(self, name, age, school) -> None:\n",
    "        self.name = name\n",
    "        self.age = age\n",
    "        self.school = school\n",
    "        \n",
    "        # Add composition to the class:\n",
    "        \n",
    "        self.inner_singer = Singer(name, age)\n",
    "        self.inner_painter = Painter(name, age)\n",
    "        self.inner_teacher = Teacher(name, age, school)\n",
    "    \n",
    "    def singer(self):\n",
    "        self.inner_singer.sing()\n",
    "    \n",
    "    def draw(self):\n",
    "        self.inner_painter.draw()\n",
    "    \n",
    "    def teach(self):\n",
    "        self.inner_teacher.teach()\n",
    "        \n",
    "    def __repr__(self):\n",
    "        return f'{self.name}, {self.age}'\n",
    "    \n",
    "        \n",
    "    "
   ]
  },
  {
   "cell_type": "code",
   "execution_count": 51,
   "metadata": {},
   "outputs": [
    {
     "name": "stdout",
     "output_type": "stream",
     "text": [
      "Frank Sinatra is singing a song\n"
     ]
    }
   ],
   "source": [
    "frank = Singer('Frank Sinatra', 76)\n",
    "frank.sing()"
   ]
  },
  {
   "cell_type": "code",
   "execution_count": 52,
   "metadata": {},
   "outputs": [
    {
     "name": "stdout",
     "output_type": "stream",
     "text": [
      "Vincent Vangogh is drawing oil painting\n"
     ]
    }
   ],
   "source": [
    "vangogh = Painter('Vincent Vangogh', 30)\n",
    "vangogh.draw()"
   ]
  },
  {
   "cell_type": "code",
   "execution_count": 53,
   "metadata": {},
   "outputs": [
    {
     "name": "stdout",
     "output_type": "stream",
     "text": [
      "Richie is singing a song\n"
     ]
    }
   ],
   "source": [
    "richie = Super_Talent('Richie', 25, 'Middleton High')\n",
    "richie.sing()"
   ]
  },
  {
   "cell_type": "code",
   "execution_count": 54,
   "metadata": {},
   "outputs": [
    {
     "name": "stdout",
     "output_type": "stream",
     "text": [
      "Richie is drawing oil painting\n"
     ]
    }
   ],
   "source": [
    "richie.draw()"
   ]
  },
  {
   "cell_type": "code",
   "execution_count": 55,
   "metadata": {},
   "outputs": [
    {
     "name": "stdout",
     "output_type": "stream",
     "text": [
      "Richie is teaching\n"
     ]
    }
   ],
   "source": [
    "richie.teach()"
   ]
  },
  {
   "cell_type": "code",
   "execution_count": 56,
   "metadata": {},
   "outputs": [
    {
     "name": "stdout",
     "output_type": "stream",
     "text": [
      "Sleeps from 3AM till 12 Noon\n"
     ]
    }
   ],
   "source": [
    "richie.sleep()"
   ]
  },
  {
   "cell_type": "markdown",
   "metadata": {},
   "source": [
    "### Lecture 97 Compostiion Vs Inheritence\n",
    "see class Talent"
   ]
  },
  {
   "cell_type": "code",
   "execution_count": 57,
   "metadata": {},
   "outputs": [],
   "source": [
    "taylor = Talent('Taylor', 34, 'Middleton High')\n"
   ]
  },
  {
   "cell_type": "code",
   "execution_count": 58,
   "metadata": {},
   "outputs": [
    {
     "name": "stdout",
     "output_type": "stream",
     "text": [
      "Taylor, 34\n"
     ]
    }
   ],
   "source": [
    "print(taylor)"
   ]
  },
  {
   "cell_type": "code",
   "execution_count": 61,
   "metadata": {},
   "outputs": [
    {
     "name": "stdout",
     "output_type": "stream",
     "text": [
      "Taylor is singing a song\n"
     ]
    }
   ],
   "source": [
    "taylor.singer()"
   ]
  },
  {
   "cell_type": "code",
   "execution_count": 62,
   "metadata": {},
   "outputs": [
    {
     "name": "stdout",
     "output_type": "stream",
     "text": [
      "Taylor is drawing oil painting\n"
     ]
    }
   ],
   "source": [
    "taylor.draw()"
   ]
  },
  {
   "cell_type": "code",
   "execution_count": 65,
   "metadata": {},
   "outputs": [
    {
     "name": "stdout",
     "output_type": "stream",
     "text": [
      "Taylor is teaching\n"
     ]
    }
   ],
   "source": [
    "taylor.teach()"
   ]
  },
  {
   "cell_type": "code",
   "execution_count": null,
   "metadata": {},
   "outputs": [],
   "source": []
  }
 ],
 "metadata": {
  "kernelspec": {
   "display_name": "Python 3",
   "language": "python",
   "name": "python3"
  },
  "language_info": {
   "codemirror_mode": {
    "name": "ipython",
    "version": 3
   },
   "file_extension": ".py",
   "mimetype": "text/x-python",
   "name": "python",
   "nbconvert_exporter": "python",
   "pygments_lexer": "ipython3",
   "version": "3.12.0"
  }
 },
 "nbformat": 4,
 "nbformat_minor": 2
}
