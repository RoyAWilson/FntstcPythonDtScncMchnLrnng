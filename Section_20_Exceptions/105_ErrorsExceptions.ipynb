{
 "cells": [
  {
   "cell_type": "markdown",
   "metadata": {},
   "source": [
    "# Section 20 Exceptions in Python\n",
    "\n",
    "##### 105:  Introduction to Errors and Exceptions\n",
    "##### 106:  Try and Catch Blocks\n",
    "##### 107:  Specific Sub-Types of Exceptions\n",
    "##### 108:  Catching Multiple Types of Exception\n",
    "##### 109:  The \"finally\" Keyword\n",
    "##### 110:  The \"raise\" Keyword\n",
    "##### 111:  \\*Nested Multilevel Exceptions (Advanced/Optional)\n",
    "##### 112:  \\*Define Your Own Excpetions (Advanced/Optional)"
   ]
  },
  {
   "cell_type": "code",
   "execution_count": 7,
   "metadata": {},
   "outputs": [
    {
     "name": "stdout",
     "output_type": "stream",
     "text": [
      "3\n",
      "An Error Has Occured: Error \n"
     ]
    }
   ],
   "source": [
    "# Try Except Clause\n",
    "\n",
    "try:\n",
    "    a = 1 + 2\n",
    "    print(a)\n",
    "    100/0\n",
    "except:\n",
    "    print(f'An Error Has Occured: Error ')"
   ]
  },
  {
   "cell_type": "code",
   "execution_count": 9,
   "metadata": {},
   "outputs": [
    {
     "name": "stdout",
     "output_type": "stream",
     "text": [
      "name 'x' is not defined\n"
     ]
    }
   ],
   "source": [
    "try:\n",
    "    print(x)\n",
    "    100/0\n",
    "except Exception as e:\n",
    "    print(e)"
   ]
  },
  {
   "cell_type": "markdown",
   "metadata": {},
   "source": [
    "##### 107:  Specific Subtypes of Exception"
   ]
  },
  {
   "cell_type": "code",
   "execution_count": 13,
   "metadata": {},
   "outputs": [
    {
     "name": "stdout",
     "output_type": "stream",
     "text": [
      "Error cannot divide by Zero.  Error: division by zero\n"
     ]
    }
   ],
   "source": [
    "# Catch div/0 errors:\n",
    "\n",
    "try:\n",
    "    100/0\n",
    "except ZeroDivisionError as e:\n",
    "    print(f'Error cannot divide by Zero.  Error: {e}')\n"
   ]
  },
  {
   "cell_type": "code",
   "execution_count": 29,
   "metadata": {},
   "outputs": [
    {
     "name": "stdout",
     "output_type": "stream",
     "text": [
      "name 'b' is not defined\n",
      "C is 3\n"
     ]
    }
   ],
   "source": [
    "try:\n",
    "    c = a + b\n",
    "except NameError as e:\n",
    "    print(e)\n",
    "    b = 0\n",
    "    c = a + b\n",
    "    print(f'C is {c}')"
   ]
  },
  {
   "cell_type": "code",
   "execution_count": 35,
   "metadata": {},
   "outputs": [
    {
     "name": "stdout",
     "output_type": "stream",
     "text": [
      "Division error: division by zero\n"
     ]
    }
   ],
   "source": [
    "# Type Error\n",
    "\n",
    "try:\n",
    "    d = 10/0\n",
    "    print(y)\n",
    "    1 + 'hello'\n",
    "except NameError as e:\n",
    "    print(f'Name Error: {e}')\n",
    "except TypeError as e:\n",
    "    print(f'Please do not enter letters! Error = {e}')\n",
    "except ZeroDivisionError as e:\n",
    "    print(f'Division error: {e}')"
   ]
  },
  {
   "cell_type": "code",
   "execution_count": 36,
   "metadata": {},
   "outputs": [
    {
     "name": "stdout",
     "output_type": "stream",
     "text": [
      "That index does not exist.  Error:  list index out of range\n"
     ]
    }
   ],
   "source": [
    "# Index error\n",
    "\n",
    "try:\n",
    "    l1 = [1, 2, 3]\n",
    "    l1[10]\n",
    "except IndexError as e:\n",
    "    print(f'That index does not exist.  Error:  {e}')"
   ]
  },
  {
   "cell_type": "code",
   "execution_count": 37,
   "metadata": {},
   "outputs": [
    {
     "name": "stdout",
     "output_type": "stream",
     "text": [
      "The string does not have a character at that index.  Error:  string index out of range\n"
     ]
    }
   ],
   "source": [
    "try:\n",
    "    'Hello'[20]\n",
    "except IndexError as e:\n",
    "    print(f'The string does not have a character at that index.  Error:  {e}')"
   ]
  },
  {
   "cell_type": "code",
   "execution_count": 38,
   "metadata": {},
   "outputs": [
    {
     "name": "stdout",
     "output_type": "stream",
     "text": [
      "Hello\n",
      "There is a problem with your dictionary key - error:  5\n"
     ]
    }
   ],
   "source": [
    "# Key Error Exception:\n",
    "\n",
    "my_dict = {1: 'Hello', 2: True}\n",
    "\n",
    "try:\n",
    "    print(my_dict[1])\n",
    "    print(my_dict[5])\n",
    "except KeyError as e:\n",
    "    print(f'There is a problem with your dictionary key - error:  {e}')"
   ]
  },
  {
   "cell_type": "markdown",
   "metadata": {},
   "source": [
    "Lecture 108 - Catch Multiple Types of Error:"
   ]
  },
  {
   "cell_type": "code",
   "execution_count": 39,
   "metadata": {},
   "outputs": [
    {
     "name": "stdout",
     "output_type": "stream",
     "text": [
      "Dividing by zero is wrong\n"
     ]
    }
   ],
   "source": [
    "try:\n",
    "    a = 1\n",
    "    a/0\n",
    "    print(z)\n",
    "    'Hello'[10]\n",
    "except ZeroDivisionError as e:\n",
    "    print('Dividing by zero is wrong')\n",
    "except IndexError as e:\n",
    "    print(f'Error indexing - error = {e}')\n",
    "except Exception as e:\n",
    "    print(f'General Exception:  {e}')"
   ]
  },
  {
   "cell_type": "markdown",
   "metadata": {},
   "source": [
    "Lecture 109 - The finally KeyWord"
   ]
  },
  {
   "cell_type": "code",
   "execution_count": 40,
   "metadata": {},
   "outputs": [
    {
     "name": "stdout",
     "output_type": "stream",
     "text": [
      "division by zero\n",
      "Finishing up\n"
     ]
    }
   ],
   "source": [
    "# Finally allows you to run some code after the try except clause and will always run regardless of\n",
    "# the result of the try clause.\n",
    "\n",
    "try:\n",
    "    1/0\n",
    "except Exception as e:\n",
    "    print(e)\n",
    "finally:\n",
    "    print('Finishing up')"
   ]
  },
  {
   "cell_type": "code",
   "execution_count": 41,
   "metadata": {},
   "outputs": [
    {
     "name": "stdout",
     "output_type": "stream",
     "text": [
      "Finishing up\n"
     ]
    }
   ],
   "source": [
    "try:\n",
    "    1/1\n",
    "except Exception as e:\n",
    "    print(e)\n",
    "finally:\n",
    "    print('Finishing up')"
   ]
  },
  {
   "cell_type": "code",
   "execution_count": 43,
   "metadata": {},
   "outputs": [
    {
     "name": "stdout",
     "output_type": "stream",
     "text": [
      "division by zero\n",
      "Finishing up\n"
     ]
    }
   ],
   "source": [
    "try:\n",
    "    1/0\n",
    "except Exception as e:\n",
    "    print(e)\n",
    "print('Finishing up')"
   ]
  },
  {
   "cell_type": "markdown",
   "metadata": {},
   "source": [
    "### Lecture 110 - Raise Keyword"
   ]
  },
  {
   "cell_type": "code",
   "execution_count": 44,
   "metadata": {},
   "outputs": [
    {
     "name": "stdout",
     "output_type": "stream",
     "text": [
      "('Age cannot be negative', -10)\n"
     ]
    }
   ],
   "source": [
    "# Throw / Raise Exceptions of our own:\n",
    "\n",
    "try:\n",
    "    # A person's age can never be less than 0:\n",
    "    age = -10\n",
    "    if age <0:\n",
    "        raise Exception('Age cannot be negative', age)\n",
    "except Exception as e:\n",
    "    print(e)"
   ]
  },
  {
   "cell_type": "markdown",
   "metadata": {},
   "source": [
    "#### Lecture 111:  \\*Nested Multilevel Exceptions (Advanced/Optional)"
   ]
  },
  {
   "cell_type": "code",
   "execution_count": 45,
   "metadata": {},
   "outputs": [
    {
     "name": "stdout",
     "output_type": "stream",
     "text": [
      "Outer Level is running\n",
      "division by zero\n"
     ]
    }
   ],
   "source": [
    "try:\n",
    "    print('Outer Level is running')\n",
    "    try:\n",
    "        1/0\n",
    "    except ZeroDivisionError as e:\n",
    "        raise ZeroDivisionError(e)\n",
    "except Exception as e:\n",
    "    print(e)"
   ]
  },
  {
   "cell_type": "code",
   "execution_count": 48,
   "metadata": {},
   "outputs": [
    {
     "name": "stdout",
     "output_type": "stream",
     "text": [
      "Outer Level is running\n",
      "division by zero\n"
     ]
    }
   ],
   "source": [
    "try:\n",
    "    try:\n",
    "        print('Outer Level is running')\n",
    "        try:\n",
    "            1/0\n",
    "        except ZeroDivisionError as e:\n",
    "            raise ZeroDivisionError(e)\n",
    "    except Exception as e:\n",
    "        raise ZeroDivisionError(e)\n",
    "except Exception as e:\n",
    "        print(e)"
   ]
  },
  {
   "cell_type": "markdown",
   "metadata": {},
   "source": [
    "##### 112:  \\*Define Your Own Excpetions (Advanced/Optional)\n",
    "\n",
    "Suppose you are designing a beer / liquor sales system for a big retailer.  You must check if each customer meets a minimum legal age\n",
    "requirement before selling to him/her.  Let's say that 21 or older as in the US.  If customer is not 21 or older, you want to throw a custom\n",
    "exception:  'InvalidAgeError'.  How to implement this in python"
   ]
  },
  {
   "cell_type": "code",
   "execution_count": 60,
   "metadata": {},
   "outputs": [],
   "source": [
    "class InvalidAgeError(Exception):\n",
    "    def __init__(self, age):\n",
    "        self.age = age\n",
    " \n"
   ]
  },
  {
   "cell_type": "code",
   "execution_count": 61,
   "metadata": {},
   "outputs": [
    {
     "name": "stdout",
     "output_type": "stream",
     "text": [
      "Not yet legal age: 16\n"
     ]
    }
   ],
   "source": [
    "try:\n",
    "    age = 16\n",
    "    if age < 21:\n",
    "        raise InvalidAgeError(age)\n",
    "    else:\n",
    "        print('Okay to sell to this customer')\n",
    "except InvalidAgeError as e:\n",
    "    print(f'Not yet legal age: {e}')"
   ]
  },
  {
   "cell_type": "code",
   "execution_count": null,
   "metadata": {},
   "outputs": [],
   "source": []
  }
 ],
 "metadata": {
  "kernelspec": {
   "display_name": "Python 3",
   "language": "python",
   "name": "python3"
  },
  "language_info": {
   "codemirror_mode": {
    "name": "ipython",
    "version": 3
   },
   "file_extension": ".py",
   "mimetype": "text/x-python",
   "name": "python",
   "nbconvert_exporter": "python",
   "pygments_lexer": "ipython3",
   "version": "3.12.0"
  }
 },
 "nbformat": 4,
 "nbformat_minor": 2
}
