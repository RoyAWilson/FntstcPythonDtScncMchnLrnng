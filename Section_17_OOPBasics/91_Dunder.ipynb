{
 "cells": [
  {
   "cell_type": "markdown",
   "metadata": {},
   "source": [
    "### Lecture 91 Special Dunder methods (eg \\__repr__)\n",
    "\n",
    "#### 1. \\__repr__()\n",
    "#### 2. \\__str__()\n",
    "#### 3. \\__len__()"
   ]
  },
  {
   "cell_type": "code",
   "execution_count": 31,
   "metadata": {},
   "outputs": [],
   "source": [
    "class Person():\n",
    "    def __init__(self, name, age):\n",
    "        self.name = name\n",
    "        self.age = age\n",
    "        \n",
    "    def greet(self) -> str:\n",
    "        print(f'Hi, {self.name}')\n",
    "        \n",
    "    # Create a function to print a string when tony converted to str\n",
    "    def __str__(self) -> str:\n",
    "        return f'A person named {self.name}, aged {self.age}'\n",
    "    \n",
    "    # Define a function to replace repr:\n",
    "    \n",
    "    def __repr__(self) -> str:\n",
    "        return f'({self.name}, {self.age})'\n",
    "\n",
    "    def __len__(self) -> int:\n",
    "        return(self.age)\n"
   ]
  },
  {
   "cell_type": "code",
   "execution_count": 32,
   "metadata": {},
   "outputs": [
    {
     "name": "stdout",
     "output_type": "stream",
     "text": [
      "Hi, Tony\n"
     ]
    }
   ],
   "source": [
    "tony = Person('Tony', 70)\n",
    "tony.greet()"
   ]
  },
  {
   "cell_type": "code",
   "execution_count": 33,
   "metadata": {},
   "outputs": [
    {
     "data": {
      "text/plain": [
       "'A person named Tony, aged 70'"
      ]
     },
     "execution_count": 33,
     "metadata": {},
     "output_type": "execute_result"
    }
   ],
   "source": [
    "# Try converting tony to a string causes an error: '<__main__.Person object at 0x000001CC8E0BE840>'\n",
    "str(tony)"
   ]
  },
  {
   "cell_type": "code",
   "execution_count": 34,
   "metadata": {},
   "outputs": [
    {
     "data": {
      "text/plain": [
       "'(Tony, 70)'"
      ]
     },
     "execution_count": 34,
     "metadata": {},
     "output_type": "execute_result"
    }
   ],
   "source": [
    "# repr has the same problem giving an error as above.\n",
    "repr(tony)"
   ]
  },
  {
   "cell_type": "code",
   "execution_count": 35,
   "metadata": {},
   "outputs": [
    {
     "data": {
      "text/plain": [
       "70"
      ]
     },
     "execution_count": 35,
     "metadata": {},
     "output_type": "execute_result"
    }
   ],
   "source": [
    "# len will not work with a class returns error Person has no len().  As a person doesn't have a length return age instead.\n",
    "len(tony)"
   ]
  },
  {
   "cell_type": "code",
   "execution_count": null,
   "metadata": {},
   "outputs": [],
   "source": []
  }
 ],
 "metadata": {
  "kernelspec": {
   "display_name": "Python 3",
   "language": "python",
   "name": "python3"
  },
  "language_info": {
   "codemirror_mode": {
    "name": "ipython",
    "version": 3
   },
   "file_extension": ".py",
   "mimetype": "text/x-python",
   "name": "python",
   "nbconvert_exporter": "python",
   "pygments_lexer": "ipython3",
   "version": "3.12.0"
  }
 },
 "nbformat": 4,
 "nbformat_minor": 2
}
