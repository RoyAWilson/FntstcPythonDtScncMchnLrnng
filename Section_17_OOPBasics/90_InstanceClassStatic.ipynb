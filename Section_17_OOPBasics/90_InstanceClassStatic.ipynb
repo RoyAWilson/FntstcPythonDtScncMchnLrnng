{
 "cells": [
  {
   "cell_type": "markdown",
   "metadata": {},
   "source": [
    "### Lecture 90 Object/Instance Methods Vs Class Methods Vs Static Methods"
   ]
  },
  {
   "cell_type": "code",
   "execution_count": 47,
   "metadata": {},
   "outputs": [],
   "source": [
    "# Write a class to calculate the area and circumference of a sphere\n",
    "\n",
    "import math\n",
    "class Sphere():\n",
    "    \n",
    "    pi = math.pi\n",
    "    shape = 'sphere'\n",
    "    \n",
    "    def __init__(self, r) -> None:\n",
    "        self.r = r\n",
    "        \n",
    "    def area(self) -> float:\n",
    "        return 4 * math.pi * self.r ** 2\n",
    "    \n",
    "    def circum(self) -> float:\n",
    "        return 2 * math.pi * self.r\n",
    "    \n",
    "    # Example of a class method - to print the value of pi:\n",
    "    \n",
    "    @classmethod\n",
    "    def print_pi(cls) -> float:\n",
    "        print(f'The value of PI is: {cls.pi}')\n",
    "        \n",
    "    # Static Method / Variable:\n",
    "    \n",
    "    @staticmethod\n",
    "    def hello() -> str:\n",
    "        print('Hello')\n",
    "\n",
    "    # Static Methods can also have an argument:\n",
    "    \n",
    "    @staticmethod\n",
    "    def goodbye(name) -> str:\n",
    "        print(f'Goodbye {name}')\n"
   ]
  },
  {
   "cell_type": "code",
   "execution_count": 48,
   "metadata": {},
   "outputs": [],
   "source": [
    "s1 = Sphere(3.8)"
   ]
  },
  {
   "cell_type": "code",
   "execution_count": 49,
   "metadata": {},
   "outputs": [
    {
     "name": "stdout",
     "output_type": "stream",
     "text": [
      "Your sphere has an area of 181.45839167134645 and a circumference of 23.876104167282428\n"
     ]
    }
   ],
   "source": [
    "print(f'Your sphere has an area of {s1.area()} and a circumference of {s1.circum()}')"
   ]
  },
  {
   "cell_type": "code",
   "execution_count": 50,
   "metadata": {},
   "outputs": [
    {
     "name": "stdout",
     "output_type": "stream",
     "text": [
      "The value of PI is: 3.141592653589793\n"
     ]
    }
   ],
   "source": [
    "s1.print_pi()"
   ]
  },
  {
   "cell_type": "code",
   "execution_count": 51,
   "metadata": {},
   "outputs": [
    {
     "name": "stdout",
     "output_type": "stream",
     "text": [
      "The value of PI is: 3.141592653589793\n"
     ]
    }
   ],
   "source": [
    "Sphere.print_pi()"
   ]
  },
  {
   "cell_type": "code",
   "execution_count": 52,
   "metadata": {},
   "outputs": [
    {
     "data": {
      "text/plain": [
       "3.141592653589793"
      ]
     },
     "execution_count": 52,
     "metadata": {},
     "output_type": "execute_result"
    }
   ],
   "source": [
    "Sphere.pi"
   ]
  },
  {
   "cell_type": "code",
   "execution_count": 53,
   "metadata": {},
   "outputs": [
    {
     "name": "stdout",
     "output_type": "stream",
     "text": [
      "Hello\n"
     ]
    }
   ],
   "source": [
    "s1.hello()"
   ]
  },
  {
   "cell_type": "code",
   "execution_count": 54,
   "metadata": {},
   "outputs": [
    {
     "name": "stdout",
     "output_type": "stream",
     "text": [
      "Hello\n"
     ]
    }
   ],
   "source": [
    "Sphere.hello()"
   ]
  },
  {
   "cell_type": "code",
   "execution_count": 55,
   "metadata": {},
   "outputs": [],
   "source": [
    "s2 = Sphere(12)"
   ]
  },
  {
   "cell_type": "code",
   "execution_count": 56,
   "metadata": {},
   "outputs": [
    {
     "name": "stdout",
     "output_type": "stream",
     "text": [
      "Goodbye Roy\n"
     ]
    }
   ],
   "source": [
    "s2.goodbye('Roy')"
   ]
  },
  {
   "cell_type": "code",
   "execution_count": null,
   "metadata": {},
   "outputs": [],
   "source": []
  }
 ],
 "metadata": {
  "kernelspec": {
   "display_name": "Python 3",
   "language": "python",
   "name": "python3"
  },
  "language_info": {
   "codemirror_mode": {
    "name": "ipython",
    "version": 3
   },
   "file_extension": ".py",
   "mimetype": "text/x-python",
   "name": "python",
   "nbconvert_exporter": "python",
   "pygments_lexer": "ipython3",
   "version": "3.12.0"
  }
 },
 "nbformat": 4,
 "nbformat_minor": 2
}
