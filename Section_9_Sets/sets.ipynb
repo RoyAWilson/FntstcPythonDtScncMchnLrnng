{
 "cells": [
  {
   "cell_type": "markdown",
   "metadata": {},
   "source": [
    "# Section 9 Sets\n",
    "# Lecture 45 What are Sets?\n",
    "# Lecture 46 Syntax for Sets\n",
    "# Lecture 47 Modifying Sets and Other Operations"
   ]
  },
  {
   "cell_type": "markdown",
   "metadata": {},
   "source": [
    "### Example:\n",
    "### On a college campus there are 2 popular classes beloved of freshmen students: Poetry 101 and Bowling 103.  Here are\n",
    "### their enrollment:\n",
    "### Poetry 101: 'Will', 'Jill', 'Ken', 'Barbie', 'Frank'\n",
    "### Bowling 103: 'Barbie', 'Ken', 'Jill', 'Tony', 'Tom'\n",
    "### \n",
    "### How many students have enrolled in at least one of these courses, who are they?\n",
    "### How many students have enrolled in both courses, who are they?\n",
    "### How many students have enrolled in Poetry but not Bowling, who are they?\n",
    "### How many students have enrolled in Bowling but not Poetry, who are they?"
   ]
  },
  {
   "cell_type": "markdown",
   "metadata": {},
   "source": [
    "#### 46 Basic Set Syntax:"
   ]
  },
  {
   "cell_type": "code",
   "execution_count": 12,
   "metadata": {},
   "outputs": [],
   "source": [
    "set_poetry = {'Will', 'Jill', 'Ken', 'Barbie', 'Frank', 'John'}\n",
    "set_bowling = {'Barbie', 'Ken', 'Jill', 'Tony', 'Tom'}"
   ]
  },
  {
   "cell_type": "code",
   "execution_count": 13,
   "metadata": {},
   "outputs": [
    {
     "data": {
      "text/plain": [
       "({'Barbie', 'Frank', 'Jill', 'John', 'Ken', 'Will'},\n",
       " {'Barbie', 'Jill', 'Ken', 'Tom', 'Tony'})"
      ]
     },
     "execution_count": 13,
     "metadata": {},
     "output_type": "execute_result"
    }
   ],
   "source": [
    "set_poetry, set_bowling"
   ]
  },
  {
   "cell_type": "code",
   "execution_count": 15,
   "metadata": {},
   "outputs": [
    {
     "name": "stdout",
     "output_type": "stream",
     "text": [
      "Number of students in each class = 8 and their names are {'Tom', 'John', 'Will', 'Tony', 'Ken', 'Jill', 'Barbie', 'Frank'}\n"
     ]
    }
   ],
   "source": [
    "everybody = set_poetry.union(set_bowling)\n",
    "print(f'Number of students in each class = {len(everybody)} and their names are {everybody}')"
   ]
  },
  {
   "cell_type": "code",
   "execution_count": 16,
   "metadata": {},
   "outputs": [
    {
     "name": "stdout",
     "output_type": "stream",
     "text": [
      "The number of students taking both classes is: 3, their names are {'Ken', 'Barbie', 'Jill'}\n"
     ]
    }
   ],
   "source": [
    "students_both = set_bowling.intersection(set_poetry)\n",
    "print(f'The number of students taking both classes is: {len(students_both)}, their names are {students_both}')"
   ]
  },
  {
   "cell_type": "code",
   "execution_count": 10,
   "metadata": {},
   "outputs": [
    {
     "name": "stdout",
     "output_type": "stream",
     "text": [
      "The number of students enrolled in only bowling is: 2, their names are:\n",
      "{'Tony', 'Tom'}\n"
     ]
    }
   ],
   "source": [
    "enrolled_in_bowling = set_bowling.difference(set_poetry)\n",
    "print(f'The number of students enrolled in only bowling is: {len(enrolled_in_bowling)}, their names are:\\n{enrolled_in_bowling}')"
   ]
  },
  {
   "cell_type": "code",
   "execution_count": 17,
   "metadata": {},
   "outputs": [
    {
     "name": "stdout",
     "output_type": "stream",
     "text": [
      "The number of students enrolled in only Poetry is: 3, their names are:\n",
      "{'Will', 'John', 'Frank'}\n"
     ]
    }
   ],
   "source": [
    "enrolled_in_poetry = set_poetry.difference(set_bowling)\n",
    "print(f'The number of students enrolled in only Poetry is: {len(enrolled_in_poetry)}, their names are:\\n{enrolled_in_poetry}')"
   ]
  },
  {
   "cell_type": "markdown",
   "metadata": {},
   "source": [
    "### Modifying Sets and Other Operations:"
   ]
  },
  {
   "cell_type": "code",
   "execution_count": 18,
   "metadata": {},
   "outputs": [
    {
     "data": {
      "text/plain": [
       "{'Barbie', 'Jill', 'Ken', 'Mary', 'Tom', 'Tony'}"
      ]
     },
     "execution_count": 18,
     "metadata": {},
     "output_type": "execute_result"
    }
   ],
   "source": [
    "set_bowling.add('Mary')\n",
    "set_bowling"
   ]
  },
  {
   "cell_type": "code",
   "execution_count": 19,
   "metadata": {},
   "outputs": [
    {
     "data": {
      "text/plain": [
       "{'Barbie', 'Jill', 'Ken', 'Mary', 'Tony'}"
      ]
     },
     "execution_count": 19,
     "metadata": {},
     "output_type": "execute_result"
    }
   ],
   "source": [
    "set_bowling.discard('Tom')\n",
    "set_bowling"
   ]
  },
  {
   "cell_type": "code",
   "execution_count": 20,
   "metadata": {},
   "outputs": [
    {
     "data": {
      "text/plain": [
       "['Tony', 'Ken', 'Mary', 'Jill', 'Barbie']"
      ]
     },
     "execution_count": 20,
     "metadata": {},
     "output_type": "execute_result"
    }
   ],
   "source": [
    "bwoling = list(set_bowling)\n",
    "bwoling"
   ]
  },
  {
   "cell_type": "markdown",
   "metadata": {},
   "source": [
    "### Add new course Movie Studies:"
   ]
  },
  {
   "cell_type": "code",
   "execution_count": 22,
   "metadata": {},
   "outputs": [
    {
     "data": {
      "text/plain": [
       "{'Barbie', 'Ken', 'Mary', 'Tony'}"
      ]
     },
     "execution_count": 22,
     "metadata": {},
     "output_type": "execute_result"
    }
   ],
   "source": [
    "movies = {'Ken', 'Mary', 'Tony', 'Barbie', 'Ken'}\n",
    "movies"
   ]
  },
  {
   "cell_type": "code",
   "execution_count": null,
   "metadata": {},
   "outputs": [],
   "source": [
    "    "
   ]
  }
 ],
 "metadata": {
  "kernelspec": {
   "display_name": "Python 3",
   "language": "python",
   "name": "python3"
  },
  "language_info": {
   "codemirror_mode": {
    "name": "ipython",
    "version": 3
   },
   "file_extension": ".py",
   "mimetype": "text/x-python",
   "name": "python",
   "nbconvert_exporter": "python",
   "pygments_lexer": "ipython3",
   "version": "3.12.0"
  }
 },
 "nbformat": 4,
 "nbformat_minor": 2
}
