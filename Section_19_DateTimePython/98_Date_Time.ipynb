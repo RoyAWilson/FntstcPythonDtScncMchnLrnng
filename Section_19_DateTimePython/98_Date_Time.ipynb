{
 "cells": [
  {
   "cell_type": "markdown",
   "metadata": {},
   "source": [
    "# Section 19:  Date amd Time in Python\n",
    "### Lecture 98:  Basics of Date and Time\n",
    "### Lecture 99: Creating Date Objects from ISO Formats\n",
    "### Lecture 100: Convert Arbitrary Strings to Date Time\n",
    "### Lecture 101: Convert Date Time Objects to Other Things\n",
    "### Lecture 102: How to Extract Year, Month, Date from Date Time Objects\n",
    "### Lecture 103: Calculations Involving Date and Time\n",
    "###                 (Advanced/Optional)\n",
    "### Lecture 104: \\* Time Zones (Advanced/Optional)"
   ]
  },
  {
   "cell_type": "code",
   "execution_count": null,
   "metadata": {},
   "outputs": [],
   "source": []
  }
 ],
 "metadata": {
  "language_info": {
   "name": "python"
  }
 },
 "nbformat": 4,
 "nbformat_minor": 2
}
