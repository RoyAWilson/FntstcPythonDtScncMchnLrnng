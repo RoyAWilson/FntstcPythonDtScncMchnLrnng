{
 "cells": [
  {
   "cell_type": "markdown",
   "metadata": {},
   "source": [
    "# Section 13:  Challenge: Word frequencies of President Lincoln's GettysBurg Address \n",
    "\n",
    "Below is the full text of President Lincoln's Gettysburg Address as a string. \n",
    "\n",
    "1) We want to know what are the top 10 most frequently used words in this speech.\n",
    "2) How many times have each word been used?"
   ]
  },
  {
   "cell_type": "code",
   "execution_count": 2,
   "metadata": {},
   "outputs": [],
   "source": [
    "speech = \"\"\"\n",
    "Four score and seven years ago our fathers brought forth, upon this continent, a new nation, conceived in liberty, \n",
    "and dedicated to the proposition that all men are created equal. Now we are engaged in a great civil war, testing \n",
    "whether that nation, or any nation so conceived, and so dedicated, can long endure. \n",
    "We are met on a great battle field of that war. We come to dedicate a portion of it, as a final resting place for \n",
    "those who died here, that the nation might live. This we may, in all propriety do. But, in a larger sense, \n",
    "we can not dedicate we can not consecrate we can not hallow, this ground The brave men, living and dead, \n",
    "who struggled here, have hallowed it, far above our poor power to add or detract. The world will little note, \n",
    "nor long remember what we say here; while it can never forget what they did here. It is rather for us, the living, \n",
    "we here be dedicated to the great task remaining before us that, from these honored dead we take increased devotion \n",
    "to that cause for which they here, gave the last full measure of devotion that we here highly resolve \n",
    "these dead shall not have died in vain; that the nation, shall have a new birth of freedom, \n",
    "and that government of the people, by the people, for the people, shall not perish from the earth.\n",
    "\"\"\""
   ]
  },
  {
   "cell_type": "code",
   "execution_count": 3,
   "metadata": {},
   "outputs": [],
   "source": [
    "# Cleaning Task 1: get rid of punctuations:\n",
    "speech_clean = speech.replace(\"\\n\", \" \").replace(\".\", \" \").replace(\",\", \" \").replace(\";\", \" \")"
   ]
  },
  {
   "cell_type": "code",
   "execution_count": 4,
   "metadata": {},
   "outputs": [
    {
     "name": "stdout",
     "output_type": "stream",
     "text": [
      "['', 'Four', 'score', 'and', 'seven', 'years', 'ago', 'our', 'fathers', 'brought', 'forth', '', 'upon', 'this', 'continent', '', 'a', 'new', 'nation', '', 'conceived', 'in', 'liberty', '', '', 'and', 'dedicated', 'to', 'the', 'proposition', 'that', 'all', 'men', 'are', 'created', 'equal', '', 'Now', 'we', 'are', 'engaged', 'in', 'a', 'great', 'civil', 'war', '', 'testing', '', 'whether', 'that', 'nation', '', 'or', 'any', 'nation', 'so', 'conceived', '', 'and', 'so', 'dedicated', '', 'can', 'long', 'endure', '', '', 'We', 'are', 'met', 'on', 'a', 'great', 'battle', 'field', 'of', 'that', 'war', '', 'We', 'come', 'to', 'dedicate', 'a', 'portion', 'of', 'it', '', 'as', 'a', 'final', 'resting', 'place', 'for', '', 'those', 'who', 'died', 'here', '', 'that', 'the', 'nation', 'might', 'live', '', 'This', 'we', 'may', '', 'in', 'all', 'propriety', 'do', '', 'But', '', 'in', 'a', 'larger', 'sense', '', '', 'we', 'can', 'not', 'dedicate', 'we', 'can', 'not', 'consecrate', 'we', 'can', 'not', 'hallow', '', 'this', 'ground', 'The', 'brave', 'men', '', 'living', 'and', 'dead', '', '', 'who', 'struggled', 'here', '', 'have', 'hallowed', 'it', '', 'far', 'above', 'our', 'poor', 'power', 'to', 'add', 'or', 'detract', '', 'The', 'world', 'will', 'little', 'note', '', '', 'nor', 'long', 'remember', 'what', 'we', 'say', 'here', '', 'while', 'it', 'can', 'never', 'forget', 'what', 'they', 'did', 'here', '', 'It', 'is', 'rather', 'for', 'us', '', 'the', 'living', '', '', 'we', 'here', 'be', 'dedicated', 'to', 'the', 'great', 'task', 'remaining', 'before', 'us', 'that', '', 'from', 'these', 'honored', 'dead', 'we', 'take', 'increased', 'devotion', '', 'to', 'that', 'cause', 'for', 'which', 'they', 'here', '', 'gave', 'the', 'last', 'full', 'measure', 'of', 'devotion', 'that', 'we', 'here', 'highly', 'resolve', '', 'these', 'dead', 'shall', 'not', 'have', 'died', 'in', 'vain', '', 'that', 'the', 'nation', '', 'shall', 'have', 'a', 'new', 'birth', 'of', 'freedom', '', '', 'and', 'that', 'government', 'of', 'the', 'people', '', 'by', 'the', 'people', '', 'for', 'the', 'people', '', 'shall', 'not', 'perish', 'from', 'the', 'earth', '', '']\n"
     ]
    }
   ],
   "source": [
    "# Cleaning Task 2: \n",
    "words_list = speech_clean.split(\" \")\n",
    "print(words_list)"
   ]
  },
  {
   "cell_type": "code",
   "execution_count": 5,
   "metadata": {},
   "outputs": [
    {
     "name": "stdout",
     "output_type": "stream",
     "text": [
      "['Four', 'score', 'and', 'seven', 'years', 'ago', 'our', 'fathers', 'brought', 'forth', 'upon', 'this', 'continent', 'a', 'new', 'nation', 'conceived', 'in', 'liberty', 'and', 'dedicated', 'to', 'the', 'proposition', 'that', 'all', 'men', 'are', 'created', 'equal', 'Now', 'we', 'are', 'engaged', 'in', 'a', 'great', 'civil', 'war', 'testing', 'whether', 'that', 'nation', 'or', 'any', 'nation', 'so', 'conceived', 'and', 'so', 'dedicated', 'can', 'long', 'endure', 'We', 'are', 'met', 'on', 'a', 'great', 'battle', 'field', 'of', 'that', 'war', 'We', 'come', 'to', 'dedicate', 'a', 'portion', 'of', 'it', 'as', 'a', 'final', 'resting', 'place', 'for', 'those', 'who', 'died', 'here', 'that', 'the', 'nation', 'might', 'live', 'This', 'we', 'may', 'in', 'all', 'propriety', 'do', 'But', 'in', 'a', 'larger', 'sense', 'we', 'can', 'not', 'dedicate', 'we', 'can', 'not', 'consecrate', 'we', 'can', 'not', 'hallow', 'this', 'ground', 'The', 'brave', 'men', 'living', 'and', 'dead', 'who', 'struggled', 'here', 'have', 'hallowed', 'it', 'far', 'above', 'our', 'poor', 'power', 'to', 'add', 'or', 'detract', 'The', 'world', 'will', 'little', 'note', 'nor', 'long', 'remember', 'what', 'we', 'say', 'here', 'while', 'it', 'can', 'never', 'forget', 'what', 'they', 'did', 'here', 'It', 'is', 'rather', 'for', 'us', 'the', 'living', 'we', 'here', 'be', 'dedicated', 'to', 'the', 'great', 'task', 'remaining', 'before', 'us', 'that', 'from', 'these', 'honored', 'dead', 'we', 'take', 'increased', 'devotion', 'to', 'that', 'cause', 'for', 'which', 'they', 'here', 'gave', 'the', 'last', 'full', 'measure', 'of', 'devotion', 'that', 'we', 'here', 'highly', 'resolve', 'these', 'dead', 'shall', 'not', 'have', 'died', 'in', 'vain', 'that', 'the', 'nation', 'shall', 'have', 'a', 'new', 'birth', 'of', 'freedom', 'and', 'that', 'government', 'of', 'the', 'people', 'by', 'the', 'people', 'for', 'the', 'people', 'shall', 'not', 'perish', 'from', 'the', 'earth']\n"
     ]
    }
   ],
   "source": [
    "# Cleaning task 3:\n",
    "words_list_clean = [ word for word in words_list if word != \"\" ]\n",
    "print(words_list_clean)"
   ]
  },
  {
   "cell_type": "code",
   "execution_count": 6,
   "metadata": {},
   "outputs": [],
   "source": [
    "# Cleaning task 4: trim each word, and lowercase\n",
    "words_list_clean = [word.strip().lower() for word in words_list_clean ]"
   ]
  },
  {
   "cell_type": "code",
   "execution_count": 9,
   "metadata": {},
   "outputs": [
    {
     "name": "stdout",
     "output_type": "stream",
     "text": [
      "{'final', 'score', 'world', 'conceived', 'dedicated', 'nation', 'equal', 'men', 'dead', 'all', 'on', 'place', 'those', 'who', 'new', 'now', 'will', 'resolve', 'nor', 'met', 'hallowed', 'come', 'earth', 'as', 'testing', 'brave', 'people', 'measure', 'freedom', 'living', 'can', 'hallow', 'seven', 'great', 'war', 'struggled', 'created', 'above', 'and', 'little', 'of', 'dedicate', 'vain', 'here', 'any', 'task', 'four', 'liberty', 'rather', 'these', 'perish', 'ago', 'ground', 'but', 'add', 'by', 'or', 'is', 'take', 'civil', 'they', 'fathers', 'not', 'in', 'larger', 'increased', 'years', 'long', 'battle', 'we', 'continent', 'sense', 'shall', 'while', 'portion', 'full', 'may', 'remember', 'cause', 'before', 'the', 'never', 'highly', 'poor', 'upon', 'propriety', 'power', 'say', 'might', 'consecrate', 'engaged', 'so', 'far', 'forget', 'from', 'field', 'what', 'have', 'brought', 'our', 'this', 'remaining', 'be', 'live', 'do', 'proposition', 'whether', 'forth', 'died', 'us', 'last', 'birth', 'honored', 'that', 'devotion', 'a', 'gave', 'which', 'government', 'are', 'endure', 'resting', 'note', 'for', 'detract', 'to', 'it', 'did'}\n",
      "The number of unique words used in the Gettysburg address is:  128\n"
     ]
    }
   ],
   "source": [
    "# Make a set from the cleaned data to start the analysis\n",
    "speech = set(words_list_clean)\n",
    "print(speech)\n",
    "print(f'The number of unique words used in the Gettysburg address is:  {len(speech)}')"
   ]
  },
  {
   "cell_type": "code",
   "execution_count": 21,
   "metadata": {},
   "outputs": [
    {
     "name": "stdout",
     "output_type": "stream",
     "text": [
      "[12, 11, 9, 7, 7, 5, 5, 5, 5, 5, 5, 5, 4, 4, 3, 3, 3, 3, 3, 3, 3, 3, 2, 2, 2, 2, 2, 2, 2, 2, 2, 2, 2, 2, 2, 2, 2, 2, 2, 2, 2, 1, 1, 1, 1, 1, 1, 1, 1, 1, 1, 1, 1, 1, 1, 1, 1, 1, 1, 1, 1, 1, 1, 1, 1, 1, 1, 1, 1, 1, 1, 1, 1, 1, 1, 1, 1, 1, 1, 1, 1, 1, 1, 1, 1, 1, 1, 1, 1, 1, 1, 1, 1, 1, 1, 1, 1, 1, 1, 1, 1, 1, 1, 1, 1, 1, 1, 1, 1, 1, 1, 1, 1, 1, 1, 1, 1, 1, 1, 1, 1, 1, 1, 1, 1, 1, 1, 1]\n"
     ]
    }
   ],
   "source": [
    "# Find the 10 most frequently used words in the speech:\n",
    "count_words = []\n",
    "count = 0\n",
    "for words in speech:\n",
    "    count = words_list_clean.count(words)\n",
    "    count_words.append(count)\n",
    "count_words.sort(reverse=True)\n",
    "print(count_words)"
   ]
  },
  {
   "cell_type": "code",
   "execution_count": 25,
   "metadata": {},
   "outputs": [
    {
     "name": "stdout",
     "output_type": "stream",
     "text": [
      "[('a', 7), ('here', 7), ('that', 9), ('the', 12), ('we', 11)]\n"
     ]
    }
   ],
   "source": [
    "count_list = []\n",
    "for words in speech:\n",
    "    count = words_list_clean.count(words)\n",
    "    count_list.append((words, count))\n",
    "count_list.sort(reverse=False)\n",
    "\n",
    "top_10 = [item for item in count_list if item[1] > 5]\n",
    "print(top_10)\n",
    "    "
   ]
  },
  {
   "cell_type": "code",
   "execution_count": null,
   "metadata": {},
   "outputs": [],
   "source": []
  }
 ],
 "metadata": {
  "kernelspec": {
   "display_name": "Python 3",
   "language": "python",
   "name": "python3"
  },
  "language_info": {
   "codemirror_mode": {
    "name": "ipython",
    "version": 3
   },
   "file_extension": ".py",
   "mimetype": "text/x-python",
   "name": "python",
   "nbconvert_exporter": "python",
   "pygments_lexer": "ipython3",
   "version": "3.12.0"
  }
 },
 "nbformat": 4,
 "nbformat_minor": 2
}
